{
 "cells": [
  {
   "cell_type": "code",
   "execution_count": 3,
   "metadata": {
    "collapsed": true
   },
   "outputs": [],
   "source": [
    "import numpy as np\n",
    "import torch"
   ]
  },
  {
   "cell_type": "markdown",
   "metadata": {},
   "source": [
    "# Linear Regression"
   ]
  },
  {
   "cell_type": "markdown",
   "metadata": {},
   "source": [
    "## data"
   ]
  },
  {
   "cell_type": "code",
   "execution_count": 4,
   "metadata": {},
   "outputs": [],
   "source": [
    "x_train = np.array([[3.3], [4.4], [5.5], [6.71], [6.93], [4.168],\n",
    "                    [9.779], [6.182], [7.59], [2.167], [7.042],\n",
    "                    [10.791], [5.313], [7.997], [3.1]], dtype=np.float32)\n",
    "\n",
    "y_train = np.array([[1.7], [2.76], [2.09], [3.19], [1.694], [1.573],\n",
    "                    [3.366], [2.596], [2.53], [1.221], [2.827],\n",
    "                    [3.465], [1.65], [2.904], [1.3]], dtype=np.float32)"
   ]
  },
  {
   "cell_type": "code",
   "execution_count": 9,
   "metadata": {
    "scrolled": true
   },
   "outputs": [
    {
     "data": {
      "text/plain": [
       "[<matplotlib.lines.Line2D at 0x7fd75ac228d0>]"
      ]
     },
     "execution_count": 9,
     "metadata": {},
     "output_type": "execute_result"
    },
    {
     "data": {
      "image/png": "[encoded data removed]",
      "text/plain": [
       "<matplotlib.figure.Figure at 0x7fd75afe2160>"
      ]
     },
     "metadata": {},
     "output_type": "display_data"
    }
   ],
   "source": [
    "import matplotlib.pyplot as plt\n",
    "%matplotlib inline\n",
    "plt.plot(x_train, y_train, 'o')"
   ]
  },
  {
   "cell_type": "code",
   "execution_count": 18,
   "metadata": {
    "collapsed": true
   },
   "outputs": [],
   "source": [
    "x_train = torch.from_numpy(x_train)\n",
    "y_train = torch.from_numpy(y_train)"
   ]
  },
  {
   "cell_type": "markdown",
   "metadata": {},
   "source": [
    "## model"
   ]
  },
  {
   "cell_type": "code",
   "execution_count": 19,
   "metadata": {},
   "outputs": [],
   "source": [
    "import torch.nn as nn\n",
    "\n",
    "class LinearRegression(nn.Module):\n",
    "    def __init__(self):\n",
    "        super(LinearRegression, self).__init__()\n",
    "        self.linear = nn.Linear(1,1)\n",
    "    \n",
    "    def forward(self, x):\n",
    "        out = self.linear(x)\n",
    "        return out\n",
    "    \n",
    "model = LinearRegression()"
   ]
  },
  {
   "cell_type": "markdown",
   "metadata": {},
   "source": [
    "### 定义loss和optimizer"
   ]
  },
  {
   "cell_type": "code",
   "execution_count": 20,
   "metadata": {},
   "outputs": [],
   "source": [
    "from torch import optim\n",
    "criterion = nn.MSELoss()\n",
    "optimizer = optim.SGD(model.parameters(), lr=1e-4)"
   ]
  },
  {
   "cell_type": "markdown",
   "metadata": {},
   "source": [
    "## train"
   ]
  },
  {
   "cell_type": "code",
   "execution_count": 21,
   "metadata": {},
   "outputs": [
    {
     "name": "stdout",
     "output_type": "stream",
     "text": [
      "Epoch[20/1000]. loss: 0.570796\n",
      "Epoch[40/1000]. loss: 0.474146\n",
      "Epoch[60/1000]. loss: 0.405817\n",
      "Epoch[80/1000]. loss: 0.357504\n",
      "Epoch[100/1000]. loss: 0.323338\n",
      "Epoch[120/1000]. loss: 0.299169\n",
      "Epoch[140/1000]. loss: 0.282067\n",
      "Epoch[160/1000]. loss: 0.269958\n",
      "Epoch[180/1000]. loss: 0.261378\n",
      "Epoch[200/1000]. loss: 0.255293\n",
      "Epoch[220/1000]. loss: 0.250970\n",
      "Epoch[240/1000]. loss: 0.247894\n",
      "Epoch[260/1000]. loss: 0.245698\n",
      "Epoch[280/1000]. loss: 0.244125\n",
      "Epoch[300/1000]. loss: 0.242992\n",
      "Epoch[320/1000]. loss: 0.242169\n",
      "Epoch[340/1000]. loss: 0.241566\n",
      "Epoch[360/1000]. loss: 0.241119\n",
      "Epoch[380/1000]. loss: 0.240781\n",
      "Epoch[400/1000]. loss: 0.240521\n",
      "Epoch[420/1000]. loss: 0.240316\n",
      "Epoch[440/1000]. loss: 0.240150\n",
      "Epoch[460/1000]. loss: 0.240011\n",
      "Epoch[480/1000]. loss: 0.239891\n",
      "Epoch[500/1000]. loss: 0.239786\n",
      "Epoch[520/1000]. loss: 0.239690\n",
      "Epoch[540/1000]. loss: 0.239601\n",
      "Epoch[560/1000]. loss: 0.239516\n",
      "Epoch[580/1000]. loss: 0.239436\n",
      "Epoch[600/1000]. loss: 0.239357\n",
      "Epoch[620/1000]. loss: 0.239281\n",
      "Epoch[640/1000]. loss: 0.239206\n",
      "Epoch[660/1000]. loss: 0.239132\n",
      "Epoch[680/1000]. loss: 0.239058\n",
      "Epoch[700/1000]. loss: 0.238985\n",
      "Epoch[720/1000]. loss: 0.238912\n",
      "Epoch[740/1000]. loss: 0.238840\n",
      "Epoch[760/1000]. loss: 0.238768\n",
      "Epoch[780/1000]. loss: 0.238696\n",
      "Epoch[800/1000]. loss: 0.238624\n",
      "Epoch[820/1000]. loss: 0.238552\n",
      "Epoch[840/1000]. loss: 0.238481\n",
      "Epoch[860/1000]. loss: 0.238409\n",
      "Epoch[880/1000]. loss: 0.238338\n",
      "Epoch[900/1000]. loss: 0.238267\n",
      "Epoch[920/1000]. loss: 0.238195\n",
      "Epoch[940/1000]. loss: 0.238124\n",
      "Epoch[960/1000]. loss: 0.238053\n",
      "Epoch[980/1000]. loss: 0.237982\n",
      "Epoch[1000/1000]. loss: 0.237911\n"
     ]
    }
   ],
   "source": [
    "from torch.autograd import Variable\n",
    "\n",
    "num_epochs = 1000\n",
    "for epoch in range(num_epochs):\n",
    "    inputs = Variable(x_train)\n",
    "    target = Variable(y_train)\n",
    "    \n",
    "    # forward\n",
    "    out = model(inputs) # forward\n",
    "    loss = criterion(out, target) # calculate loss\n",
    "    \n",
    "    # backward\n",
    "    optimizer.zero_grad() # grad zero\n",
    "    loss.backward() # direction background\n",
    "    optimizer.step() # update parameter\n",
    "    \n",
    "    if (epoch+1)%20 == 0:\n",
    "        print('Epoch[{}/{}]. loss: {:.6f}'.format(epoch+1, num_epochs, loss.data[0]))"
   ]
  },
  {
   "cell_type": "code",
   "execution_count": 22,
   "metadata": {
    "collapsed": true
   },
   "outputs": [],
   "source": [
    "optimizer.zero_grad()"
   ]
  },
  {
   "cell_type": "markdown",
   "metadata": {},
   "source": [
    "## validation "
   ]
  },
  {
   "cell_type": "code",
   "execution_count": 40,
   "metadata": {},
   "outputs": [],
   "source": [
    "model.eval()\n",
    "predict = model(Variable(x_train))\n",
    "predict = predict.data.numpy()"
   ]
  },
  {
   "cell_type": "code",
   "execution_count": 41,
   "metadata": {},
   "outputs": [
    {
     "data": {
      "text/plain": [
       "array([[ 1.22413218],\n",
       "       [ 1.62480211],\n",
       "       [ 2.02547193],\n",
       "       [ 2.46620893],\n",
       "       [ 2.54634285],\n",
       "       [ 1.54029727],\n",
       "       [ 3.58407807],\n",
       "       [ 2.2738874 ],\n",
       "       [ 2.78674483],\n",
       "       [ 0.81144226],\n",
       "       [ 2.58713818],\n",
       "       [ 3.95269442],\n",
       "       [ 1.95735824],\n",
       "       [ 2.93499279],\n",
       "       [ 1.15128314]], dtype=float32)"
      ]
     },
     "execution_count": 41,
     "metadata": {},
     "output_type": "execute_result"
    }
   ],
   "source": [
    "predict"
   ]
  },
  {
   "cell_type": "code",
   "execution_count": 44,
   "metadata": {},
   "outputs": [
    {
     "data": {
      "text/plain": [
       "(15, 1)"
      ]
     },
     "execution_count": 44,
     "metadata": {},
     "output_type": "execute_result"
    }
   ],
   "source": [
    "np.shape(x_train.numpy())"
   ]
  },
  {
   "cell_type": "code",
   "execution_count": 54,
   "metadata": {},
   "outputs": [
    {
     "data": {
      "text/plain": [
       "[<matplotlib.lines.Line2D at 0x7fd759379ac8>]"
      ]
     },
     "execution_count": 54,
     "metadata": {},
     "output_type": "execute_result"
    },
    {
     "data": {
      "image/png": "[encoded data removed]",
      "text/plain": [
       "<matplotlib.figure.Figure at 0x7fd759379a20>"
      ]
     },
     "metadata": {},
     "output_type": "display_data"
    }
   ],
   "source": [
    "plt.plot(x_train.numpy(), y_train.numpy(), 'ro')\n",
    "plt.plot(x_train.numpy(), predict)"
   ]
  },
  {
   "cell_type": "code",
   "execution_count": null,
   "metadata": {
    "collapsed": true
   },
   "outputs": [],
   "source": []
  }
 ],
 "metadata": {
  "kernelspec": {
   "display_name": "Python 3",
   "language": "python",
   "name": "python3"
  },
  "language_info": {
   "codemirror_mode": {
    "name": "ipython",
    "version": 3
   },
   "file_extension": ".py",
   "mimetype": "text/x-python",
   "name": "python",
   "nbconvert_exporter": "python",
   "pygments_lexer": "ipython3",
   "version": "3.6.3"
  }
 },
 "nbformat": 4,
 "nbformat_minor": 2
}
