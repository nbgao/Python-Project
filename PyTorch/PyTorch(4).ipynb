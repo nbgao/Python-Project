{
 "cells": [
  {
   "cell_type": "code",
   "execution_count": 14,
   "metadata": {},
   "outputs": [],
   "source": [
    "import torch\n",
    "from torch import nn, optim\n",
    "from torch.autograd import Variable\n",
    "from torch.utils.data import DataLoader\n",
    "from torchvision import datasets\n",
    "from torchvision import transforms\n",
    "from logging import Logger"
   ]
  },
  {
   "cell_type": "code",
   "execution_count": 17,
   "metadata": {
    "collapsed": true
   },
   "outputs": [],
   "source": [
    "# 定义超参数\n",
    "batch_size = 128\n",
    "learning_rate = 1e-2\n",
    "num_epochs = 20"
   ]
  },
  {
   "cell_type": "code",
   "execution_count": 3,
   "metadata": {
    "collapsed": true
   },
   "outputs": [],
   "source": [
    "def to_np(x):\n",
    "    return x.cpu().data.numpy()"
   ]
  },
  {
   "cell_type": "markdown",
   "metadata": {},
   "source": [
    "## Load MNIST Dataset"
   ]
  },
  {
   "cell_type": "code",
   "execution_count": 6,
   "metadata": {},
   "outputs": [],
   "source": [
    "# 下载训练集 MNIST 手写数字训练集\n",
    "train_dataset = datasets.MNIST(\n",
    "    root='./data', train=True, transform=transforms.ToTensor(), download=True)\n",
    "\n",
    "test_dataset = datasets.MNIST(\n",
    "    root='./data', train=False, transform=transforms.ToTensor())\n",
    "\n",
    "train_loader = DataLoader(train_dataset, batch_size=batch_size, shuffle=True)\n",
    "test_loader = DataLoader(test_dataset, batch_size=batch_size, shuffle=False)"
   ]
  },
  {
   "cell_type": "markdown",
   "metadata": {},
   "source": [
    "## CNN model"
   ]
  },
  {
   "cell_type": "code",
   "execution_count": 7,
   "metadata": {
    "collapsed": true
   },
   "outputs": [],
   "source": [
    "class CNN(nn.Module):\n",
    "    def __init__(self, in_dim, n_class):\n",
    "        super(CNN, self).__init__()\n",
    "        self.conv = nn.Sequential(\n",
    "            nn.Conv2d(in_dim, 6, 3, stride=1, padding=1),\n",
    "            nn.ReLU(),\n",
    "            nn.MaxPool2d(2,2),\n",
    "            nn.Conv2d(6, 16, 5, stride=1, padding=0),\n",
    "            nn.ReLU(),\n",
    "            nn.MaxPool2d(2,2)\n",
    "        )\n",
    "        self.fc = nn.Sequential(\n",
    "            nn.Linear(400,120),\n",
    "            nn.Linear(120,84),\n",
    "            nn.Linear(84,n_class)\n",
    "        )\n",
    "        \n",
    "    def forward(self, x):\n",
    "        out = self.conv(x)\n",
    "        out = out.view(out.size(0), -1)\n",
    "        out = self.fc(out)\n",
    "        return out"
   ]
  },
  {
   "cell_type": "markdown",
   "metadata": {},
   "source": [
    "## Train"
   ]
  },
  {
   "cell_type": "code",
   "execution_count": 15,
   "metadata": {},
   "outputs": [],
   "source": [
    "model = CNN(1,10)\n",
    "use_gpu = torch.cuda.is_available()\n",
    "if use_gpu:\n",
    "    model = model.cuda()\n",
    "# 定义loss和optimizer\n",
    "criterion = nn.CrossEntropyLoss()\n",
    "optimizer = optim.SGD(model.parameters(), lr=learning_rate)\n",
    "logger = Logger('./logs')"
   ]
  },
  {
   "cell_type": "code",
   "execution_count": 19,
   "metadata": {},
   "outputs": [
    {
     "name": "stdout",
     "output_type": "stream",
     "text": [
      "epoch 1\n",
      "**********\n",
      "[1/20] Loss: 2.282881, Acc: 0.216667\n",
      "Finish 1 epoch, Loss: 2.218296, Acc: 0.333467\n",
      "Test Loss: 1.754201, Acc: 0.640700\n",
      "\n",
      "epoch 2\n",
      "**********\n",
      "[2/20] Loss: 0.849530, Acc: 0.783073\n",
      "Finish 2 epoch, Loss: 0.704154, Acc: 0.814500\n",
      "Test Loss: 0.383454, Acc: 0.884900\n",
      "\n",
      "epoch 3\n",
      "**********\n",
      "[3/20] Loss: 0.355583, Acc: 0.894271\n",
      "Finish 3 epoch, Loss: 0.335307, Acc: 0.899767\n",
      "Test Loss: 0.267310, Acc: 0.921700\n",
      "\n",
      "epoch 4\n",
      "**********\n",
      "[4/20] Loss: 0.265501, Acc: 0.918906\n",
      "Finish 4 epoch, Loss: 0.255169, Acc: 0.922150\n",
      "Test Loss: 0.210379, Acc: 0.934500\n",
      "\n",
      "epoch 5\n",
      "**********\n",
      "[5/20] Loss: 0.207444, Acc: 0.936693\n",
      "Finish 5 epoch, Loss: 0.202946, Acc: 0.938483\n",
      "Test Loss: 0.172802, Acc: 0.946800\n",
      "\n",
      "epoch 6\n",
      "**********\n",
      "[6/20] Loss: 0.175132, Acc: 0.947292\n",
      "Finish 6 epoch, Loss: 0.167988, Acc: 0.949467\n",
      "Test Loss: 0.142982, Acc: 0.954700\n",
      "\n",
      "epoch 7\n",
      "**********\n",
      "[7/20] Loss: 0.150699, Acc: 0.954740\n",
      "Finish 7 epoch, Loss: 0.145218, Acc: 0.956633\n",
      "Test Loss: 0.124926, Acc: 0.962400\n",
      "\n",
      "epoch 8\n",
      "**********\n",
      "[8/20] Loss: 0.131350, Acc: 0.959792\n",
      "Finish 8 epoch, Loss: 0.128731, Acc: 0.960767\n",
      "Test Loss: 0.105616, Acc: 0.969500\n",
      "\n",
      "epoch 9\n",
      "**********\n",
      "[9/20] Loss: 0.119135, Acc: 0.964297\n",
      "Finish 9 epoch, Loss: 0.116870, Acc: 0.964717\n",
      "Test Loss: 0.096909, Acc: 0.971400\n",
      "\n",
      "epoch 10\n",
      "**********\n",
      "[10/20] Loss: 0.108615, Acc: 0.967917\n",
      "Finish 10 epoch, Loss: 0.108726, Acc: 0.967967\n",
      "Test Loss: 0.099991, Acc: 0.967300\n",
      "\n",
      "epoch 11\n",
      "**********\n",
      "[11/20] Loss: 0.107986, Acc: 0.967552\n",
      "Finish 11 epoch, Loss: 0.102118, Acc: 0.969250\n",
      "Test Loss: 0.087558, Acc: 0.971700\n",
      "\n",
      "epoch 12\n",
      "**********\n",
      "[12/20] Loss: 0.098114, Acc: 0.970781\n",
      "Finish 12 epoch, Loss: 0.095684, Acc: 0.971450\n",
      "Test Loss: 0.080709, Acc: 0.974400\n",
      "\n",
      "epoch 13\n",
      "**********\n",
      "[13/20] Loss: 0.091296, Acc: 0.973073\n",
      "Finish 13 epoch, Loss: 0.091042, Acc: 0.973383\n",
      "Test Loss: 0.076883, Acc: 0.976300\n",
      "\n",
      "epoch 14\n",
      "**********\n",
      "[14/20] Loss: 0.088691, Acc: 0.973229\n",
      "Finish 14 epoch, Loss: 0.086653, Acc: 0.973767\n",
      "Test Loss: 0.079040, Acc: 0.975100\n",
      "\n",
      "epoch 15\n",
      "**********\n",
      "[15/20] Loss: 0.083684, Acc: 0.974557\n",
      "Finish 15 epoch, Loss: 0.082950, Acc: 0.975000\n",
      "Test Loss: 0.070863, Acc: 0.977100\n",
      "\n",
      "epoch 16\n",
      "**********\n",
      "[16/20] Loss: 0.080694, Acc: 0.975833\n",
      "Finish 16 epoch, Loss: 0.079896, Acc: 0.976033\n",
      "Test Loss: 0.071188, Acc: 0.977600\n",
      "\n",
      "epoch 17\n",
      "**********\n",
      "[17/20] Loss: 0.075730, Acc: 0.977760\n",
      "Finish 17 epoch, Loss: 0.076929, Acc: 0.977200\n",
      "Test Loss: 0.065525, Acc: 0.978600\n",
      "\n",
      "epoch 18\n",
      "**********\n",
      "[18/20] Loss: 0.074838, Acc: 0.978151\n",
      "Finish 18 epoch, Loss: 0.073920, Acc: 0.978117\n",
      "Test Loss: 0.066082, Acc: 0.979300\n",
      "\n",
      "epoch 19\n",
      "**********\n",
      "[19/20] Loss: 0.070071, Acc: 0.978620\n",
      "Finish 19 epoch, Loss: 0.071379, Acc: 0.978433\n",
      "Test Loss: 0.064844, Acc: 0.979300\n",
      "\n",
      "epoch 20\n",
      "**********\n",
      "[20/20] Loss: 0.071542, Acc: 0.978516\n",
      "Finish 20 epoch, Loss: 0.069375, Acc: 0.979383\n",
      "Test Loss: 0.061696, Acc: 0.979600\n",
      "\n"
     ]
    }
   ],
   "source": [
    "# 开始训练\n",
    "for epoch in range(num_epochs):\n",
    "    print('epoch {}'.format(epoch + 1))\n",
    "    print('*' * 10)\n",
    "    running_loss = 0.0\n",
    "    running_acc = 0.0\n",
    "    for i, data in enumerate(train_loader, 1):\n",
    "        img, label = data\n",
    "        if use_gpu:\n",
    "            img = img.cuda()\n",
    "            label = label.cuda()\n",
    "        img = Variable(img)\n",
    "        label = Variable(label)\n",
    "        # 向前传播\n",
    "        out = model(img)\n",
    "        loss = criterion(out, label)\n",
    "        running_loss += loss.data[0] * label.size(0)\n",
    "        _, pred = torch.max(out, 1)\n",
    "        num_correct = (pred == label).sum()\n",
    "        accuracy = (pred == label).float().mean()\n",
    "        running_acc += num_correct.data[0]\n",
    "        # 向后传播\n",
    "        optimizer.zero_grad()\n",
    "        loss.backward()\n",
    "        optimizer.step()\n",
    "        '''\n",
    "        # ========================= Log ======================\n",
    "        step = epoch * len(train_loader) + i\n",
    "        # (1) Log the scalar values\n",
    "        info = {'loss': loss.data[0], 'accuracy': accuracy.data[0]}\n",
    "\n",
    "        for tag, value in info.items():\n",
    "            logger.scalar_summary(tag, value, step)\n",
    "            \n",
    "        # (2) Log values and gradients of the parameters (histogram)\n",
    "        for tag, value in model.named_parameters():\n",
    "            tag = tag.replace('.', '/')\n",
    "            logger.histo_summary(tag, to_np(value), step)\n",
    "            logger.histo_summary(tag + '/grad', to_np(value.grad), step)\n",
    "\n",
    "        # (3) Log the images\n",
    "        info = {'images': to_np(img.view(-1, 28, 28)[:10])}\n",
    "\n",
    "        for tag, images in info.items():\n",
    "            logger.image_summary(tag, images, step)\n",
    "        '''\n",
    "        if i % 300 == 0:\n",
    "            print('[{}/{}] Loss: {:.6f}, Acc: {:.6f}'.format(\n",
    "                epoch + 1, num_epochs, running_loss / (batch_size * i),\n",
    "                running_acc / (batch_size * i)))\n",
    "    print('Finish {} epoch, Loss: {:.6f}, Acc: {:.6f}'.format(\n",
    "        epoch + 1, running_loss / (len(train_dataset)), running_acc / (len(\n",
    "            train_dataset))))\n",
    "    model.eval()\n",
    "    eval_loss = 0\n",
    "    eval_acc = 0\n",
    "    for data in test_loader:\n",
    "        img, label = data\n",
    "        if use_gpu:\n",
    "            img = Variable(img, volatile=True).cuda()\n",
    "            label = Variable(label, volatile=True).cuda()\n",
    "        else:\n",
    "            img = Variable(img, volatile=True)\n",
    "            label = Variable(label, volatile=True)\n",
    "        out = model(img)\n",
    "        loss = criterion(out, label)\n",
    "        eval_loss += loss.data[0] * label.size(0)\n",
    "        _, pred = torch.max(out, 1)\n",
    "        num_correct = (pred == label).sum()\n",
    "        eval_acc += num_correct.data[0]\n",
    "    print('Test Loss: {:.6f}, Acc: {:.6f}'.format(eval_loss / (len(\n",
    "        test_dataset)), eval_acc / (len(test_dataset))))\n",
    "    print()"
   ]
  },
  {
   "cell_type": "markdown",
   "metadata": {},
   "source": [
    "## Save model"
   ]
  },
  {
   "cell_type": "code",
   "execution_count": 20,
   "metadata": {
    "collapsed": true
   },
   "outputs": [],
   "source": [
    "# 保存模型\n",
    "torch.save(model.state_dict(), './cnn.pth')"
   ]
  },
  {
   "cell_type": "code",
   "execution_count": null,
   "metadata": {
    "collapsed": true
   },
   "outputs": [],
   "source": []
  }
 ],
 "metadata": {
  "kernelspec": {
   "display_name": "Python 3",
   "language": "python",
   "name": "python3"
  },
  "language_info": {
   "codemirror_mode": {
    "name": "ipython",
    "version": 3
   },
   "file_extension": ".py",
   "mimetype": "text/x-python",
   "name": "python",
   "nbconvert_exporter": "python",
   "pygments_lexer": "ipython3",
   "version": "3.6.3"
  }
 },
 "nbformat": 4,
 "nbformat_minor": 2
}
