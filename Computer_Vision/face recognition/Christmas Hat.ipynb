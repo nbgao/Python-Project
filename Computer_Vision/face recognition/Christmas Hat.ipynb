{
 "cells": [
  {
   "cell_type": "code",
   "execution_count": 17,
   "metadata": {},
   "outputs": [
    {
     "name": "stdout",
     "output_type": "stream",
     "text": [
      "image path:5.jpg\n",
      "Found 42 face(s) in this photograph.\n",
      "A face is located at pixel location Top:975, Left:1730, Bottom:1114, Right:1859\n",
      "A face is located at pixel location Top:364, Left:648, Bottom:528, Right:803\n",
      "A face is located at pixel location Top:1516, Left:1164, Bottom:1681, Right:1319\n",
      "A face is located at pixel location Top:966, Left:1457, Bottom:1130, Right:1612\n",
      "A face is located at pixel location Top:656, Left:356, Bottom:821, Right:511\n",
      "A face is located at pixel location Top:1261, Left:1457, Bottom:1400, Right:1586\n",
      "A face is located at pixel location Top:1516, Left:614, Bottom:1681, Right:769\n",
      "A face is located at pixel location Top:948, Left:356, Bottom:1113, Right:511\n",
      "A face is located at pixel location Top:1241, Left:631, Bottom:1406, Right:786\n",
      "A face is located at pixel location Top:1516, Left:2007, Bottom:1681, Right:2162\n",
      "A face is located at pixel location Top:1224, Left:855, Bottom:1388, Right:1010\n",
      "A face is located at pixel location Top:401, Left:1429, Bottom:540, Right:1558\n",
      "A face is located at pixel location Top:1241, Left:1715, Bottom:1406, Right:1869\n",
      "A face is located at pixel location Top:381, Left:356, Bottom:546, Right:511\n",
      "A face is located at pixel location Top:387, Left:1171, Bottom:526, Right:1300\n",
      "A face is located at pixel location Top:948, Left:1990, Bottom:1113, Right:2145\n",
      "A face is located at pixel location Top:1241, Left:1990, Bottom:1406, Right:2145\n",
      "A face is located at pixel location Top:948, Left:2265, Bottom:1113, Right:2420\n",
      "A face is located at pixel location Top:989, Left:1171, Bottom:1128, Right:1300\n",
      "A face is located at pixel location Top:673, Left:64, Bottom:838, Right:218\n",
      "A face is located at pixel location Top:688, Left:1171, Bottom:827, Right:1300\n",
      "A face is located at pixel location Top:1247, Left:1185, Bottom:1386, Right:1314\n",
      "A face is located at pixel location Top:1516, Left:1474, Bottom:1681, Right:1629\n",
      "A face is located at pixel location Top:416, Left:81, Bottom:555, Right:210\n",
      "A face is located at pixel location Top:948, Left:597, Bottom:1113, Right:752\n",
      "A face is located at pixel location Top:387, Left:898, Bottom:526, Right:1027\n",
      "A face is located at pixel location Top:1519, Left:1758, Bottom:1658, Right:1887\n",
      "A face is located at pixel location Top:1516, Left:889, Bottom:1681, Right:1044\n",
      "A face is located at pixel location Top:401, Left:2274, Bottom:540, Right:2403\n",
      "A face is located at pixel location Top:1241, Left:356, Bottom:1406, Right:511\n",
      "A face is located at pixel location Top:673, Left:889, Bottom:838, Right:1044\n",
      "A face is located at pixel location Top:673, Left:1474, Bottom:838, Right:1629\n",
      "A face is located at pixel location Top:1261, Left:96, Bottom:1400, Right:225\n",
      "A face is located at pixel location Top:673, Left:2248, Bottom:838, Right:2403\n",
      "A face is located at pixel location Top:401, Left:1730, Bottom:540, Right:1859\n",
      "A face is located at pixel location Top:688, Left:640, Bottom:827, Right:769\n",
      "A face is located at pixel location Top:1258, Left:2282, Bottom:1423, Right:2437\n",
      "A face is located at pixel location Top:688, Left:1701, Bottom:827, Right:1830\n",
      "A face is located at pixel location Top:989, Left:81, Bottom:1128, Right:210\n",
      "A face is located at pixel location Top:398, Left:2007, Bottom:563, Right:2162\n",
      "A face is located at pixel location Top:960, Left:898, Bottom:1099, Right:1027\n",
      "A face is located at pixel location Top:666, Left:1996, Bottom:861, Right:2182\n"
     ]
    }
   ],
   "source": [
    "from PIL import Image\n",
    "import face_recognition\n",
    "\n",
    "img_path = input(\"image path:\")\n",
    "\n",
    "image = face_recognition.load_image_file(img_path)\n",
    "face_locations = face_recognition.face_locations(image)\n",
    "print('Found {} face(s) in this photograph.'.format(len(face_locations)))\n",
    "\n",
    "human_img = Image.open(img_path)\n",
    "human_img = human_img.convert(\"RGBA\")\n",
    "\n",
    "hat_img = Image.open('./hat.png')\n",
    "hat_img = hat_img.convert(\"RGBA\")\n",
    "\n",
    "for face_location in face_locations:\n",
    "    top, right, bottom, left = face_location\n",
    "    top -= 10\n",
    "    print('A face is located at pixel location Top:{}, Left:{}, Bottom:{}, Right:{}'.format(top, left, bottom, right))\n",
    "    \n",
    "    head_h = bottom - top\n",
    "    head_l = right - left\n",
    "    \n",
    "    hat_img = hat_img.resize((head_l, head_h))\n",
    "    hat_region = hat_img\n",
    "    \n",
    "    human_region = (left, top-head_h, right, top)\n",
    "    human_img.paste(hat_region, human_region, mask=hat_img)\n",
    "\n",
    "human_img.save(img_path[:img_path.find('.')] + '_hat.jpg')\n",
    "human_img.show()\n"
   ]
  },
  {
   "cell_type": "code",
   "execution_count": null,
   "metadata": {
    "collapsed": true
   },
   "outputs": [],
   "source": []
  }
 ],
 "metadata": {
  "kernelspec": {
   "display_name": "Python 3",
   "language": "python",
   "name": "python3"
  },
  "language_info": {
   "codemirror_mode": {
    "name": "ipython",
    "version": 3
   },
   "file_extension": ".py",
   "mimetype": "text/x-python",
   "name": "python",
   "nbconvert_exporter": "python",
   "pygments_lexer": "ipython3",
   "version": "3.6.3"
  }
 },
 "nbformat": 4,
 "nbformat_minor": 2
}
