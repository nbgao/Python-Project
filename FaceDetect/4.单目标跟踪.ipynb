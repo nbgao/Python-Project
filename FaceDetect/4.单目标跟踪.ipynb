{
 "cells": [
  {
   "cell_type": "code",
   "execution_count": 5,
   "metadata": {},
   "outputs": [
    {
     "name": "stdout",
     "output_type": "stream",
     "text": [
      "True\n",
      "True\n",
      "True\n",
      "True\n",
      "True\n",
      "True\n",
      "True\n",
      "True\n",
      "True\n",
      "True\n",
      "True\n",
      "True\n",
      "True\n",
      "True\n",
      "True\n",
      "True\n",
      "True\n",
      "True\n",
      "True\n",
      "True\n",
      "True\n",
      "True\n",
      "True\n",
      "True\n",
      "True\n",
      "True\n",
      "True\n",
      "True\n",
      "True\n",
      "True\n",
      "True\n",
      "True\n",
      "True\n",
      "True\n",
      "True\n",
      "True\n"
     ]
    }
   ],
   "source": [
    "import sys\n",
    "import dlib\n",
    "import cv2\n",
    "\n",
    "tracker = dlib.correlation_tracker()   # 导入correlation_tracker()类\n",
    "cap = cv2.VideoCapture(0)   # OpenCV打开摄像头\n",
    "start_flag = True   # 标记，是否是第一帧，若在第一帧需要先初始化\n",
    "selection = None   # 实时跟踪鼠标的跟踪区域\n",
    "track_window = None   # 要检测的物体所在区域\n",
    "drag_start = None   # 标记，是否开始拖动鼠标\n",
    "\n",
    "# 鼠标点击事件回调函数\n",
    "def onMouseClicked(event, x, y, flags, param):\n",
    "    global selection, track_window, drag_start  # 定义全局变量\n",
    "    if event == cv2.EVENT_LBUTTONDOWN:  # 鼠标左键按下\n",
    "        drag_start = (x, y)\n",
    "        track_window = None\n",
    "    if drag_start:   # 是否开始拖动鼠标，记录鼠标位置\n",
    "        xMin = min(x, drag_start[0])\n",
    "        yMin = min(y, drag_start[1])\n",
    "        xMax = max(x, drag_start[0])\n",
    "        yMax = max(y, drag_start[1])\n",
    "        selection = (xMin, yMin, xMax, yMax)\n",
    "    if event == cv2.EVENT_LBUTTONUP:   # 鼠标左键松开\n",
    "        drag_start = None\n",
    "        track_window = selection\n",
    "        selection = None\n",
    "\n",
    "if __name__ == '__main__':\n",
    "    cv2.namedWindow(\"image\", cv2.WINDOW_AUTOSIZE)\n",
    "    cv2.setMouseCallback(\"image\", onMouseClicked)\n",
    "\n",
    "    # opencv的bgr格式图片转换成rgb格式\n",
    "    # b, g, r = cv2.split(frame)\n",
    "    # frame2 = cv2.merge([r, g, b])\n",
    "\n",
    "    while(1):\n",
    "        ret, frame = cap.read()   # 从摄像头读入1帧\n",
    "        if start_flag == True:   # 如果是第一帧，需要先初始化\n",
    "            # 这里是初始化，窗口中会停在当前帧，用鼠标拖拽一个框来指定区域，随后会跟踪这个目标；我们需要先找到目标才能跟踪不是吗？\n",
    "            while True:\n",
    "\n",
    "                img_first = frame.copy()   # 不改变原来的帧，拷贝一个新的出来\n",
    "                if track_window:  # 跟踪目标的窗口画出来了，就实时标出来\n",
    "                    cv2.rectangle(img_first, (track_window[0], track_window[1]), (track_window[2], track_window[3]), (0,0,255), 1)\n",
    "                elif selection:   # 跟踪目标的窗口随鼠标拖动实时显示\n",
    "                    cv2.rectangle(img_first, (selection[0], selection[1]), (selection[2], selection[3]), (0,0,255), 1)\n",
    "                cv2.imshow(\"image\", img_first)\n",
    "                # 按下回车，退出循环\n",
    "                if cv2.waitKey(5) == 13:\n",
    "                    break\n",
    "            start_flag = False   # 初始化完毕，不再是第一帧了\n",
    "            tracker.start_track(frame, dlib.rectangle(track_window[0], track_window[1], track_window[2], track_window[3]))   # 跟踪目标，目标就是选定目标窗口中的\n",
    "        else:\n",
    "            tracker.update(frame)  # 更新，实时跟踪\n",
    "\n",
    "        box_predict = tracker.get_position()  # 得到目标的位置\n",
    "        cv2.rectangle(frame,(int(box_predict.left()),int(box_predict.top())),(int(box_predict.right()),int(box_predict.bottom())),(0,255,255),1)  # 用矩形框标注出来\n",
    "        cv2.imshow(\"image\", frame)\n",
    "        # 如果按下ESC键，就退出\n",
    "        if cv2.waitKey(10) == 27:\n",
    "            break\n",
    "\n",
    "    cap.release()\n",
    "    cv2.destroyAllWindows()"
   ]
  },
  {
   "cell_type": "code",
   "execution_count": null,
   "metadata": {
    "collapsed": true
   },
   "outputs": [],
   "source": []
  },
  {
   "cell_type": "code",
   "execution_count": null,
   "metadata": {
    "collapsed": true
   },
   "outputs": [],
   "source": []
  }
 ],
 "metadata": {
  "kernelspec": {
   "display_name": "Python 3",
   "language": "python",
   "name": "python3"
  },
  "language_info": {
   "codemirror_mode": {
    "name": "ipython",
    "version": 3
   },
   "file_extension": ".py",
   "mimetype": "text/x-python",
   "name": "python",
   "nbconvert_exporter": "python",
   "pygments_lexer": "ipython3",
   "version": "3.6.3"
  }
 },
 "nbformat": 4,
 "nbformat_minor": 2
}
