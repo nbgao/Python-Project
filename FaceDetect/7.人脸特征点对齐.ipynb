{
 "cells": [
  {
   "cell_type": "code",
   "execution_count": 2,
   "metadata": {},
   "outputs": [
    {
     "name": "stdout",
     "output_type": "stream",
     "text": [
      "D:\\Project\\Python\\FaceDetect/model/shape_predictor_68_face_landmarks.dat\n",
      "D:\\Project\\Python\\FaceDetect/image/test0_0.jpg\n"
     ]
    }
   ],
   "source": [
    "import cv2\n",
    "import dlib\n",
    "import sys\n",
    "import numpy as np\n",
    "import os\n",
    "\n",
    "# 获取当前路径\n",
    "current_path = os.getcwd()\n",
    "# 指定你存放的模型的路径，我使用的是检测68个特征点的那个模型，\n",
    "# predicter_path = current_path + '/model/shape_predictor_5_face_landmarks.dat'# 检测人脸特征点的模型放在当前文件夹中\n",
    "predicter_path = current_path + '/model/shape_predictor_68_face_landmarks.dat'\n",
    "face_file_path = current_path + '/image/test0_0.jpg'# 要使用的图片，图片放在当前文件夹中\n",
    "print(predicter_path)\n",
    "print(face_file_path)\n",
    "\n",
    "# 导入人脸检测模型\n",
    "detector = dlib.get_frontal_face_detector()\n",
    "# 导入检测人脸特征点的模型\n",
    "sp = dlib.shape_predictor(predicter_path)\n",
    "\n",
    "# 读入图片\n",
    "bgr_img = cv2.imread(face_file_path)\n",
    "if bgr_img is None:\n",
    "    print(\"Sorry, we could not load '{}' as an image\".format(face_file_path))\n",
    "    exit()\n",
    "\n",
    "# opencv的颜色空间是BGR，需要转为RGB才能用在dlib中\n",
    "rgb_img = cv2.cvtColor(bgr_img, cv2.COLOR_BGR2RGB)\n",
    "# 检测图片中的人脸\n",
    "dets = detector(rgb_img, 1)\n",
    "# 检测到的人脸数量\n",
    "num_faces = len(dets)\n",
    "if num_faces == 0:\n",
    "    print(\"Sorry, there were no faces found in '{}'\".format(face_file_path))\n",
    "    exit()\n",
    "\n",
    "# 识别人脸特征点，并保存下来\n",
    "faces = dlib.full_object_detections()\n",
    "for det in dets:\n",
    "    faces.append(sp(rgb_img, det))\n",
    "\n",
    "# 人脸对齐\n",
    "images = dlib.get_face_chips(rgb_img, faces, size=320)\n",
    "# 显示计数，按照这个计数创建窗口\n",
    "image_cnt = 0\n",
    "# 显示对齐结果\n",
    "for image in images:\n",
    "    image_cnt += 1\n",
    "    cv_rgb_image = np.array(image).astype(np.uint8)# 先转换为numpy数组\n",
    "    cv_bgr_image = cv2.cvtColor(cv_rgb_image, cv2.COLOR_RGB2BGR)# opencv下颜色空间为bgr，所以从rgb转换为bgr\n",
    "    cv2.imshow('%s'%(image_cnt), cv_bgr_image)\n",
    "\n",
    "cv2.waitKey(0)\n",
    "cv2.destroyAllWindows()"
   ]
  },
  {
   "cell_type": "code",
   "execution_count": null,
   "metadata": {
    "collapsed": true
   },
   "outputs": [],
   "source": []
  }
 ],
 "metadata": {
  "kernelspec": {
   "display_name": "Python 3",
   "language": "python",
   "name": "python3"
  },
  "language_info": {
   "codemirror_mode": {
    "name": "ipython",
    "version": 3
   },
   "file_extension": ".py",
   "mimetype": "text/x-python",
   "name": "python",
   "nbconvert_exporter": "python",
   "pygments_lexer": "ipython3",
   "version": "3.6.3"
  }
 },
 "nbformat": 4,
 "nbformat_minor": 2
}
