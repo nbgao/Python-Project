{
 "cells": [
  {
   "cell_type": "code",
   "execution_count": null,
   "metadata": {
    "collapsed": true
   },
   "outputs": [],
   "source": [
    "import sys\n",
    "import dlib\n",
    "import cv2\n",
    "import os\n",
    "\n",
    "current_path = os.getcwd()  # 获取当前路径\n",
    "predictor_path = current_path + \"\\\\model\\\\shape_predictor_68_face_landmarks.dat\"  # shape_predictor_68_face_landmarks.dat是进行人脸标定的模型，它是基于HOG特征的，这里是他所在的路径\n",
    "face_directory_path = current_path + \"\\\\image\\\\\"    # 存放人脸图片的路径\n",
    "\n",
    "detector = dlib.get_frontal_face_detector() #获取人脸分类器\n",
    "predictor = dlib.shape_predictor(predictor_path)    # 获取人脸检测器\n",
    "\n",
    "# 传入的命令行参数\n",
    "for f in sys.argv[1:]:\n",
    "    # 图片路径，目录+文件名\n",
    "    face_path = face_directory_path + f\n",
    "\n",
    "    # opencv 读取图片，并显示\n",
    "    img = cv2.imread(f, cv2.IMREAD_COLOR)\n",
    "\n",
    "    # 摘自官方文档：\n",
    "    # image is a numpy ndarray containing either an 8bit grayscale or RGB image.\n",
    "    # opencv读入的图片默认是bgr格式，我们需要将其转换为rgb格式；都是numpy的ndarray类。\n",
    "    b, g, r = cv2.split(img)    # 分离三个颜色通道\n",
    "    img2 = cv2.merge([r, g, b])   # 融合三个颜色通道生成新图片\n",
    "\n",
    "    dets = detector(img, 1) #使用detector进行人脸检测 dets为返回的结果\n",
    "    print(\"Number of faces detected: {}\".format(len(dets)))   # 打印识别到的人脸个数\n",
    "    # enumerate是一个Python的内置方法，用于遍历索引\n",
    "    # index是序号；face是dets中取出的dlib.rectangle类的对象，包含了人脸的区域等信息\n",
    "    # left()、top()、right()、bottom()都是dlib.rectangle类的方法，对应矩形四条边的位置\n",
    "    for index, face in enumerate(dets):\n",
    "        print('face {}; left {}; top {}; right {}; bottom {}'.format(index, face.left(), face.top(), face.right(), face.bottom()))\n",
    "\n",
    "        # 这里不需要画出人脸的框了\n",
    "        # left = face.left()\n",
    "        # top = face.top()\n",
    "        # right = face.right()\n",
    "        # bottom = face.bottom()\n",
    "        # cv2.rectangle(img, (left, top), (right, bottom), (0, 255, 0), 3)\n",
    "        # cv2.namedWindow(f, cv2.WINDOW_AUTOSIZE)\n",
    "        # cv2.imshow(f, img)\n",
    "\n",
    "        shape = predictor(img, face)  # 寻找人脸的68个标定点 \n",
    "        # print(shape)\n",
    "        # print(shape.num_parts)\n",
    "        # 遍历所有点，打印出其坐标，并用蓝色的圈表示出来\n",
    "        for index, pt in enumerate(shape.parts()):\n",
    "            print('Part {}: {}'.format(index, pt))\n",
    "            pt_pos = (pt.x, pt.y)\n",
    "            cv2.circle(img, pt_pos, 2, (255, 0, 0), 1)\n",
    "\n",
    "        # 在新窗口中显示\n",
    "        cv2.namedWindow(f, cv2.WINDOW_AUTOSIZE)\n",
    "        cv2.imshow(f, img)\n",
    "\n",
    "# 等待按键，随后退出，销毁窗口\n",
    "k = cv2.waitKey(0)\n",
    "cv2.destroyAllWindows()"
   ]
  }
 ],
 "metadata": {
  "kernelspec": {
   "display_name": "Python 3",
   "language": "python",
   "name": "python3"
  },
  "language_info": {
   "codemirror_mode": {
    "name": "ipython",
    "version": 3
   },
   "file_extension": ".py",
   "mimetype": "text/x-python",
   "name": "python",
   "nbconvert_exporter": "python",
   "pygments_lexer": "ipython3",
   "version": "3.6.3"
  }
 },
 "nbformat": 4,
 "nbformat_minor": 2
}
