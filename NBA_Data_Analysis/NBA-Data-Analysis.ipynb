{
 "cells": [
  {
   "cell_type": "markdown",
   "metadata": {},
   "source": [
    "## 1. 导入相关模块"
   ]
  },
  {
   "cell_type": "code",
   "execution_count": 1,
   "metadata": {
    "collapsed": true
   },
   "outputs": [],
   "source": [
    "import pandas as pd\n",
    "import numpy as np\n",
    "import math\n",
    "import csv\n",
    "import random\n",
    "from sklearn import linear_model\n",
    "from sklearn.model_selection import cross_val_score"
   ]
  },
  {
   "cell_type": "markdown",
   "metadata": {},
   "source": [
    "## 2. 设置回归训练时的参数变量"
   ]
  },
  {
   "cell_type": "code",
   "execution_count": 2,
   "metadata": {
    "collapsed": true
   },
   "outputs": [],
   "source": [
    "# 当每支队伍没有Elo等级分时，赋予其基础Elo等级分\n",
    "base_elo = 1600\n",
    "team_elos = {}\n",
    "team_stats = {}\n",
    "X = []\n",
    "y = []\n",
    "folder = 'data'    # 存放数据的目录"
   ]
  },
  {
   "cell_type": "markdown",
   "metadata": {},
   "source": [
    "## 3. 数据清洗 & 属性列连接"
   ]
  },
  {
   "cell_type": "code",
   "execution_count": 4,
   "metadata": {},
   "outputs": [],
   "source": [
    "# 根据每支队伍的Miscellaneous Opponent Team 统计数据csv文件进行初始化\n",
    "def initialize_data(Mstat, Ostat, Tstat):\n",
    "    new_Mstat = Mstat.drop(['Rk', 'Arena'], axis=1)\n",
    "    new_Ostat = Ostat.drop(['Rk', 'G', 'MP'], axis=1)\n",
    "    new_Tstat = Tstat.drop(['Rk', 'G', 'MP'], axis=1)\n",
    "    \n",
    "    team_stats1 = pd.merge(new_Mstat, new_Ostat, how='left', on='Team')\n",
    "    team_stats1 = pd.merge(team_stats1, new_Tstat, how='left', on='Team')\n",
    "    \n",
    "    return team_stats1.set_index('Team', inplace=False, drop=True)"
   ]
  },
  {
   "cell_type": "markdown",
   "metadata": {},
   "source": [
    "## 4. 初始elo赋值函数"
   ]
  },
  {
   "cell_type": "code",
   "execution_count": 6,
   "metadata": {},
   "outputs": [],
   "source": [
    "def get_elo(team):\n",
    "    try:\n",
    "        return team_elos[team]\n",
    "    except:\n",
    "        # 当最初没有elo时，给每个队伍最初赋值base_elo\n",
    "        team_elos[team] = base_elo\n",
    "        return team_elos[team]"
   ]
  },
  {
   "cell_type": "markdown",
   "metadata": {},
   "source": [
    "## 5. 定义Elo等级分函数"
   ]
  },
  {
   "cell_type": "code",
   "execution_count": 14,
   "metadata": {
    "collapsed": true
   },
   "outputs": [],
   "source": [
    "# 计算每个球队的elo值\n",
    "def calc_elo(win_team, lose_team):\n",
    "    winner_rank = get_elo(win_team)\n",
    "    loser_rank = get_elo(lose_team)\n",
    "    \n",
    "    rank_diff = winner_rank - loser_rank\n",
    "    exp = - rank_diff/400\n",
    "    odds = 1/(1 + math.pow(10,exp))\n",
    "    \n",
    "    # 根据rank级别修改K值\n",
    "    if winner_rank < 2100:\n",
    "        k = 32\n",
    "    elif winner_rank >=  2100 and winner_rank < 2400:\n",
    "        k = 24\n",
    "    else:\n",
    "        k = 16\n",
    "    \n",
    "    new_winner_rank = round(winner_rank + (k*(1-odds)))\n",
    "    new_rank_diff = new_winner_rank - winner_rank\n",
    "    new_loser_rank = loser_rank - new_rank_diff\n",
    "    \n",
    "    return new_winner_rank, new_loser_rank"
   ]
  },
  {
   "cell_type": "markdown",
   "metadata": {},
   "source": [
    "## 6. 建立数据集"
   ]
  },
  {
   "cell_type": "code",
   "execution_count": 27,
   "metadata": {},
   "outputs": [],
   "source": [
    "def build_dataSet(all_data):\n",
    "    print(\"Building data set ...\")\n",
    "    X = []\n",
    "    y = []\n",
    "    skip = 0\n",
    "    for index, row in all_data.iterrows():\n",
    "        Wteam = row['WTeam']\n",
    "        Lteam = row['LTeam']\n",
    "        \n",
    "        # 获取最初的elo或是每个队伍最初的elo值\n",
    "        team1_elo = get_elo(Wteam)\n",
    "        team2_elo = get_elo(Lteam)\n",
    "        \n",
    "        # 给主场比赛的队伍加上100的elo值\n",
    "        if row['WLoc'] == 'H':\n",
    "            team1_elo += 100\n",
    "        else:\n",
    "            team2_elo += 100\n",
    "            \n",
    "        # 把elo当为评价每个队伍的第一个特征值\n",
    "        team1_features = [team1_elo]\n",
    "        team2_features = [team2_elo]\n",
    "        \n",
    "        \n",
    "        # 添加我们从basketball reference.com获得的每个队伍的统计信息\n",
    "        for key, value in team_stats.loc[Wteam].iteritems():\n",
    "            team1_features.append(value)\n",
    "        for key, value in team_stats.loc[Lteam].iteritems():\n",
    "            team2_features.append(value)\n",
    "            \n",
    "        # 将两支队伍的特征值随机分配在每场比赛数据的左右两侧，并将对应的0/1赋给y\n",
    "        if random.random() > 0.5:\n",
    "            X.append(team1_features + team2_features)\n",
    "            y.append(0)\n",
    "        else:\n",
    "            X.append(team2_features + team1_features)\n",
    "            y.append(1)\n",
    "        \n",
    "        if skip == 0:\n",
    "            print(X)\n",
    "            skip = 1\n",
    "        \n",
    "        # 根据这场比赛的数据更新队伍的elo值\n",
    "        new_winner_rank, new_loser_rank = calc_elo(Wteam, Lteam)\n",
    "        team_elos[Wteam] = new_winner_rank\n",
    "        team_elos[Lteam] = new_loser_rank\n",
    "        \n",
    "    return np.nan_to_num(X), y"
   ]
  },
  {
   "cell_type": "markdown",
   "metadata": {},
   "source": [
    "## 7. main 函数调用，建立Logistic Regression回归模型"
   ]
  },
  {
   "cell_type": "code",
   "execution_count": 28,
   "metadata": {},
   "outputs": [
    {
     "name": "stdout",
     "output_type": "stream",
     "text": [
      "Building data set ...\n",
      "[[1665, 28.199999999999999, 48.0, 34.0, 51.0, 31.0, 3.6099999999999999, -0.12, 3.4900000000000002, 105.09999999999999, 101.40000000000001, 97.099999999999994, 0.23699999999999999, 0.33600000000000002, 0.55200000000000005, 0.51600000000000001, 13.800000000000001, 19.100000000000001, 0.185, 0.47999999999999998, 14.4, 74.599999999999994, 0.19399999999999998, 690150.0, 37.100000000000001, 86.099999999999994, 0.43200000000000005, 8.3000000000000007, 24.5, 0.33799999999999997, 28.899999999999999, 61.600000000000001, 0.46899999999999997, 16.699999999999999, 22.100000000000001, 0.755, 11.5, 35.0, 46.5, 22.0, 8.5999999999999996, 5.0, 16.100000000000001, 18.300000000000001, 99.200000000000003, 38.600000000000001, 84.400000000000006, 0.45799999999999996, 9.9000000000000004, 28.399999999999999, 0.34999999999999998, 28.699999999999999, 56.100000000000001, 0.51200000000000001, 15.6, 20.0, 0.78299999999999992, 8.3000000000000007, 33.799999999999997, 42.100000000000001, 25.600000000000001, 9.0999999999999996, 5.9000000000000004, 15.0, 19.100000000000001, 102.8, 1565, 27.199999999999999, 32.0, 50.0, 33.0, 49.0, -2.73, 0.0, -2.7400000000000002, 104.59999999999999, 107.59999999999999, 93.400000000000006, 0.255, 0.25600000000000001, 0.52700000000000002, 0.48299999999999998, 12.6, 23.699999999999999, 0.20499999999999999, 0.48700000000000004, 10.5, 75.799999999999997, 0.20399999999999999, 812292.0, 38.0, 85.799999999999997, 0.44299999999999995, 7.5999999999999996, 22.399999999999999, 0.34100000000000003, 30.300000000000001, 63.399999999999999, 0.47899999999999998, 17.5, 23.199999999999999, 0.754, 10.9, 33.299999999999997, 44.200000000000003, 20.800000000000001, 7.2000000000000002, 4.2000000000000002, 11.300000000000001, 18.5, 101.09999999999999, 36.899999999999999, 84.0, 0.439, 7.4000000000000004, 21.5, 0.34600000000000003, 29.399999999999999, 62.5, 0.47100000000000003, 17.199999999999999, 21.399999999999999, 0.80500000000000005, 10.4, 34.0, 44.399999999999999, 20.5, 5.7000000000000002, 5.7000000000000002, 13.4, 19.699999999999999, 98.400000000000006]]\n",
      "Fitting on 1316 game samples ...\n",
      "Doing cross-validation ...\n",
      "0.68244683534\n"
     ]
    }
   ],
   "source": [
    "if __name__ == '__main__':\n",
    "    Mstat = pd.read_csv(folder + '/15-16Miscellaneous_Stat.csv')\n",
    "    Ostat = pd.read_csv(folder + '/15-16Opponent_Per_Game_Stat.csv')\n",
    "    Tstat = pd.read_csv(folder + '/15-16Team_per_Game_Stat.csv')\n",
    "    \n",
    "    team_stats = initialize_data(Mstat, Ostat, Tstat)\n",
    "    result_data = pd.read_csv(folder + '/2015-2016_result.csv')\n",
    "    \n",
    "    X, y = build_dataSet(result_data)\n",
    "    \n",
    "    # 训练网络模型\n",
    "    print(\"Fitting on %d game samples ...\" % len(X))\n",
    "    \n",
    "    model = linear_model.LogisticRegression()\n",
    "    model.fit(X, y)\n",
    "    \n",
    "    # 利用10折交叉验证计算训练正确率\n",
    "    print(\"Doing cross-validation ...\")\n",
    "    print(cross_val_score(model, X, y, cv=10, scoring='accuracy', n_jobs=-1).mean())\n",
    "    "
   ]
  },
  {
   "cell_type": "markdown",
   "metadata": {},
   "source": [
    "## 8. 比赛胜率预测函数"
   ]
  },
  {
   "cell_type": "code",
   "execution_count": 35,
   "metadata": {
    "collapsed": true
   },
   "outputs": [],
   "source": [
    "def predict_winner(team_1, team_2, model):\n",
    "    features = []\n",
    "    \n",
    "    # team 1: 客场队伍\n",
    "    features.append(get_elo(team_1))\n",
    "    for key, value in team_stats.loc[team_1].iteritems():\n",
    "        features.append(value)\n",
    "    \n",
    "    # team 2: 主场队伍\n",
    "    features.append(get_elo(team_2) + 100)\n",
    "    for key, value in team_stats.loc[team_2].iteritems():\n",
    "        features.append(value)\n",
    "        \n",
    "    features = np.nan_to_num(features)\n",
    "    return model.predict_proba([features])"
   ]
  },
  {
   "cell_type": "markdown",
   "metadata": {},
   "source": [
    "## 9. 利用训练好的模型在16-17赛季的比赛中进行预测"
   ]
  },
  {
   "cell_type": "code",
   "execution_count": 61,
   "metadata": {},
   "outputs": [
    {
     "name": "stdout",
     "output_type": "stream",
     "text": [
      "Predicting on new season ...\n"
     ]
    }
   ],
   "source": [
    "print('Predicting on new season ...')\n",
    "season_new = pd.read_csv(folder + '/16-17Schedule.csv')\n",
    "result = []\n",
    "\n",
    "for index, row in season_new.iterrows():\n",
    "    team1 = row['Vteam']\n",
    "    team2 = row['Hteam']\n",
    "    pred = predict_winner(team1, team2, model)\n",
    "    prob = pred[0][0]\n",
    "    \n",
    "    if prob > 0.5:\n",
    "        winner = team1\n",
    "        loser = team2\n",
    "        result.append([winner, loser, prob])\n",
    "    else:\n",
    "        winner = team2\n",
    "        loser = team1\n",
    "        result.append([winner, loser, 1-prob])\n",
    "        \n",
    "    with open('16-17Result.csv', 'w') as f:\n",
    "        writer = csv.writer(f)\n",
    "        writer.writerow([\"win\", \"lose\", \"probability\"])\n",
    "        writer.writerows(result)"
   ]
  },
  {
   "cell_type": "markdown",
   "metadata": {},
   "source": [
    "%ls 16-17Result.csv data prediction.py"
   ]
  }
 ],
 "metadata": {
  "kernelspec": {
   "display_name": "Python 3",
   "language": "python",
   "name": "python3"
  },
  "language_info": {
   "codemirror_mode": {
    "name": "ipython",
    "version": 3
   },
   "file_extension": ".py",
   "mimetype": "text/x-python",
   "name": "python",
   "nbconvert_exporter": "python",
   "pygments_lexer": "ipython3",
   "version": "3.6.1"
  }
 },
 "nbformat": 4,
 "nbformat_minor": 2
}
