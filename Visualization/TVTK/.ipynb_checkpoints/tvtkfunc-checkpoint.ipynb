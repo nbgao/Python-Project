{
 "cells": [
  {
   "cell_type": "code",
   "execution_count": 1,
   "metadata": {},
   "outputs": [
    {
     "name": "stdout",
     "output_type": "stream",
     "text": [
      "********************************************************************************\n",
      "WARNING: Imported VTK version (8.0) does not match the one used\n",
      "         to build the TVTK classes (7.1). This may cause problems.\n",
      "         Please rebuild TVTK.\n",
      "********************************************************************************\n",
      "\n"
     ]
    }
   ],
   "source": [
    "from tvtk.api import tvtk"
   ]
  },
  {
   "cell_type": "code",
   "execution_count": 2,
   "metadata": {
    "collapsed": true
   },
   "outputs": [],
   "source": [
    "def ivtk_scene(actors):\n",
    "    from tvtk.tools import ivtk\n",
    "    # 创建一个带Crust的窗口\n",
    "    win = ivtk.IVTKWithCrustAndBrowser()\n",
    "    win.open()\n",
    "    win.scene.add_actor(actors)\n",
    "    # 修正窗口错误\n",
    "    dialog = win.control.centralwidget().widget(0).widget(0)\n",
    "    from pyface.qt import QtCore\n",
    "    dialog.setWindowFlags(QtCore.Qt.WindowFlags(0x00000000))\n",
    "    dialog.show()\n",
    "    return win"
   ]
  },
  {
   "cell_type": "code",
   "execution_count": 3,
   "metadata": {
    "collapsed": true
   },
   "outputs": [],
   "source": [
    "def event_loop():\n",
    "    from pyface.api import GUI\n",
    "    gui = GUI()\n",
    "    gui.start_event_loop()"
   ]
  },
  {
   "cell_type": "code",
   "execution_count": null,
   "metadata": {
    "collapsed": true
   },
   "outputs": [],
   "source": []
  }
 ],
 "metadata": {
  "kernelspec": {
   "display_name": "Python 3",
   "language": "python",
   "name": "python3"
  },
  "language_info": {
   "codemirror_mode": {
    "name": "ipython",
    "version": 3
   },
   "file_extension": ".py",
   "mimetype": "text/x-python",
   "name": "python",
   "nbconvert_exporter": "python",
   "pygments_lexer": "ipython3",
   "version": "3.6.1"
  }
 },
 "nbformat": 4,
 "nbformat_minor": 2
}
