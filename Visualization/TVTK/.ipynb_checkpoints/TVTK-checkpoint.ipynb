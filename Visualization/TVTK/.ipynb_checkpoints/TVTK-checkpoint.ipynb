{
 "cells": [
  {
   "cell_type": "markdown",
   "metadata": {},
   "source": [
    "# 1. TVTK入门"
   ]
  },
  {
   "cell_type": "code",
   "execution_count": 1,
   "metadata": {
    "collapsed": true
   },
   "outputs": [],
   "source": [
    "from tvtk.tools import tvtk_doc\n",
    "\n",
    "tvtk_doc.main()"
   ]
  },
  {
   "cell_type": "code",
   "execution_count": 2,
   "metadata": {},
   "outputs": [
    {
     "name": "stdout",
     "output_type": "stream",
     "text": [
      "vtkCubeSource (000002A2CD8B0370)\n",
      "  Debug: Off\n",
      "  Modified Time: 1257590\n",
      "  Reference Count: 2\n",
      "  Registered Events: \n",
      "    Registered Observers:\n",
      "      vtkObserver (000002A2CDB47BF0)\n",
      "        Event: 33\n",
      "        EventName: ModifiedEvent\n",
      "        Command: 000002A2CDFA2640\n",
      "        Priority: 0\n",
      "        Tag: 1\n",
      "  Executive: 000002A2CD945140\n",
      "  ErrorCode: No error\n",
      "  Information: 000002A2CDD0F920\n",
      "  AbortExecute: Off\n",
      "  Progress: 0\n",
      "  Progress Text: (None)\n",
      "  X Length: 1\n",
      "  Y Length: 2\n",
      "  Z Length: 3\n",
      "  Center: (0, 0, 0)\n",
      "  Output Points Precision: 0\n",
      "\n",
      "\n"
     ]
    }
   ],
   "source": [
    "from tvtk.api import tvtk\n",
    "\n",
    "s = tvtk.CubeSource(x_length=1.0, y_length=2.0, z_length=3.0)\n",
    "print(s)"
   ]
  },
  {
   "cell_type": "markdown",
   "metadata": {},
   "source": [
    "### TVTK库帮助资源\n",
    "#### http://vtk.org/doc/nightly/html/annotated.html"
   ]
  },
  {
   "cell_type": "markdown",
   "metadata": {},
   "source": [
    "### CubeSource对象的属性\n",
    "\n",
    "|属性|说明|\n",
    "|:-:|:-:|\n",
    "|s.x_length|长方体对象在X轴方向的长度|\n",
    "|s.y_length|长方体对象在Y轴方向的长度|\n",
    "|s.z_length|长方体对象在Z轴方向的长度|\n",
    "|s.center|长方体对象所在坐标系的原点|\n",
    "|s.output_points_precision|长方体对象的精度|\n",
    "|……|……|"
   ]
  },
  {
   "cell_type": "code",
   "execution_count": 8,
   "metadata": {},
   "outputs": [
    {
     "data": {
      "text/plain": [
       "1.0"
      ]
     },
     "execution_count": 8,
     "metadata": {},
     "output_type": "execute_result"
    },
    {
     "data": {
      "text/plain": [
       "2.0"
      ]
     },
     "execution_count": 8,
     "metadata": {},
     "output_type": "execute_result"
    },
    {
     "data": {
      "text/plain": [
       "3.0"
      ]
     },
     "execution_count": 8,
     "metadata": {},
     "output_type": "execute_result"
    }
   ],
   "source": [
    "s.x_length\n",
    "s.y_length\n",
    "s.z_length"
   ]
  },
  {
   "cell_type": "code",
   "execution_count": 3,
   "metadata": {},
   "outputs": [
    {
     "data": {
      "text/plain": [
       "array([ 0.,  0.,  0.])"
      ]
     },
     "execution_count": 3,
     "metadata": {},
     "output_type": "execute_result"
    }
   ],
   "source": [
    "s.center"
   ]
  },
  {
   "cell_type": "code",
   "execution_count": 4,
   "metadata": {},
   "outputs": [
    {
     "data": {
      "text/plain": [
       "0"
      ]
     },
     "execution_count": 4,
     "metadata": {},
     "output_type": "execute_result"
    }
   ],
   "source": [
    "s.output_points_precision"
   ]
  },
  {
   "cell_type": "markdown",
   "metadata": {},
   "source": [
    "### CubeSource对象的方法\n",
    "\n",
    "|方法|说明|\n",
    "|:-:|:-:|\n",
    "|set/get_x_length()|设置/获取长方体对象在X轴方向的长度|\n",
    "|set/get_y_length()|设置/获取长方体对象在Y轴方向的长度|\n",
    "|set/get_z_length()|设置/获取长方体对象在Z轴方向的长度|\n",
    "|set/get_center()|设置/获取长方体对象所在坐标系的原点|\n",
    "|set/get_bounds()|设置/获取长方体对象的包围盒|\n",
    "|……|……|"
   ]
  },
  {
   "cell_type": "markdown",
   "metadata": {},
   "source": [
    "### TVTK库的基本三维对象\n",
    "\n",
    "|三维对象|说明|\n",
    "|:-:|:-:|\n",
    "|CubeSource|立方体三位对象数据源|\n",
    "|ConeSource|圆锥三维对象数据源|\n",
    "|CylinderSource|圆柱三维对象数据源|\n",
    "|ArcSource|圆弧三维对象数据源|\n",
    "|ArrowSource|箭头三维对象数据源|\n",
    "|……|……|"
   ]
  },
  {
   "cell_type": "code",
   "execution_count": 11,
   "metadata": {},
   "outputs": [
    {
     "data": {
      "text/plain": [
       "3.0"
      ]
     },
     "execution_count": 11,
     "metadata": {},
     "output_type": "execute_result"
    },
    {
     "data": {
      "text/plain": [
       "1.0"
      ]
     },
     "execution_count": 11,
     "metadata": {},
     "output_type": "execute_result"
    },
    {
     "data": {
      "text/plain": [
       "36"
      ]
     },
     "execution_count": 11,
     "metadata": {},
     "output_type": "execute_result"
    },
    {
     "data": {
      "text/plain": [
       "array([ 0.,  0.,  0.])"
      ]
     },
     "execution_count": 11,
     "metadata": {},
     "output_type": "execute_result"
    }
   ],
   "source": [
    "from tvtk.api import tvtk\n",
    "\n",
    "s = tvtk.ConeSource(height=3.0, radius=1.0, resolution=36)\n",
    "\n",
    "s.height\n",
    "s.radius\n",
    "s.resolution\n",
    "s.center"
   ]
  },
  {
   "cell_type": "code",
   "execution_count": 12,
   "metadata": {},
   "outputs": [
    {
     "name": "stdout",
     "output_type": "stream",
     "text": [
      "vtkConeSource (000001E1F42820C0)\n",
      "  Debug: Off\n",
      "  Modified Time: 1257627\n",
      "  Reference Count: 2\n",
      "  Registered Events: \n",
      "    Registered Observers:\n",
      "      vtkObserver (000001E1F4B89DE0)\n",
      "        Event: 33\n",
      "        EventName: ModifiedEvent\n",
      "        Command: 000001E1FE00B630\n",
      "        Priority: 0\n",
      "        Tag: 1\n",
      "  Executive: 000001E1F4C851D0\n",
      "  ErrorCode: No error\n",
      "  Information: 000001E1FE1034D0\n",
      "  AbortExecute: Off\n",
      "  Progress: 0\n",
      "  Progress Text: (None)\n",
      "  Resolution: 36\n",
      "  Height: 3\n",
      "  Radius: 1\n",
      "  Capping: On\n",
      "  Center: (0, 0, 0)\n",
      "  Direction: (1, 0, 0)\n",
      "  Output Points Precision: 0\n",
      "\n",
      "\n"
     ]
    }
   ],
   "source": [
    "print(s)"
   ]
  },
  {
   "cell_type": "markdown",
   "metadata": {},
   "source": [
    "### 显示一个长方体"
   ]
  },
  {
   "cell_type": "code",
   "execution_count": 4,
   "metadata": {
    "collapsed": true
   },
   "outputs": [],
   "source": [
    "from tvtk.api import tvtk\n",
    "\n",
    "# 创建一个长方体数据源，并且同时设置其长宽高\n",
    "s = tvtk.CubeSource(x_length=1.0, y_length=2.0, z_length=3.0)\n",
    "# 使用PolyDataMapper将数据转换为图形数据\n",
    "m = tvtk.PolyDataMapper(input_connection=s.output_port)\n",
    "\n",
    "# 创建一个Actor\n",
    "a = tvtk.Actor(mapper=m)\n",
    "# 创建一个Renderer，将Actor添加进去\n",
    "r = tvtk.Renderer(background=(0,0,0))\n",
    "r.add_actor(a)\n",
    "# 创建一个RenderWindow(窗口)，将Renderer添加进去\n",
    "w = tvtk.RenderWindow(size=(300,300))\n",
    "w.add_renderer(r)\n",
    "# 创建一个RenderWindowInteractor(窗口的交互工具)\n",
    "i = tvtk.RenderWindowInteractor(render_window=w)\n",
    "# 开启交互\n",
    "i.initialize()\n",
    "i.start()"
   ]
  },
  {
   "cell_type": "markdown",
   "metadata": {},
   "source": [
    "![cube](./Image/cube.png)"
   ]
  },
  {
   "cell_type": "markdown",
   "metadata": {},
   "source": [
    "# 2. TVTK管线与数据加载"
   ]
  },
  {
   "cell_type": "markdown",
   "metadata": {},
   "source": [
    "## 2.1 管线技术(Pipeline, 流水线)\n",
    "**可视化管线(Visualization Pipeline):** 将原始数据加工成图形数据的过程  \n",
    "**图形管线(Graphics Pipeline):** 图形数据加工为我们所看到图像的过程  \n",
    "\n",
    "**数据 <——> 数据预处理 <——> 数据映射 <——> 绘制(Rendering) <——> 显示(Displaying)**  \n",
    "**|-----------可视化管线-----------|------------------------------------图形管线------------------------------------|**\n",
    "\n",
    "### 可视化管线\n",
    "|TVTK对象|说明|\n",
    "|:-:|:-:|\n",
    "|CubeSource|通过程序内部计算输出一组描述长方体的数据(PolyData)|\n",
    "|PolyDataMapper|PolyData通过该映射器将数据映射为图片数据(mapper)|"
   ]
  },
  {
   "cell_type": "code",
   "execution_count": 14,
   "metadata": {},
   "outputs": [
    {
     "data": {
      "text/plain": [
       "<tvtk.tvtk_classes.algorithm_output.AlgorithmOutput at 0x1e1fdf189e8>"
      ]
     },
     "execution_count": 14,
     "metadata": {},
     "output_type": "execute_result"
    }
   ],
   "source": [
    "s.output_port"
   ]
  },
  {
   "cell_type": "code",
   "execution_count": 15,
   "metadata": {},
   "outputs": [
    {
     "data": {
      "text/plain": [
       "<tvtk.tvtk_classes.algorithm_output.AlgorithmOutput at 0x1e1fdf189e8>"
      ]
     },
     "execution_count": 15,
     "metadata": {},
     "output_type": "execute_result"
    }
   ],
   "source": [
    "m.input_connection"
   ]
  },
  {
   "cell_type": "markdown",
   "metadata": {},
   "source": [
    "### 图形管线\n",
    "|TVTK对象|说明|\n",
    "|:-:|:-:|\n",
    "|Actor|场景中的一个实体。它包括一个图形数据(mapper)，<br>具有描述该实体的位置、方向、大小的属性|\n",
    "|Renderer|渲染的场景。它包括多个需要渲染的Actor|\n",
    "|RenderWindow|渲染用的图形窗口。它包括一个或者多个Render|\n",
    "|RenderWindowInteractor|给图形窗口提供一些用户交互功能，<br>例如平移、旋转、放缩|"
   ]
  },
  {
   "cell_type": "markdown",
   "metadata": {},
   "source": [
    "## 2.2 用ivtk工具观察管线\n",
    "\n",
    "**from tvtk.tools import ivtk**"
   ]
  },
  {
   "cell_type": "code",
   "execution_count": 18,
   "metadata": {
    "collapsed": true
   },
   "outputs": [],
   "source": [
    "from tvtk.api import tvtk\n",
    "from tvtk.tools import ivtk\n",
    "from pyface.api import GUI\n",
    "\n",
    "s = tvtk.CubeSource(x_length=1.0, y_length=2.0, z_length=3.0)\n",
    "m = tvtk.PolyDataMapper(input_connection=s.output_port)\n",
    "a = tvtk.Actor(mapper=m)\n",
    "\n",
    "# 创建一个带Crust的窗口\n",
    "gui = GUI()\n",
    "win = ivtk.IVTKWithCrustAndBrowser()\n",
    "win.open()\n",
    "win.scene.add_actor(a)\n",
    "\n",
    "# 修正窗口界面错误\n",
    "dialog = win.control.centralWidget().widget(0).widget(0)\n",
    "from pyface.qt import QtCore\n",
    "dialog.setWindowFlags(QtCore.Qt.WindowFlags(0x00000000))\n",
    "dialog.show()\n",
    "\n",
    "# 开始界面消息循环\n",
    "gui.start_event_loop()"
   ]
  },
  {
   "cell_type": "markdown",
   "metadata": {},
   "source": [
    "## 2.3 数据集(Dataset)\n",
    "- 点(Point)和数据(Data)\n",
    "- 点之间: 连接 vs 非连接\n",
    "- 多个相关点组成单元(Cell)\n",
    "- 点的连接: 显示 vs 隐式\n",
    "- 数据: 标量(Scalar) vs 矢量(Vector)\n",
    "\n",
    "\n",
    "- ImageData\n",
    "- RectilinearGrid\n",
    "- StructedGrid\n",
    "- PolyData\n",
    "- UnstructuredGrid"
   ]
  },
  {
   "cell_type": "markdown",
   "metadata": {},
   "source": [
    "### ImageData 数据集\n",
    "#### ImageData表示二维或三维图像的数据结构\n",
    "|参数|说明|\n",
    "|:-:|:-:|\n",
    "|spacing|三位网格数据的起点坐标|\n",
    "|origin|三维网格数据在X、Y、Z轴上的间距|\n",
    "|dimensions|在X、Y、Z轴上的网格数|"
   ]
  },
  {
   "cell_type": "code",
   "execution_count": 19,
   "metadata": {},
   "outputs": [
    {
     "data": {
      "text/plain": [
       "(1.0, 2.0, 3.0)"
      ]
     },
     "execution_count": 19,
     "metadata": {},
     "output_type": "execute_result"
    }
   ],
   "source": [
    "from tvtk.api import tvtk\n",
    "\n",
    "img = tvtk.ImageData(spacing=(1,1,1), origin=(1,2,3), dimensions=(3,4,5))\n",
    "img.get_point(0)"
   ]
  },
  {
   "cell_type": "code",
   "execution_count": 20,
   "metadata": {},
   "outputs": [
    {
     "name": "stdout",
     "output_type": "stream",
     "text": [
      "1.0, 2.0, 3.0\n",
      "2.0, 2.0, 3.0\n",
      "3.0, 2.0, 3.0\n",
      "1.0, 3.0, 3.0\n",
      "2.0, 3.0, 3.0\n",
      "3.0, 3.0, 3.0\n"
     ]
    }
   ],
   "source": [
    "for n in range(6):\n",
    "    print(\"%.1f, %.1f, %.1f\" % img.get_point(n))"
   ]
  },
  {
   "cell_type": "markdown",
   "metadata": {},
   "source": [
    "### RectilinearGrid 数据集\n",
    "#### RectilinearGrid: 间距不均匀的网络，所有点都在正交的网格上"
   ]
  },
  {
   "cell_type": "code",
   "execution_count": 22,
   "metadata": {
    "collapsed": true
   },
   "outputs": [],
   "source": [
    "from tvtk.api import tvtk\n",
    "import numpy as np\n",
    "\n",
    "x = np.array([0,3,9,15])\n",
    "y = np.array([0,1,5])\n",
    "z = np.array([0,2,3])\n",
    "\n",
    "r = tvtk.RectilinearGrid()\n",
    "r.x_coordinates = x\n",
    "r.y_coordinates = y\n",
    "r.z_coordinates = z\n",
    "r.dimensions = len(x), len(y), len(z)"
   ]
  },
  {
   "cell_type": "code",
   "execution_count": 24,
   "metadata": {},
   "outputs": [
    {
     "name": "stdout",
     "output_type": "stream",
     "text": [
      "(0.0, 0.0, 0.0)\n",
      "(3.0, 0.0, 0.0)\n",
      "(9.0, 0.0, 0.0)\n",
      "(15.0, 0.0, 0.0)\n",
      "(0.0, 1.0, 0.0)\n",
      "(3.0, 1.0, 0.0)\n"
     ]
    }
   ],
   "source": [
    "for i in range(6):\n",
    "    print(r.get_point(i))"
   ]
  },
  {
   "cell_type": "markdown",
   "metadata": {},
   "source": [
    "### StructuredGrid 数据集\n",
    "#### StructuredGrid: 创建任意形状的网格，需要指定点的坐标"
   ]
  },
  {
   "cell_type": "markdown",
   "metadata": {},
   "source": [
    "### PolyData 数据集\n",
    "#### PolyData: 由一系列的点、点之间的联系以及由点构成的多边形组成"
   ]
  },
  {
   "cell_type": "markdown",
   "metadata": {},
   "source": [
    "## 2.4 TVTK数据加载"
   ]
  },
  {
   "cell_type": "markdown",
   "metadata": {},
   "source": [
    "### 读入STL文件\n",
    "**s = tvtk.STLReader(file_name = \"filename.stl\")**"
   ]
  },
  {
   "cell_type": "code",
   "execution_count": 2,
   "metadata": {
    "collapsed": true
   },
   "outputs": [],
   "source": [
    "from tvtk.api import tvtk\n",
    "from tvtkfunc import ivtk_scene, event_loop\n",
    "\n",
    "s = tvtk.STLReader(file_name = \"./Data/python.stl\")\n",
    "m = tvtk.PolyDataMapper(input_connection = s.output_port)\n",
    "a = tvtk.Actor(mapper = m)\n",
    "\n",
    "win = ivtk_scene(a)\n",
    "win.scene.isometric_view()\n",
    "event_loop()"
   ]
  },
  {
   "cell_type": "markdown",
   "metadata": {},
   "source": [
    "![python_stl](./Image/python_stl.png)"
   ]
  },
  {
   "cell_type": "markdown",
   "metadata": {},
   "source": [
    "### MultiBlock数据读取"
   ]
  },
  {
   "cell_type": "code",
   "execution_count": 8,
   "metadata": {
    "collapsed": true
   },
   "outputs": [],
   "source": [
    "from tvtk.api import tvtk\n",
    "\n",
    "# 读入数据\n",
    "def read_data():\n",
    "    plot3d = tvtk.MultiBlockPLOT3DReader(\n",
    "            xyz_file_name = \"./Data/combxyz.bin\", # 网格文件\n",
    "            q_file_name = \"./Data/combq.bin\", # 空气动力学结果文件\n",
    "            scalar_function_number = 100, # 设置标量数据数量\n",
    "            vector_function_number = 200 # 设置矢量数据数量\n",
    "        )\n",
    "    plot3d.update()\n",
    "    return plot3d\n",
    "\n",
    "plot3d = read_data() # 让plot3D计算其输出数据\n",
    "grid = plot3d.output.get_block(0) # 获取读入的数据集对象"
   ]
  },
  {
   "cell_type": "code",
   "execution_count": 9,
   "metadata": {},
   "outputs": [
    {
     "name": "stdout",
     "output_type": "stream",
     "text": [
      "<class 'tvtk.tvtk_classes.multi_block_data_set.MultiBlockDataSet'>\n"
     ]
    }
   ],
   "source": [
    "print(type(plot3d.output))"
   ]
  },
  {
   "cell_type": "code",
   "execution_count": 10,
   "metadata": {},
   "outputs": [
    {
     "name": "stdout",
     "output_type": "stream",
     "text": [
      "<class 'tvtk.tvtk_classes.structured_grid.StructuredGrid'>\n"
     ]
    }
   ],
   "source": [
    "print(type(plot3d.output.get_block(0)))"
   ]
  },
  {
   "cell_type": "code",
   "execution_count": 11,
   "metadata": {},
   "outputs": [
    {
     "name": "stdout",
     "output_type": "stream",
     "text": [
      "[57 33 25]\n"
     ]
    }
   ],
   "source": [
    "print(grid.dimensions)"
   ]
  },
  {
   "cell_type": "code",
   "execution_count": 12,
   "metadata": {},
   "outputs": [
    {
     "name": "stdout",
     "output_type": "stream",
     "text": [
      "[[  2.66700006  -3.77476001  23.83292007]\n",
      " [  2.94346499  -3.74825287  23.66555977]\n",
      " [  3.21985817  -3.72175312  23.49823952]\n",
      " ..., \n",
      " [ 15.84669018   5.66214085  35.7493782 ]\n",
      " [ 16.17829895   5.66214085  35.7493782 ]\n",
      " [ 16.51000023   5.66214085  35.7493782 ]]\n"
     ]
    }
   ],
   "source": [
    "print(grid.points.to_array())"
   ]
  },
  {
   "cell_type": "code",
   "execution_count": 14,
   "metadata": {},
   "outputs": [
    {
     "name": "stdout",
     "output_type": "stream",
     "text": [
      "4\n"
     ]
    }
   ],
   "source": [
    "print(grid.point_data.number_of_arrays)"
   ]
  },
  {
   "cell_type": "code",
   "execution_count": 16,
   "metadata": {},
   "outputs": [
    {
     "name": "stdout",
     "output_type": "stream",
     "text": [
      "Density\n"
     ]
    }
   ],
   "source": [
    "print(grid.point_data.scalars.name)"
   ]
  },
  {
   "cell_type": "code",
   "execution_count": 18,
   "metadata": {},
   "outputs": [
    {
     "name": "stdout",
     "output_type": "stream",
     "text": [
      "Velocity\n"
     ]
    }
   ],
   "source": [
    "print(grid.point_data.vectors.name)"
   ]
  },
  {
   "cell_type": "markdown",
   "metadata": {},
   "source": [
    "# 3 TVTK库可视化实例"
   ]
  },
  {
   "cell_type": "markdown",
   "metadata": {},
   "source": [
    "## 实例1: 标量数据可视化"
   ]
  },
  {
   "cell_type": "markdown",
   "metadata": {},
   "source": [
    "#### tvtk.ContourFilter() 等值面过滤器\n",
    "|方法|说明|\n",
    "|:-:|:-:|\n",
    "|generate_values()|设定n条等值线的值<br>一般用于重新绘制等值线|\n",
    "|set_value()|设定一条等值线的值<br>一般用于覆盖某条等值线或者新增加一条等值线|"
   ]
  },
  {
   "cell_type": "code",
   "execution_count": 22,
   "metadata": {
    "collapsed": true
   },
   "outputs": [],
   "source": [
    "from tvtk.api import tvtk\n",
    "from tvtkfunc import ivtk_scene, event_loop\n",
    "\n",
    "# 读入数据\n",
    "def read_data():\n",
    "    plot3d = tvtk.MultiBlockPLOT3DReader(\n",
    "            xyz_file_name = \"./Data/combxyz.bin\", # 网格文件\n",
    "            q_file_name = \"./Data/combq.bin\", # 空气动力学结果文件\n",
    "            scalar_function_number = 100, # 设置标量数据数量\n",
    "            vector_function_number = 200 # 设置矢量数据数量\n",
    "        )\n",
    "    plot3d.update()\n",
    "    return plot3d\n",
    "\n",
    "plot3d = read_data() # 让plot3D计算其输出数据\n",
    "grid = plot3d.output.get_block(0) # 获取读入的数据集对象\n",
    "\n",
    "con = tvtk.ContourFilter() # 创建等值面对象\n",
    "con.set_input_data(grid)\n",
    "con.generate_values(10, grid.point_data.scalars.range) # 制定轮廓数和数据范围\n",
    "\n",
    "# 设定映射器的变量范围属性\n",
    "m = tvtk.PolyDataMapper(scalar_range = grid.point_data.scalars.range,\n",
    "                        input_connection = con.output_port)\n",
    "a = tvtk.Actor(mapper = m)\n",
    "a.property.opacity = 0.5 # 设定透明度为0.5\n",
    "\n",
    "# 窗口绘制\n",
    "win = ivtk_scene(a)\n",
    "win.scene.isometric_view()\n",
    "event_loop()"
   ]
  },
  {
   "cell_type": "markdown",
   "metadata": {},
   "source": [
    "![](./Image/EX1.png)"
   ]
  },
  {
   "cell_type": "markdown",
   "metadata": {},
   "source": [
    "## 实例2: 矢量数据可视化\n",
    "#### tvtk.Glyph3D() 符号化技术\n",
    "#### tvtk.MaskPoints() 降采样"
   ]
  },
  {
   "cell_type": "code",
   "execution_count": 23,
   "metadata": {
    "collapsed": true
   },
   "outputs": [],
   "source": [
    "from tvtk.api import tvtk\n",
    "from tvtkfunc import ivtk_scene, event_loop\n",
    "\n",
    "# 读入Plot3D数据\n",
    "plot3d = tvtk.MultiBlockPLOT3DReader(\n",
    "    xyz_file_name = \"./Data/combxyz.bin\", # 网格文件\n",
    "    q_file_name = \"./Data/combq.bin\", # 空气动力学结果文件\n",
    "    scalar_function_number = 100, # 设置标量数据数量\n",
    "    vector_function_number = 200 # 设置矢量数据数量\n",
    ")\n",
    "plot3d.update() # 让plot3D计算其输出数据\n",
    "grid = plot3d.output.get_block(0) # 获取读入的数据集对象\n",
    "\n",
    "# 对数据集中的数据进行随机选取，每50个点选择一个点\n",
    "mask = tvtk.MaskPoints(random_mode=True, on_ratio=50)\n",
    "mask.set_input_data(grid)\n",
    "\n",
    "# 创建表示箭头的PolyData数据集\n",
    "glyph_source = tvtk.ArrowSource()\n",
    "\n",
    "# 在Mask采样后的PolyData数据集每个点上放置一个箭头\n",
    "glyph = tvtk.Glyph3D(input_connection=mask.output_port, scale_factor=4)\n",
    "glyph.set_source_connection(glyph_source.output_port)\n",
    "m = tvtk.PolyDataMapper(scalar_range=grid.point_data.scalars.range,\n",
    "                        input_connection=glyph.output_port)\n",
    "a = tvtk.Actor(mapper=m)\n",
    "\n",
    "# 窗口绘制\n",
    "win = ivtk_scene(a)\n",
    "win.scene.isometric_view()\n",
    "event_loop()"
   ]
  },
  {
   "cell_type": "markdown",
   "metadata": {},
   "source": [
    "![](./Image/EX2_1.png)"
   ]
  },
  {
   "cell_type": "code",
   "execution_count": 24,
   "metadata": {},
   "outputs": [
    {
     "name": "stdout",
     "output_type": "stream",
     "text": [
      "47025\n"
     ]
    }
   ],
   "source": [
    "print(grid.number_of_points)"
   ]
  },
  {
   "cell_type": "code",
   "execution_count": 25,
   "metadata": {},
   "outputs": [
    {
     "name": "stdout",
     "output_type": "stream",
     "text": [
      "930\n"
     ]
    }
   ],
   "source": [
    "mask.update()\n",
    "print(mask.output.number_of_points)"
   ]
  },
  {
   "cell_type": "code",
   "execution_count": 28,
   "metadata": {
    "collapsed": true
   },
   "outputs": [],
   "source": [
    "# 创建表示圆锥的PolyData数据集\n",
    "glyph_source = tvtk.ConeSource()\n",
    "\n",
    "# 在Mask采样后的PolyData数据集每个点上放置一个箭头\n",
    "glyph = tvtk.Glyph3D(input_connection=mask.output_port, scale_factor=2)\n",
    "glyph.set_source_connection(glyph_source.output_port)\n",
    "m = tvtk.PolyDataMapper(scalar_range=grid.point_data.scalars.range,\n",
    "                        input_connection=glyph.output_port)\n",
    "a = tvtk.Actor(mapper=m)\n",
    "\n",
    "# 窗口绘制\n",
    "win = ivtk_scene(a)\n",
    "win.scene.isometric_view()\n",
    "event_loop()"
   ]
  },
  {
   "cell_type": "markdown",
   "metadata": {},
   "source": [
    "![](./Image/EX2_2.png)"
   ]
  },
  {
   "cell_type": "markdown",
   "metadata": {},
   "source": [
    "## 实例3: 空间轮廓线可视化\n",
    "#### tvtk.StructuredGridOutlineFilter() 计算PolyData对象的外边框"
   ]
  },
  {
   "cell_type": "code",
   "execution_count": 29,
   "metadata": {
    "collapsed": true
   },
   "outputs": [],
   "source": [
    "from tvtk.api import tvtk\n",
    "from tvtkfunc import ivtk_scene, event_loop\n",
    "from tvtk.common import configure_input\n",
    "\n",
    "# 读入Plot3D数据\n",
    "plot3d = tvtk.MultiBlockPLOT3DReader(\n",
    "    xyz_file_name = \"./Data/combxyz.bin\", # 网格文件\n",
    "    q_file_name = \"./Data/combq.bin\", # 空气动力学结果文件\n",
    "    scalar_function_number = 100, # 设置标量数据数量\n",
    "    vector_function_number = 200 # 设置矢量数据数量\n",
    ")\n",
    "plot3d.update() # 让plot3D计算其输出数据\n",
    "grid = plot3d.output.get_block(0) # 获取读入的数据集对象\n",
    "\n",
    "# 计算表示外边框的PolyData对象\n",
    "outline = tvtk.StructuredGridOutlineFilter()\n",
    "# 调用tvtk.common.configure_input()\n",
    "configure_input(outline, grid)\n",
    "\n",
    "m = tvtk.PolyDataMapper(input_connection=outline.output_port)\n",
    "a = tvtk.Actor(mapper=m)\n",
    "a.property.color = 0.3, 0.3, 0.3\n",
    "\n",
    "# 窗口绘制\n",
    "win = ivtk_scene(a)\n",
    "win.scene.isometric_view()\n",
    "event_loop()"
   ]
  },
  {
   "cell_type": "markdown",
   "metadata": {},
   "source": [
    "![](./Image/EX3.png)"
   ]
  }
 ],
 "metadata": {
  "kernelspec": {
   "display_name": "Python 3",
   "language": "python",
   "name": "python3"
  },
  "language_info": {
   "codemirror_mode": {
    "name": "ipython",
    "version": 3
   },
   "file_extension": ".py",
   "mimetype": "text/x-python",
   "name": "python",
   "nbconvert_exporter": "python",
   "pygments_lexer": "ipython3",
   "version": "3.6.1"
  }
 },
 "nbformat": 4,
 "nbformat_minor": 2
}
