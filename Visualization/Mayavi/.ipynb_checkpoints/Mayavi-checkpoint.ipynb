{
 "cells": [
  {
   "cell_type": "markdown",
   "metadata": {},
   "source": [
    "# 1. Mayavi 入门"
   ]
  },
  {
   "cell_type": "markdown",
   "metadata": {},
   "source": [
    "### ** from mayavi import mlab **"
   ]
  },
  {
   "cell_type": "markdown",
   "metadata": {},
   "source": [
    "## 1.1 Mayavi库基本元素"
   ]
  },
  {
   "cell_type": "markdown",
   "metadata": {},
   "source": [
    "### Mayavi.mlab\n",
    "\n",
    "|类别|说明|\n",
    "|:-:|:-:|\n",
    "|绘图函数|barchar contour3d plot3d points3d quiver3d <br> contour_surf imshow flow  mesh  surf triangular_mesh|\n",
    "|图形控制函数|clf close draw figure gcf savefig screenshot sync_camera|\n",
    "|图形修饰函数|colorbar scalarbar xlabel ylabel zlabel|\n",
    "|相机控制函数|move pitch roll view yaw|\n",
    "|其他函数|animate axes get_engine show set_engine|\n",
    "|Mlab管线控制|Open set_vtk_src adddataset scalar_cut_plane|"
   ]
  },
  {
   "cell_type": "markdown",
   "metadata": {},
   "source": [
    "### Mayavi API\n",
    "|类别|说明|\n",
    "|:-:|:-:|\n",
    "|管线基础对象|Scene Source Filter ModuleManager <br> Module PipelineBase Engine|\n",
    "|主视窗和UI对象|DecoratedScene MayaviScene SceneEditor <br> MlabSceneModel EngineView EngineRichView|"
   ]
  },
  {
   "cell_type": "markdown",
   "metadata": {},
   "source": [
    "## 1.2 Mayavi 快速绘图实例"
   ]
  },
  {
   "cell_type": "code",
   "execution_count": 1,
   "metadata": {},
   "outputs": [],
   "source": [
    "x = [[-1,1,1,-1,-1],[-1,1,1,-1,-1]]\n",
    "y = [[-1,-1,-1,-1,-1],[1,1,1,1,1]]\n",
    "z = [[1,1,-1,-1,1],[1,1,-1,-1,1]]\n",
    "\n",
    "from mayavi import mlab\n",
    "s = mlab.mesh(x, y, z)\n",
    "mlab.show()"
   ]
  },
  {
   "cell_type": "code",
   "execution_count": 2,
   "metadata": {},
   "outputs": [],
   "source": [
    "from numpy import pi, sin, cos, mgrid\n",
    "from mayavi import mlab\n",
    "\n",
    "# 建立数据\n",
    "dphi, dtheta = pi/250.0, pi/250.0\n",
    "[phi, theta] = mgrid[0:pi+dphi*1.5:dphi, 0:2*pi+dtheta*1.5:dtheta]\n",
    "m0 = 4; m1 = 3; m2 = 2; m3 = 3; m4 = 6; m5 = 2; m6 = 6; m7 = 4;\n",
    "r = sin(m0*phi)**m1 + cos(m2*phi)**m3 + sin(m4*theta)**m5 + cos(m6*theta)**7\n",
    "x = r*sin(phi)*cos(theta)\n",
    "y = r*cos(phi)\n",
    "z = r*sin(phi)*sin(theta)\n",
    "\n",
    "# 对该数据进行三维可视化\n",
    "s = mlab.mesh(x,y,z)\n",
    "mlab.show()"
   ]
  },
  {
   "cell_type": "markdown",
   "metadata": {},
   "source": [
    "## 1.3 Mayavi 管线的层级\n",
    "\n",
    "- **Engine: 建立和销毁Scenes**\n",
    "- **Scenes: 多个数据集合Sources**\n",
    "- **Filters: 对数据进行变换**\n",
    "- **Module Manager: 控制颜色，Colors and Legends**\n",
    "- **Modules: 最终数据的表示，如线条、平面等**"
   ]
  },
  {
   "cell_type": "markdown",
   "metadata": {},
   "source": [
    "### 打开Mayavi管线对话框\n",
    "**mlab.show_pipeline()**"
   ]
  },
  {
   "cell_type": "markdown",
   "metadata": {},
   "source": [
    "![](./Image/pipeline.png)"
   ]
  },
  {
   "cell_type": "markdown",
   "metadata": {},
   "source": [
    "### 管线中的对象: Scene\n",
    "** Mayavi Scene: 处于树的最顶层的对象，表示场景 **"
   ]
  },
  {
   "cell_type": "code",
   "execution_count": 3,
   "metadata": {},
   "outputs": [
    {
     "name": "stdout",
     "output_type": "stream",
     "text": [
      "<mayavi.core.scene.Scene object at 0x00000218D29E6678>\n"
     ]
    }
   ],
   "source": [
    "s = mlab.mesh(x,y,z)\n",
    "s = mlab.gcf()\n",
    "print(s)"
   ]
  },
  {
   "cell_type": "code",
   "execution_count": 14,
   "metadata": {},
   "outputs": [
    {
     "name": "stdout",
     "output_type": "stream",
     "text": [
      "(0.5, 0.5, 0.5)\n"
     ]
    }
   ],
   "source": [
    "print(s.scene.background)"
   ]
  },
  {
   "cell_type": "markdown",
   "metadata": {},
   "source": [
    "### 管线中的对象: GridSource"
   ]
  },
  {
   "cell_type": "code",
   "execution_count": 6,
   "metadata": {},
   "outputs": [
    {
     "name": "stdout",
     "output_type": "stream",
     "text": [
      "<mayavi.sources.vtk_data_source.VTKDataSource object at 0x00000218D29ED2B0>\n"
     ]
    }
   ],
   "source": [
    "source = s.children[0]\n",
    "print(repr(source))"
   ]
  },
  {
   "cell_type": "code",
   "execution_count": 6,
   "metadata": {},
   "outputs": [
    {
     "name": "stdout",
     "output_type": "stream",
     "text": [
      "GridSource\n"
     ]
    }
   ],
   "source": [
    "print(source.name)"
   ]
  },
  {
   "cell_type": "code",
   "execution_count": 7,
   "metadata": {},
   "outputs": [
    {
     "name": "stdout",
     "output_type": "stream",
     "text": [
      "[(0.0, 2.0, 0.0), ..., (-0.02494331407725583, -1.984978108361774, -0.0003134634292724166)], length = 126504\n"
     ]
    }
   ],
   "source": [
    "print(repr(source.data.points))"
   ]
  },
  {
   "cell_type": "code",
   "execution_count": 8,
   "metadata": {},
   "outputs": [
    {
     "name": "stdout",
     "output_type": "stream",
     "text": [
      "[0.0, ..., -0.0003134634292724166], length = 126504\n"
     ]
    }
   ],
   "source": [
    "print(repr(source.data.point_data.scalars))"
   ]
  },
  {
   "cell_type": "code",
   "execution_count": 7,
   "metadata": {},
   "outputs": [
    {
     "name": "stdout",
     "output_type": "stream",
     "text": [
      "<mayavi.filters.poly_data_normals.PolyDataNormals object at 0x00000218D29ED728>\n"
     ]
    }
   ],
   "source": [
    "manager = source.children[0]\n",
    "print(manager)"
   ]
  },
  {
   "cell_type": "markdown",
   "metadata": {},
   "source": [
    "### 管线中的对象: Colors and legends"
   ]
  },
  {
   "cell_type": "markdown",
   "metadata": {},
   "source": [
    "![](./Image/colors&legends.png)"
   ]
  },
  {
   "cell_type": "code",
   "execution_count": 8,
   "metadata": {},
   "outputs": [],
   "source": [
    "colors = manager.children[0]\n",
    "colors.scalar_lut_manager.lut_mode = 'Blues'\n",
    "colors.scalar_lut_manager.show_legend = True\n",
    "\n",
    "#mlab.show()"
   ]
  },
  {
   "cell_type": "markdown",
   "metadata": {},
   "source": [
    "![](./Image/EX0_3.png)"
   ]
  },
  {
   "cell_type": "markdown",
   "metadata": {},
   "source": [
    "### 管线中的对象: Surface"
   ]
  },
  {
   "cell_type": "markdown",
   "metadata": {},
   "source": [
    "![](./Image/surface.png)"
   ]
  },
  {
   "cell_type": "code",
   "execution_count": null,
   "metadata": {
    "collapsed": true
   },
   "outputs": [],
   "source": [
    "colors = manager.children[0]\n",
    "surface = colors.children[0]\n",
    "surface.actor.property.representation = 'wireframe'\n",
    "surface.actor.property.opacity = 0.6\n",
    "mlab.show()"
   ]
  },
  {
   "cell_type": "markdown",
   "metadata": {},
   "source": [
    "![](./Image/EX0_4.png)"
   ]
  },
  {
   "cell_type": "markdown",
   "metadata": {},
   "source": [
    "### 程序配置属性的步骤\n",
    "1. **获得场景对象，mlab.gcf()**\n",
    "2. **通过children属性，在管线中找到需要修改的对象**\n",
    "3. **配置窗口有多个选项卡，属性要一级一级获得**"
   ]
  },
  {
   "cell_type": "code",
   "execution_count": null,
   "metadata": {
    "collapsed": true
   },
   "outputs": [],
   "source": []
  }
 ],
 "metadata": {
  "kernelspec": {
   "display_name": "Python 3",
   "language": "python",
   "name": "python3"
  },
  "language_info": {
   "codemirror_mode": {
    "name": "ipython",
    "version": 3
   },
   "file_extension": ".py",
   "mimetype": "text/x-python",
   "name": "python",
   "nbconvert_exporter": "python",
   "pygments_lexer": "ipython3",
   "version": "3.6.1"
  }
 },
 "nbformat": 4,
 "nbformat_minor": 2
}
