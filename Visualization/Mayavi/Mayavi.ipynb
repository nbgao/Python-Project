{
 "cells": [
  {
   "cell_type": "markdown",
   "metadata": {},
   "source": [
    "# 1. Mayavi 入门"
   ]
  },
  {
   "cell_type": "markdown",
   "metadata": {},
   "source": [
    "### Mayavi 官方文档\n",
    "#### http://docs.enthought.com/mayavi/mayavi/installation.html\n",
    "### ** from mayavi import mlab **"
   ]
  },
  {
   "cell_type": "markdown",
   "metadata": {},
   "source": [
    "## 1.1 Mayavi库基本元素"
   ]
  },
  {
   "cell_type": "markdown",
   "metadata": {},
   "source": [
    "### Mayavi.mlab\n",
    "\n",
    "|类别|说明|\n",
    "|:-:|:-:|\n",
    "|绘图函数|barchar contour3d plot3d points3d quiver3d <br> contour_surf imshow flow  mesh  surf triangular_mesh|\n",
    "|图形控制函数|clf close draw figure gcf savefig screenshot sync_camera|\n",
    "|图形修饰函数|colorbar scalarbar xlabel ylabel zlabel|\n",
    "|相机控制函数|move pitch roll view yaw|\n",
    "|其他函数|animate axes get_engine show set_engine|\n",
    "|Mlab管线控制|Open set_vtk_src adddataset scalar_cut_plane|"
   ]
  },
  {
   "cell_type": "markdown",
   "metadata": {},
   "source": [
    "### Mayavi API\n",
    "|类别|说明|\n",
    "|:-:|:-:|\n",
    "|管线基础对象|Scene Source Filter ModuleManager <br> Module PipelineBase Engine|\n",
    "|主视窗和UI对象|DecoratedScene MayaviScene SceneEditor <br> MlabSceneModel EngineView EngineRichView|"
   ]
  },
  {
   "cell_type": "markdown",
   "metadata": {},
   "source": [
    "## 1.2 Mayavi 快速绘图实例"
   ]
  },
  {
   "cell_type": "code",
   "execution_count": 1,
   "metadata": {
    "collapsed": true
   },
   "outputs": [],
   "source": [
    "x = [[-1,1,1,-1,-1],[-1,1,1,-1,-1]]\n",
    "y = [[-1,-1,-1,-1,-1],[1,1,1,1,1]]\n",
    "z = [[1,1,-1,-1,1],[1,1,-1,-1,1]]\n",
    "\n",
    "from mayavi import mlab\n",
    "s = mlab.mesh(x, y, z)\n",
    "mlab.show()"
   ]
  },
  {
   "cell_type": "markdown",
   "metadata": {},
   "source": [
    "![](./Image/1_1.png)"
   ]
  },
  {
   "cell_type": "code",
   "execution_count": 2,
   "metadata": {
    "collapsed": true
   },
   "outputs": [],
   "source": [
    "from numpy import pi, sin, cos, mgrid\n",
    "from mayavi import mlab\n",
    "\n",
    "# 建立数据\n",
    "dphi, dtheta = pi/250.0, pi/250.0\n",
    "[phi, theta] = mgrid[0:pi+dphi*1.5:dphi, 0:2*pi+dtheta*1.5:dtheta]\n",
    "m0 = 4; m1 = 3; m2 = 2; m3 = 3; m4 = 6; m5 = 2; m6 = 6; m7 = 4;\n",
    "r = sin(m0*phi)**m1 + cos(m2*phi)**m3 + sin(m4*theta)**m5 + cos(m6*theta)**7\n",
    "x = r*sin(phi)*cos(theta)\n",
    "y = r*cos(phi)\n",
    "z = r*sin(phi)*sin(theta)\n",
    "\n",
    "# 对该数据进行三维可视化\n",
    "s = mlab.mesh(x,y,z)\n",
    "mlab.show()"
   ]
  },
  {
   "cell_type": "markdown",
   "metadata": {},
   "source": [
    "![](./Image/1_2.png)"
   ]
  },
  {
   "cell_type": "markdown",
   "metadata": {},
   "source": [
    "## 1.3 Mayavi 管线的层级\n",
    "\n",
    "- **Engine: 建立和销毁Scenes**\n",
    "- **Scenes: 多个数据集合Sources**\n",
    "- **Filters: 对数据进行变换**\n",
    "- **Module Manager: 控制颜色，Colors and Legends**\n",
    "- **Modules: 最终数据的表示，如线条、平面等**"
   ]
  },
  {
   "cell_type": "markdown",
   "metadata": {},
   "source": [
    "### 打开Mayavi管线对话框\n",
    "**mlab.show_pipeline()**"
   ]
  },
  {
   "cell_type": "markdown",
   "metadata": {},
   "source": [
    "![](./Image/pipeline.png)"
   ]
  },
  {
   "cell_type": "markdown",
   "metadata": {},
   "source": [
    "### 管线中的对象: Scene\n",
    "** Mayavi Scene: 处于树的最顶层的对象，表示场景 **"
   ]
  },
  {
   "cell_type": "code",
   "execution_count": 3,
   "metadata": {},
   "outputs": [
    {
     "name": "stdout",
     "output_type": "stream",
     "text": [
      "<mayavi.core.scene.Scene object at 0x00000218D29E6678>\n"
     ]
    }
   ],
   "source": [
    "s = mlab.mesh(x,y,z)\n",
    "s = mlab.gcf()\n",
    "print(s)"
   ]
  },
  {
   "cell_type": "code",
   "execution_count": 14,
   "metadata": {},
   "outputs": [
    {
     "name": "stdout",
     "output_type": "stream",
     "text": [
      "(0.5, 0.5, 0.5)\n"
     ]
    }
   ],
   "source": [
    "print(s.scene.background)"
   ]
  },
  {
   "cell_type": "markdown",
   "metadata": {},
   "source": [
    "### 管线中的对象: GridSource"
   ]
  },
  {
   "cell_type": "code",
   "execution_count": 6,
   "metadata": {},
   "outputs": [
    {
     "name": "stdout",
     "output_type": "stream",
     "text": [
      "<mayavi.sources.vtk_data_source.VTKDataSource object at 0x00000218D29ED2B0>\n"
     ]
    }
   ],
   "source": [
    "source = s.children[0]\n",
    "print(repr(source))"
   ]
  },
  {
   "cell_type": "code",
   "execution_count": 6,
   "metadata": {},
   "outputs": [
    {
     "name": "stdout",
     "output_type": "stream",
     "text": [
      "GridSource\n"
     ]
    }
   ],
   "source": [
    "print(source.name)"
   ]
  },
  {
   "cell_type": "code",
   "execution_count": 7,
   "metadata": {},
   "outputs": [
    {
     "name": "stdout",
     "output_type": "stream",
     "text": [
      "[(0.0, 2.0, 0.0), ..., (-0.02494331407725583, -1.984978108361774, -0.0003134634292724166)], length = 126504\n"
     ]
    }
   ],
   "source": [
    "print(repr(source.data.points))"
   ]
  },
  {
   "cell_type": "code",
   "execution_count": 8,
   "metadata": {},
   "outputs": [
    {
     "name": "stdout",
     "output_type": "stream",
     "text": [
      "[0.0, ..., -0.0003134634292724166], length = 126504\n"
     ]
    }
   ],
   "source": [
    "print(repr(source.data.point_data.scalars))"
   ]
  },
  {
   "cell_type": "code",
   "execution_count": 7,
   "metadata": {},
   "outputs": [
    {
     "name": "stdout",
     "output_type": "stream",
     "text": [
      "<mayavi.filters.poly_data_normals.PolyDataNormals object at 0x00000218D29ED728>\n"
     ]
    }
   ],
   "source": [
    "manager = source.children[0]\n",
    "print(manager)"
   ]
  },
  {
   "cell_type": "markdown",
   "metadata": {},
   "source": [
    "### 管线中的对象: Colors and legends"
   ]
  },
  {
   "cell_type": "markdown",
   "metadata": {},
   "source": [
    "![](./Image/colors&legends.png)"
   ]
  },
  {
   "cell_type": "code",
   "execution_count": 8,
   "metadata": {
    "collapsed": true
   },
   "outputs": [],
   "source": [
    "colors = manager.children[0]\n",
    "colors.scalar_lut_manager.lut_mode = 'Blues'\n",
    "colors.scalar_lut_manager.show_legend = True\n",
    "\n",
    "#mlab.show()"
   ]
  },
  {
   "cell_type": "markdown",
   "metadata": {},
   "source": [
    "![](./Image/1_3.png)"
   ]
  },
  {
   "cell_type": "markdown",
   "metadata": {},
   "source": [
    "### 管线中的对象: Surface"
   ]
  },
  {
   "cell_type": "markdown",
   "metadata": {},
   "source": [
    "![](./Image/surface.png)"
   ]
  },
  {
   "cell_type": "code",
   "execution_count": 9,
   "metadata": {
    "collapsed": true
   },
   "outputs": [],
   "source": [
    "colors = manager.children[0]\n",
    "surface = colors.children[0]\n",
    "surface.actor.property.representation = 'wireframe'\n",
    "surface.actor.property.opacity = 0.6\n",
    "mlab.show()"
   ]
  },
  {
   "cell_type": "markdown",
   "metadata": {},
   "source": [
    "![](./Image/1_4.png)"
   ]
  },
  {
   "cell_type": "markdown",
   "metadata": {},
   "source": [
    "### 程序配置属性的步骤\n",
    "1. **获得场景对象，mlab.gcf()**\n",
    "2. **通过children属性，在管线中找到需要修改的对象**\n",
    "3. **配置窗口有多个选项卡，属性要一级一级获得**"
   ]
  },
  {
   "cell_type": "markdown",
   "metadata": {},
   "source": [
    "# 2. Mlab 基础"
   ]
  },
  {
   "cell_type": "markdown",
   "metadata": {},
   "source": [
    "## 2.1 基于Numpy数组的绘图函数\n",
    "### Mlab对Numpy建立可视化过程:\n",
    "1. **建立数据源**\n",
    "2. **使用Filter(可选)**\n",
    "3. **添加可视化模块**"
   ]
  },
  {
   "cell_type": "markdown",
   "metadata": {},
   "source": [
    "### 3D绘图函数 — 0D和1D数据\n",
    "|函数|说明|\n",
    "|:-:|:-:|\n",
    "|Point3d()|绘制三维点图形|\n",
    "|Plot3d()|绘制三维线图形|\n",
    "\n",
    "#### Point3d()\n",
    "|参数|说明|\n",
    "|:-:|:-:|\n",
    "|color|VTK对象的颜色|\n",
    "|colormap|颜色映射类型|\n",
    "|extent|x、y、z数组范围|\n",
    "|figure|绘图|\n",
    "|line_width|线宽度|\n",
    "|mask_points|减少/降低大规模点数据集的数量|\n",
    "|mode|符号的模式|\n",
    "|name|VTK对象名字|\n",
    "|opcity|VTK对象的整体透明度|\n",
    "|reset_zoom|对新加入场景数据的缩放进行重置|\n",
    "|resuolution|符号的分辨率|\n",
    "|scale_factor|符号放缩比例|\n",
    "|scale_mode|符号放缩模式|\n",
    "|transparent|actor的透明度|\n",
    "|vmax|colormap放缩的最大值|\n",
    "|vmin|colormap放缩的最小值|"
   ]
  },
  {
   "cell_type": "code",
   "execution_count": 15,
   "metadata": {
    "collapsed": true
   },
   "outputs": [],
   "source": [
    "import numpy as np\n",
    "from mayavi import mlab\n",
    "\n",
    "# 建立数据\n",
    "t = np.linspace(0, 4*np.pi, 20)\n",
    "x = np.sin(2*t)\n",
    "y = np.cos(t)\n",
    "z = np.cos(2*t)\n",
    "s = 2 + np.sin(t)\n",
    "\n",
    "# 对数据进行可视化\n",
    "points = mlab.points3d(x,y,z,s, colormap='Greens', scale_factor=0.25, resolution=64)\n",
    "mlab.show()"
   ]
  },
  {
   "cell_type": "markdown",
   "metadata": {},
   "source": [
    "![](./Image/2_2.png)"
   ]
  },
  {
   "cell_type": "markdown",
   "metadata": {},
   "source": [
    "#### plot3d()\n",
    "|参数|说明|\n",
    "|:-:|:-:|\n",
    "|tube_radius|线管的半径，用于描述线的粗细|\n",
    "|tube_sides|表示线的分段数，默认为6|"
   ]
  },
  {
   "cell_type": "code",
   "execution_count": 17,
   "metadata": {
    "collapsed": true
   },
   "outputs": [],
   "source": [
    "import numpy as np\n",
    "from mayavi import mlab\n",
    "\n",
    "# 建立数据\n",
    "n_mer, n_long = 6, 11\n",
    "dphi = np.pi / 1000.0\n",
    "phi = np.arange(0.0, 2*np.pi + 0.5*dphi, dphi)\n",
    "mu = phi * n_mer\n",
    "x = np.cos(mu) * (1 + np.cos(n_long * mu / n_mer) * 0.5)\n",
    "y = np.sin(mu) * (1 + np.cos(n_long * mu / n_mer) * 0.5)\n",
    "z = np.sin(n_long * mu / n_mer) * 0.5\n",
    "\n",
    "# 对数据进行可视化\n",
    "l = mlab.plot3d(x, y, z, np.sin(mu), tube_radius=0.025, colormap='Spectral')\n",
    "mlab.show()"
   ]
  },
  {
   "cell_type": "markdown",
   "metadata": {},
   "source": [
    "![](./Image/2_3.png)"
   ]
  },
  {
   "cell_type": "markdown",
   "metadata": {},
   "source": [
    "### 3D绘图函数 — 2D数据\n",
    "|函数|说明|\n",
    "|:-:|:-:|\n",
    "|imshow()|将2维数组可视化为一张图像|\n",
    "|surf()|将2维数组可视化为一个平面|\n",
    "|contour_surf()|将2维数组可视化等高线|\n",
    "|mesh()|绘制3个2维数组x、y、z描述坐标点的网格平面|\n",
    "|barchart()|根据2维、3维或者点云数据绘制3维柱状图|\n",
    "|triangular()|绘制由x、y、z坐标点描述的三角网格面|"
   ]
  },
  {
   "cell_type": "markdown",
   "metadata": {},
   "source": [
    "#### imshow()"
   ]
  },
  {
   "cell_type": "code",
   "execution_count": 18,
   "metadata": {
    "collapsed": true
   },
   "outputs": [],
   "source": [
    "import numpy as np\n",
    "from mayavi import mlab\n",
    "\n",
    "# 建立数据\n",
    "s = np.random.random((10,10))\n",
    "\n",
    "# 对数据进行可视化\n",
    "img = mlab.imshow(s, colormap='gist_earth')\n",
    "mlab.show()"
   ]
  },
  {
   "cell_type": "markdown",
   "metadata": {},
   "source": [
    "![](./Image/2_4.png)"
   ]
  },
  {
   "cell_type": "markdown",
   "metadata": {},
   "source": [
    "#### surf()"
   ]
  },
  {
   "cell_type": "code",
   "execution_count": 19,
   "metadata": {
    "collapsed": true
   },
   "outputs": [],
   "source": [
    "import numpy as np\n",
    "from mayavi import mlab\n",
    "\n",
    "def f(x,y):\n",
    "    return np.sin(x-y) + np.cos(x+y)\n",
    "\n",
    "x, y = np.mgrid[-7:7.05:0.1, -5:5.05:0.05]\n",
    "s = mlab.surf(x,y,f)\n",
    "mlab.show()"
   ]
  },
  {
   "cell_type": "markdown",
   "metadata": {},
   "source": [
    "![](./Image/2_5.png)"
   ]
  },
  {
   "cell_type": "markdown",
   "metadata": {},
   "source": [
    "#### contour_surf()"
   ]
  },
  {
   "cell_type": "code",
   "execution_count": 20,
   "metadata": {
    "collapsed": true
   },
   "outputs": [],
   "source": [
    "import numpy as np\n",
    "from mayavi import mlab\n",
    "\n",
    "def f(x,y):\n",
    "    return np.sin(x-y) + np.cos(x+y)\n",
    "\n",
    "x, y = np.mgrid[-7:7.05:0.1, -5:5.05:0.05]\n",
    "s = mlab.contour_surf(x,y,f)\n",
    "mlab.show()"
   ]
  },
  {
   "cell_type": "markdown",
   "metadata": {},
   "source": [
    "![](./Image/2_6.png)"
   ]
  },
  {
   "cell_type": "markdown",
   "metadata": {},
   "source": [
    "### 3D绘图函数 — 3D数据\n",
    "|函数|说明|\n",
    "|:-:|:-:|\n",
    "|contour3d()|3维数组定义的体数据的等值面可视化|\n",
    "|quiver3d()|3维矢量数据的可视化，用箭头表示|\n",
    "|flow()|绘制3维数组描述的向量场的粒子轨迹|"
   ]
  },
  {
   "cell_type": "markdown",
   "metadata": {},
   "source": [
    "#### contour3d()"
   ]
  },
  {
   "cell_type": "code",
   "execution_count": 22,
   "metadata": {
    "collapsed": true
   },
   "outputs": [],
   "source": [
    "import numpy as np\n",
    "from mayavi import mlab\n",
    "\n",
    "x, y, z = np.ogrid[-5:5:64j, -5:5:64j, -5:5:64j]\n",
    "scalars = x*x + y*y + z*z\n",
    "obj = mlab.contour3d(scalars, contours=8, transparent=True)\n",
    "mlab.show()"
   ]
  },
  {
   "cell_type": "markdown",
   "metadata": {},
   "source": [
    "![](./Image/2_7.png)"
   ]
  },
  {
   "cell_type": "markdown",
   "metadata": {},
   "source": [
    "#### quiver3d()"
   ]
  },
  {
   "cell_type": "code",
   "execution_count": 24,
   "metadata": {
    "collapsed": true
   },
   "outputs": [],
   "source": [
    "import numpy as np\n",
    "from mayavi import mlab\n",
    "\n",
    "x, y, z = np.mgrid[-2:3, -2:3, -2:3]\n",
    "r = np.sqrt(x**2 + y**2 + z**4)\n",
    "u = y*np.sin(r) / (r+0.001)\n",
    "v = -x*np.sin(r) / (r+0.001)\n",
    "w = np.zeros_like(z)\n",
    "\n",
    "obj = mlab.quiver3d(x,y,z,u,v,w, line_width=3, scale_factor=1)\n",
    "mlab.show()"
   ]
  },
  {
   "cell_type": "markdown",
   "metadata": {},
   "source": [
    "![](./Image/2_8.png)"
   ]
  },
  {
   "cell_type": "markdown",
   "metadata": {},
   "source": [
    "## 2.2 改变物体的外观"
   ]
  },
  {
   "cell_type": "markdown",
   "metadata": {},
   "source": [
    "### 改变颜色\n",
    "**colormap定义的颜色，也叫LUT(Look Up Table)**\n",
    "![](./Image/colormap.png)"
   ]
  },
  {
   "cell_type": "code",
   "execution_count": 28,
   "metadata": {},
   "outputs": [],
   "source": [
    "import numpy as np\n",
    "from mayavi import mlab\n",
    "\n",
    "# 建立数据\n",
    "x, y = np.mgrid[-10:10:200j, -10:10:200j]\n",
    "z = 100 * np.sin(x*y)/(x*y)\n",
    "# 对数据进行可视化\n",
    "mlab.figure(bgcolor=(1,1,1))\n",
    "surf = mlab.surf(z, colormap='cool')\n",
    "mlab.show()"
   ]
  },
  {
   "cell_type": "markdown",
   "metadata": {},
   "source": [
    "![](./Image/2_9.png)"
   ]
  },
  {
   "cell_type": "markdown",
   "metadata": {},
   "source": [
    "## 2.3 mlab控制函数"
   ]
  },
  {
   "cell_type": "markdown",
   "metadata": {},
   "source": [
    "- 图像控制函数\n",
    "- 图像装饰函数\n",
    "- 相机控制函数\n",
    "- 其他控制函数"
   ]
  },
  {
   "cell_type": "markdown",
   "metadata": {},
   "source": [
    "### 图像控制函数\n",
    "|函数名称|说明|\n",
    "|:-:|:-:|\n",
    "|clf()|清空当前图像|\n",
    "|close()|关闭图像窗口|\n",
    "|draw()|重新绘制当前图像|\n",
    "|**figure()**|建立一个新的Scene或者访问一个存在的Scene|\n",
    "|**gcf()**|返回当前图像的handle|\n",
    "|savefig()|存储当前的前景，输出为一个文件|"
   ]
  },
  {
   "cell_type": "markdown",
   "metadata": {},
   "source": [
    "### 图像装饰函数\n",
    "|函数名称|说明|\n",
    "|:-:|:-:|\n",
    "|colorbar()|为对象的颜色映射增加颜色条|\n",
    "|scalarbar()|为对象的标量颜色映射增加颜色条|\n",
    "|vectorbar()|为对象的适量颜色映射增加颜色条|\n",
    "|xlabel()|建立坐标轴，并添加X轴的标签|\n",
    "|ylabel()|建立坐标轴，并添加Y轴的标签|\n",
    "|zlabel()|建立坐标轴，并添加Z轴的标签|"
   ]
  },
  {
   "cell_type": "markdown",
   "metadata": {},
   "source": [
    "### 相机控制函数\n",
    "|函数名称|说明|\n",
    "|:-:|:-:|\n",
    "|move()|移动相机和焦点|\n",
    "|pitch()|沿着“向右”轴旋转角度|\n",
    "|roll()|设置/获取相机沿“向前”轴旋转一定角度|\n",
    "|view()|设置/获取当前视图中相机的视点|\n",
    "|yaw()|沿着“向上”轴旋转一定角度|"
   ]
  },
  {
   "cell_type": "markdown",
   "metadata": {},
   "source": [
    "### 其他控制函数\n",
    "|函数名称|说明|\n",
    "|:-:|:-:|\n",
    "|animate()|动画控制函数|\n",
    "|**axes()**|为当前物体设置坐标轴|\n",
    "|outline()|为当前物体建立外轮廓|\n",
    "|**show()**|与当前图像开始交互|\n",
    "|**show_pipeline()**|显示mayavi的管线对话框，<br>进行场景属性的设置和编辑|\n",
    "|text()|为图像添加文本|\n",
    "|title()|为绘制图像建立标图|"
   ]
  },
  {
   "cell_type": "markdown",
   "metadata": {},
   "source": [
    "## 2.4 mlab管线控制函数\n",
    "\n",
    "- Sources: 数据源\n",
    "- Filters: 用来数据交换\n",
    "- Modules: 用来实现可视化\n",
    "\n",
    "** mlab.pipeline.function() **"
   ]
  },
  {
   "cell_type": "markdown",
   "metadata": {},
   "source": [
    "### Sources\n",
    "|函数名称|说明|\n",
    "|:-:|:-:|\n",
    "|grid_source()|建立二维网格数据|\n",
    "|line_source()|建立线数据|\n",
    "|open()|打开一个数据文件|\n",
    "|scalar_field()|建立标量场数据|\n",
    "|vector_field()|建立矢量场数据|\n",
    "|volume_field()|建立体数据|"
   ]
  },
  {
   "cell_type": "markdown",
   "metadata": {},
   "source": [
    "### Filters\n",
    "|函数名|说明|\n",
    "|:-:|:-:|\n",
    "|contour()|对输入数据集计算等值面|\n",
    "|cut_plane()|对数据进行切面计算，可以交互地更改和移动切面|\n",
    "|delaunay2D()|执行2维delaunay三角化|\n",
    "|delaunay3D()|执行3维delaunay三角化|\n",
    "|extract_grid()|允许用户选择structured grid的一部分数据|\n",
    "|extract_vector_norm()|计算数据矢量的法向量|\n",
    "|make_points()|对输入数据进行采样|\n",
    "|treshold()|取一定阈值范围内的数据|\n",
    "|transform_data|对输入数据执行现行变换|\n",
    "|tube()|将线转成线数据|"
   ]
  },
  {
   "cell_type": "markdown",
   "metadata": {},
   "source": [
    "### Modules\n",
    "|函数名|说明|\n",
    "|:-:|:-:|\n",
    "|axes()|绘制坐标轴|\n",
    "|glyph()|对输入点绘制不同类型的符号|\n",
    "|image_plane_widget()|绘制某一平面数据的细节|\n",
    "|iso_surface()|对输入的体数据绘制其等值面|\n",
    "|outline()|对输入数据绘制外轮廓|\n",
    "|scalar_cut_plane|对输入的标量数据绘制特定位置的切面|\n",
    "|streamline()|对矢量数据绘制流线|\n",
    "|surface()|对数据建立外表面|\n",
    "|text()|绘制一段文本|\n",
    "|vector_cut_plane|对输入的矢量数据绘制特定位置的切平面|\n",
    "|volume()|对标量场数据进行体绘制|"
   ]
  },
  {
   "cell_type": "markdown",
   "metadata": {},
   "source": [
    "## 2.5 标量数据可视化实例"
   ]
  },
  {
   "cell_type": "code",
   "execution_count": 29,
   "metadata": {
    "collapsed": true
   },
   "outputs": [],
   "source": [
    "import numpy as np\n",
    "x, y, z = np.ogrid[-10:10:20j, -10:10:20j, -10:10:20j]\n",
    "s = np.sin(x*y*z)/(x*y*z)\n",
    " \n",
    "from mayavi import mlab\n",
    "from mayavi.tools import pipeline\n",
    "src = mlab.pipeline.scalar_field(s)\n",
    "mlab.pipeline.iso_surface(src, contours=[s.min()+0.1*s.ptp(), ], opacity=0.1)\n",
    "mlab.pipeline.iso_surface(src, contours=[s.max()-0.1*s.ptp(), ])\n",
    "mlab.pipeline.image_plane_widget(src,\n",
    "                            plane_orientation='z_axes',\n",
    "                            slice_index=10,\n",
    "                        )\n",
    "mlab.show()"
   ]
  },
  {
   "cell_type": "markdown",
   "metadata": {},
   "source": [
    "![](Image/2_10.png)"
   ]
  },
  {
   "cell_type": "markdown",
   "metadata": {},
   "source": [
    "## 2.6 矢量数据可视化实例"
   ]
  },
  {
   "cell_type": "code",
   "execution_count": 31,
   "metadata": {
    "collapsed": true
   },
   "outputs": [],
   "source": [
    "import numpy as np\n",
    "x, y, z = np.mgrid[0:1:20j, 0:1:20j, 0:1:20j]\n",
    "u =    np.sin(np.pi*x) * np.cos(np.pi*z)\n",
    "v = -2*np.sin(np.pi*y) * np.cos(2*np.pi*z)\n",
    "w = np.cos(np.pi*x)*np.sin(np.pi*z) + np.cos(np.pi*y)*np.sin(2*np.pi*z)\n",
    " \n",
    "from mayavi import mlab\n",
    "mlab.quiver3d(u,v,w)\n",
    "mlab.outline()\n",
    " \n",
    "mlab.show()"
   ]
  },
  {
   "cell_type": "markdown",
   "metadata": {},
   "source": [
    "![](Image/2_11.png)"
   ]
  },
  {
   "cell_type": "markdown",
   "metadata": {
    "collapsed": true
   },
   "source": [
    "# 3. Mayavi可视化实例"
   ]
  },
  {
   "cell_type": "markdown",
   "metadata": {},
   "source": [
    "## 实例1: Drogon绘制"
   ]
  },
  {
   "cell_type": "code",
   "execution_count": 18,
   "metadata": {},
   "outputs": [],
   "source": [
    "from mayavi import mlab\n",
    "from os.path import join\n",
    "dragon_ply_file = join('Data', 'dragon_recon', 'dragon_vrip.ply')\n",
    "\n",
    "# 渲染dragon ply文件\n",
    "mlab.pipeline.surface(mlab.pipeline.open(dragon_ply_file))\n",
    "mlab.show()"
   ]
  },
  {
   "cell_type": "markdown",
   "metadata": {},
   "source": [
    "![](./Image/3_1.png)"
   ]
  },
  {
   "cell_type": "markdown",
   "metadata": {},
   "source": [
    "## 实例2: Canyon地形可视化"
   ]
  },
  {
   "cell_type": "code",
   "execution_count": 23,
   "metadata": {},
   "outputs": [],
   "source": [
    "import zipfile\n",
    "import numpy as np\n",
    "from mayavi import mlab\n",
    " \n",
    "#读取压缩文件\n",
    "hgt = zipfile.ZipFile('./Data/N36W113.hgt.zip').read('N36W113.hgt')\n",
    "data = np.fromstring(hgt, '>i2')\n",
    "data.shape = (3601, 3601)\n",
    "data = data.astype(np.float32)\n",
    "data = data[:1000, 900:1900]\n",
    "data[data == -32768] = data[data > 0].min()\n",
    " \n",
    "#渲染地形hgt的数据data\n",
    "mlab.figure(size=(400, 320), bgcolor=(0.16, 0.28, 0.46))\n",
    "mlab.surf(data, colormap='gist_earth', warp_scale=0.2,\n",
    "            vmin=1200, vmax=1610)\n",
    " \n",
    "#清空内存\n",
    "del data\n",
    "#创建交互式的可视化窗口\n",
    "mlab.view(-5.9, 83, 570, [5.3, 20, 238])\n",
    "mlab.show()"
   ]
  },
  {
   "cell_type": "markdown",
   "metadata": {},
   "source": [
    "![](./Image/3_2.png)"
   ]
  },
  {
   "cell_type": "markdown",
   "metadata": {},
   "source": [
    "## 实例3: Earth-Graph"
   ]
  },
  {
   "cell_type": "code",
   "execution_count": 26,
   "metadata": {
    "collapsed": true
   },
   "outputs": [],
   "source": [
    "# 城市经纬度数据\n",
    "cities_data = \"\"\"\n",
    "Bei Jing, 116.23,39.54\n",
    "Shang Hai, 121.52, 30.91\n",
    "Hong Kong,114.19,22.38\n",
    "Delhi,77.21,28.67\n",
    "Johannesburg,28.04,-26.19\n",
    "Doha,51.53,25.29\n",
    "Sao Paulo,-46.63,-23.53\n",
    "Toronto,-79.38,43.65\n",
    "New York,-73.94,40.67\n",
    "San Francisco,-122.45,37.77\n",
    "Dubai,55.33,25.27\n",
    "Sydney,151.21,-33.87\n",
    "\"\"\"\n",
    "########## 读取数据#########\n",
    "# 建立城市-城索引的字典、城市经纬度的列表\n",
    "import csv\n",
    "cities = dict()\n",
    "coords = list()\n",
    "for line in list(csv.reader(cities_data.split('\\n')))[1:-1]:\n",
    "    name, long_, lat = line\n",
    "    cities[name] = len(coords)\n",
    "    coords.append((float(long_), float(lat)))\n",
    " \n",
    "########## 坐标转换##########\n",
    "# 将经纬度的位置转换为三维坐标\n",
    "import numpy as np\n",
    "coords = np.array(coords)\n",
    "lat, long = coords.T * np.pi / 180\n",
    "x = np.cos(long) * np.cos(lat)\n",
    "y = np.cos(long) * np.sin(lat)\n",
    "z = np.sin(long)\n",
    " \n",
    "##########建立窗口##########\n",
    "from mayavi import mlab\n",
    "mlab.figure(bgcolor=(0.48, 0.48, 0.48), size=(400, 400))\n",
    " \n",
    "##########绘制地球##########\n",
    "# 绘制半透明球体表示地球\n",
    "sphere = mlab.points3d(0, 0, 0, scale_factor=2,\n",
    "                                color=(0.67, 0.77, 0.93),\n",
    "                                resolution=50,\n",
    "                                opacity=0.7,\n",
    "                                name='Earth')\n",
    " \n",
    "# 调整镜面反射参数\n",
    "sphere.actor.property.specular = 0.45\n",
    "sphere.actor.property.specular_power = 5\n",
    "# 设置背面剔除，以更好的显示透明效果\n",
    "sphere.actor.property.backface_culling = True\n",
    " \n",
    "##########绘制城市##########\n",
    "# 绘制城市位置\n",
    "points = mlab.points3d(x, y, z, scale_factor=0.03,color=(0, 0, 1))\n",
    "# 绘制城市名称\n",
    "for city, index in cities.items():\n",
    "    label = mlab.text(x[index], y[index], city,\n",
    "                      z=z[index], color=(0,0,0),\n",
    "                      width=0.016 * len(city), name=city)\n",
    "     \n",
    "##########绘制大洲边界##########\n",
    "from mayavi.sources.builtin_surface import BuiltinSurface\n",
    "continents_src = BuiltinSurface(source='earth', name='Continents')\n",
    "# 设置LOD为2\n",
    "continents_src.data_source.on_ratio = 2\n",
    "continents = mlab.pipeline.surface(continents_src, color=(0, 0, 0))\n",
    " \n",
    "##########绘制赤道##########\n",
    "theta = np.linspace(0, 2 * np.pi, 100)#平分360为100份\n",
    "x = np.cos(theta)\n",
    "y = np.sin(theta)\n",
    "z = np.zeros_like(theta) \n",
    "mlab.plot3d(x, y, z, color=(1, 1, 1),opacity=0.2, tube_radius=None)\n",
    "##########显示可交互窗口##########\n",
    "mlab.view(100, 60, 4, [-0.05, 0, 0])\n",
    "mlab.show()"
   ]
  },
  {
   "cell_type": "markdown",
   "metadata": {},
   "source": [
    "![](./Image/3_3.png)"
   ]
  }
 ],
 "metadata": {
  "kernelspec": {
   "display_name": "Python 3",
   "language": "python",
   "name": "python3"
  },
  "language_info": {
   "codemirror_mode": {
    "name": "ipython",
    "version": 3
   },
   "file_extension": ".py",
   "mimetype": "text/x-python",
   "name": "python",
   "nbconvert_exporter": "python",
   "pygments_lexer": "ipython3",
   "version": "3.6.1"
  }
 },
 "nbformat": 4,
 "nbformat_minor": 2
}
