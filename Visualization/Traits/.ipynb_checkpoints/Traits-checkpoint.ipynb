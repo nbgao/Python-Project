{
 "cells": [
  {
   "cell_type": "code",
   "execution_count": 1,
   "metadata": {
    "collapsed": true
   },
   "outputs": [],
   "source": [
    "from traits.api import HasTraits"
   ]
  },
  {
   "cell_type": "markdown",
   "metadata": {},
   "source": [
    "### traits.py"
   ]
  },
  {
   "cell_type": "code",
   "execution_count": 2,
   "metadata": {
    "collapsed": true
   },
   "outputs": [],
   "source": [
    "from traits.api import Delegate, HasTraits, Instance, Int, Str\n",
    " \n",
    "class Parent(HasTraits):\n",
    "    # 初始化\n",
    "    last_name = Str('Zhang')\n",
    " \n",
    "class Child(HasTraits):\n",
    "    age = Int\n",
    "    # 验证\n",
    "    father = Instance(Parent)\n",
    "    # 代理\n",
    "    last_name = Delegate('father')\n",
    "    # 监听\n",
    "    def _age_changed(self, old, new):\n",
    "        print('Age change from %s to %s' % (old, new))"
   ]
  },
  {
   "cell_type": "markdown",
   "metadata": {},
   "source": [
    "### traitslisten.py"
   ]
  },
  {
   "cell_type": "code",
   "execution_count": 3,
   "metadata": {},
   "outputs": [
    {
     "name": "stdout",
     "output_type": "stream",
     "text": [
      "anytrait changed: ZhangSan<1c75d99b830>.name from  to ZhangSan\n",
      "anytrait changed: ZhangSan<1c75d99b830>.age from 0 to 4\n",
      "ZhangSan<1c75d99b830>.age changed: form 0 to 4\n",
      "anytrait changed: LiSi<1c75d99bba0>.name from  to LiSi\n",
      "anytrait changed: LiSi<1c75d99bba0>.age from 0 to 1\n",
      "LiSi<1c75d99bba0>.age changed: form 0 to 1\n"
     ]
    }
   ],
   "source": [
    "from traits.api import HasTraits, Str, Int\n",
    " \n",
    "class Child ( HasTraits ):          \n",
    "    name = Str\n",
    "    age = Int\n",
    "    doing = Str\n",
    "     \n",
    "    def __str__(self):\n",
    "        return \"%s<%x>\" % (self.name, id(self))\n",
    "    # 静态监听age属性的变化\n",
    "    def _age_changed ( self, old, new ):\n",
    "        print (\"%s.age changed: form %s to %s\" % (self, old, new))\n",
    "    # 静态监听任何Trait属性的变化\n",
    "    def _anytrait_changed(self, name, old, new):\n",
    "        print (\"anytrait changed: %s.%s from %s to %s\" % (self, name, old, new))\n",
    " \n",
    "def log_trait_changed(obj, name, old, new):\n",
    "    print (\"log: %s.%s changed from %s to %s\" % (obj, name, old, new))\n",
    " \n",
    "z = Child(name = \"ZhangSan\", age=4)\n",
    "l = Child(name = \"LiSi\", age=1)\n",
    "# 动态监听doing属性的变化\n",
    "z.on_trait_change(log_trait_changed, name=\"doing\")"
   ]
  },
  {
   "cell_type": "markdown",
   "metadata": {},
   "source": [
    "### eventlisten.py"
   ]
  },
  {
   "cell_type": "code",
   "execution_count": 4,
   "metadata": {
    "collapsed": true
   },
   "outputs": [],
   "source": [
    "from traits.api import HasTraits, Str, Int, Event, on_trait_change\n",
    " \n",
    "class Child (HasTraits):          \n",
    "    name = Str(\"ZhangSan\")\n",
    "    age = Int(4)\n",
    "    Infoupdated = Event\n",
    "    # 对_Info_changed()方法进行修饰\n",
    "    @on_trait_change(\"name,age\")\n",
    "    def _Info_changed (self):\n",
    "        self.Infoupdated = True\n",
    "    # Inforupdated事件处理方法\n",
    "    def _Infoupdated_fired(self):\n",
    "        self.reprint()\n",
    "    def reprint(self):\n",
    "        print (\"reprint information %s , %s\" % (self.name, self.age))"
   ]
  },
  {
   "cell_type": "markdown",
   "metadata": {},
   "source": [
    "### property.py"
   ]
  },
  {
   "cell_type": "code",
   "execution_count": 5,
   "metadata": {
    "collapsed": true
   },
   "outputs": [],
   "source": [
    "from traits.api import HasTraits, Str, Int, Event, on_trait_change\n",
    " \n",
    "class Child (HasTraits):          \n",
    "    name = Str(\"ZhangSan\")\n",
    "    age = Int(4)\n",
    "    Infoupdated = Event\n",
    "    # 对_Info_changed()方法进行修饰\n",
    "    @on_trait_change(\"name,age\")\n",
    "    def _Info_changed (self):\n",
    "        self.Infoupdated = True\n",
    "    # Inforupdated事件处理方法\n",
    "    def _Infoupdated_fired(self):\n",
    "        self.reprint()\n",
    "    def reprint(self):\n",
    "        print (\"reprint information %s , %s\" % (self.name, self.age))"
   ]
  },
  {
   "cell_type": "code",
   "execution_count": null,
   "metadata": {
    "collapsed": true
   },
   "outputs": [],
   "source": []
  }
 ],
 "metadata": {
  "kernelspec": {
   "display_name": "Python 3",
   "language": "python",
   "name": "python3"
  },
  "language_info": {
   "codemirror_mode": {
    "name": "ipython",
    "version": 3
   },
   "file_extension": ".py",
   "mimetype": "text/x-python",
   "name": "python",
   "nbconvert_exporter": "python",
   "pygments_lexer": "ipython3",
   "version": "3.6.1"
  }
 },
 "nbformat": 4,
 "nbformat_minor": 2
}
