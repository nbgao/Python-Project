{
 "cells": [
  {
   "cell_type": "markdown",
   "metadata": {},
   "source": [
    "# 1. 数学函数"
   ]
  },
  {
   "cell_type": "markdown",
   "metadata": {},
   "source": [
    "## 1.1 三角函数"
   ]
  },
  {
   "cell_type": "markdown",
   "metadata": {},
   "source": [
    "1. numpy.sin(x)：三角正弦。\n",
    "- numpy.cos(x)：三角余弦。\n",
    "- numpy.tan(x)：三角正切。\n",
    "- numpy.arcsin(x)：三角反正弦。\n",
    "- numpy.arccos(x)：三角反余弦。\n",
    "- numpy.arctan(x)：三角反正切。\n",
    "- numpy.hypot(x1,x2)：直角三角形求斜边。\n",
    "- numpy.degrees(x)：弧度转换为度。\n",
    "- numpy.radians(x)：度转换为弧度。\n",
    "- numpy.deg2rad(x)：度转换为弧度。\n",
    "- numpy.rad2deg(x)：弧度转换为度。"
   ]
  },
  {
   "cell_type": "code",
   "execution_count": 1,
   "metadata": {},
   "outputs": [
    {
     "data": {
      "text/plain": [
       "180.0"
      ]
     },
     "execution_count": 1,
     "metadata": {},
     "output_type": "execute_result"
    }
   ],
   "source": [
    "import numpy as np\n",
    "\n",
    "np.rad2deg(np.pi)"
   ]
  },
  {
   "cell_type": "markdown",
   "metadata": {},
   "source": [
    "## 1.2 双曲函数"
   ]
  },
  {
   "cell_type": "markdown",
   "metadata": {},
   "source": [
    "1. numpy.sinh(x)：双曲正弦。\n",
    "- numpy.cosh(x)：双曲余弦。\n",
    "- numpy.tanh(x)：双曲正切。\n",
    "- numpy.arcsinh(x)：反双曲正弦。\n",
    "- numpy.arccosh(x)：反双曲余弦。\n",
    "- numpy.arctanh(x)：反双曲正切。"
   ]
  },
  {
   "cell_type": "markdown",
   "metadata": {},
   "source": [
    "## 1.3 数值修约"
   ]
  },
  {
   "cell_type": "markdown",
   "metadata": {},
   "source": [
    "1. numpy.around(a)：平均到给定的小数位数。\n",
    "- numpy.round_(a)：将数组舍入到给定的小数位数。\n",
    "- numpy.rint(x)：修约到最接近的整数。\n",
    "- numpy.fix(x, y)：向 0 舍入到最接近的整数。\n",
    "- numpy.floor(x)：返回输入的底部(标量 x 的底部是最大的整数 i)。\n",
    "- numpy.ceil(x)：返回输入的上限(标量 x 的底部是最小的整数 i).\n",
    "- numpy.trunc(x)：返回输入的截断值。"
   ]
  },
  {
   "cell_type": "code",
   "execution_count": 2,
   "metadata": {},
   "outputs": [
    {
     "data": {
      "text/plain": [
       "array([ 1.21,  2.53,  3.86])"
      ]
     },
     "execution_count": 2,
     "metadata": {},
     "output_type": "execute_result"
    }
   ],
   "source": [
    "a = np.array([1.21, 2.53, 3.86])\n",
    "a"
   ]
  },
  {
   "cell_type": "code",
   "execution_count": 3,
   "metadata": {},
   "outputs": [
    {
     "data": {
      "text/plain": [
       "array([ 1.,  3.,  4.])"
      ]
     },
     "execution_count": 3,
     "metadata": {},
     "output_type": "execute_result"
    }
   ],
   "source": [
    "np.around(a)"
   ]
  },
  {
   "cell_type": "code",
   "execution_count": 8,
   "metadata": {},
   "outputs": [
    {
     "data": {
      "text/plain": [
       "array([ 1.,  3.,  4.])"
      ]
     },
     "execution_count": 8,
     "metadata": {},
     "output_type": "execute_result"
    }
   ],
   "source": [
    "np.round_(a)"
   ]
  },
  {
   "cell_type": "code",
   "execution_count": 10,
   "metadata": {},
   "outputs": [
    {
     "data": {
      "text/plain": [
       "array([ 1.,  3.,  4.])"
      ]
     },
     "execution_count": 10,
     "metadata": {},
     "output_type": "execute_result"
    }
   ],
   "source": [
    "np.rint(a)"
   ]
  },
  {
   "cell_type": "code",
   "execution_count": 11,
   "metadata": {},
   "outputs": [
    {
     "data": {
      "text/plain": [
       "array([ 1.,  2.,  3.])"
      ]
     },
     "execution_count": 11,
     "metadata": {},
     "output_type": "execute_result"
    }
   ],
   "source": [
    "np.fix(a)"
   ]
  },
  {
   "cell_type": "code",
   "execution_count": 12,
   "metadata": {},
   "outputs": [
    {
     "data": {
      "text/plain": [
       "array([ 1.,  2.,  3.])"
      ]
     },
     "execution_count": 12,
     "metadata": {},
     "output_type": "execute_result"
    }
   ],
   "source": [
    "np.floor(a)"
   ]
  },
  {
   "cell_type": "code",
   "execution_count": 13,
   "metadata": {},
   "outputs": [
    {
     "data": {
      "text/plain": [
       "array([ 2.,  3.,  4.])"
      ]
     },
     "execution_count": 13,
     "metadata": {},
     "output_type": "execute_result"
    }
   ],
   "source": [
    "np.ceil(a)"
   ]
  },
  {
   "cell_type": "code",
   "execution_count": 14,
   "metadata": {},
   "outputs": [
    {
     "data": {
      "text/plain": [
       "array([ 1.,  2.,  3.])"
      ]
     },
     "execution_count": 14,
     "metadata": {},
     "output_type": "execute_result"
    }
   ],
   "source": [
    "np.trunc(a)"
   ]
  },
  {
   "cell_type": "markdown",
   "metadata": {},
   "source": [
    "## 1.4 求和、求积、差分"
   ]
  },
  {
   "cell_type": "markdown",
   "metadata": {},
   "source": [
    "1. numpy.prod(a, axis, dtype, keepdims)：返回指定轴上的数组元素的乘积。\n",
    "- numpy.sum(a, axis, dtype, keepdims)：返回指定轴上的数组元素的总和。\n",
    "- numpy.nanprod(a, axis, dtype, keepdims)：返回指定轴上的数组元素的乘积, 将NaN视作1。\n",
    "- numpy.nansum(a, axis, dtype, keepdims)：返回指定轴上的数组元素的总和, 将NaN视作0。\n",
    "- numpy.cumprod(a, axis, dtype)：返回沿给定轴的元素的累积乘积。\n",
    "- numpy.cumsum(a, axis, dtype)：返回沿给定轴的元素的累积总和。\n",
    "- numpy.nancumprod(a, axis, dtype)：返回沿给定轴的元素的累积乘积, 将 NaN 视作 1。\n",
    "- numpy.nancumsum(a, axis, dtype)：返回沿给定轴的元素的累积总和, 将 NaN 视作 0。\n",
    "- numpy.diff(a, n, axis)：计算沿指定轴的第 n 个离散差分。\n",
    "- numpy.ediff1d(ary, to_end, to_begin)：数组的连续元素之间的差异。\n",
    "- numpy.gradient(f)：返回 N 维数组的梯度。\n",
    "- numpy.cross(a, b, axisa, axisb, axisc, axis)：返回两个(数组）向量的叉积。\n",
    "- numpy.trapz(y, x, dx, axis)：使用复合梯形规则沿给定轴积分。"
   ]
  },
  {
   "cell_type": "markdown",
   "metadata": {},
   "source": [
    "## 1.5 指数和对数"
   ]
  },
  {
   "cell_type": "markdown",
   "metadata": {},
   "source": [
    "1. numpy.exp(x)：计算输入数组中所有元素的指数。\n",
    "- numpy.expm1(x)：对数组中的所有元素计算 exp(x） - 1.\n",
    "- numpy.exp2(x)：对于输入数组中的所有 p, 计算 2\\*\\*p。\n",
    "- numpy.log(x)：计算自然对数。\n",
    "- numpy.log10(x)：计算常用对数。\n",
    "- numpy.log2(x)：计算二进制对数。\n",
    "- numpy.log1p(x)：log(1 + x)。\n",
    "- numpy.logaddexp(x1, x2)：log2(2\\*\\*x1 + 2\\*\\*x2)。\n",
    "- numpy.logaddexp2(x1, x2)：log(exp(x1) + exp(x2))。"
   ]
  },
  {
   "cell_type": "markdown",
   "metadata": {},
   "source": [
    "## 1.6 算术运算"
   ]
  },
  {
   "cell_type": "markdown",
   "metadata": {},
   "source": [
    "1. numpy.add(x1, x2)：对应元素相加。\n",
    "- numpy.reciprocal(x)：求倒数 1/x。\n",
    "- numpy.negative(x)：求对应负数。\n",
    "- numpy.multiply(x1, x2)：求解乘法。\n",
    "- numpy.divide(x1, x2)：相除 x1/x2。\n",
    "- numpy.power(x1, x2)：类似于 x1^x2。\n",
    "- numpy.subtract(x1, x2)：减法。\n",
    "- numpy.fmod(x1, x2)：返回除法的元素余项。\n",
    "- numpy.mod(x1, x2)：返回余项。\n",
    "- numpy.modf(x1)：返回数组的小数和整数部分。\n",
    "- numpy.remainder(x1, x2)：返回除法余数。"
   ]
  },
  {
   "cell_type": "code",
   "execution_count": 15,
   "metadata": {},
   "outputs": [
    {
     "data": {
      "text/plain": [
       "array([4, 2, 3, 2, 6])"
      ]
     },
     "execution_count": 15,
     "metadata": {},
     "output_type": "execute_result"
    }
   ],
   "source": [
    "a1 = np.random.randint(0, 10, 5)\n",
    "a2 = np.random.randint(0, 10, 5)\n",
    "\n",
    "a1"
   ]
  },
  {
   "cell_type": "code",
   "execution_count": 16,
   "metadata": {},
   "outputs": [
    {
     "data": {
      "text/plain": [
       "array([0, 4, 5, 7, 8])"
      ]
     },
     "execution_count": 16,
     "metadata": {},
     "output_type": "execute_result"
    }
   ],
   "source": [
    "a2"
   ]
  },
  {
   "cell_type": "code",
   "execution_count": 17,
   "metadata": {},
   "outputs": [
    {
     "data": {
      "text/plain": [
       "array([ 4,  6,  8,  9, 14])"
      ]
     },
     "execution_count": 17,
     "metadata": {},
     "output_type": "execute_result"
    }
   ],
   "source": [
    "np.add(a1, a2)"
   ]
  },
  {
   "cell_type": "code",
   "execution_count": 18,
   "metadata": {},
   "outputs": [
    {
     "data": {
      "text/plain": [
       "array([0, 0, 0, 0, 0], dtype=int32)"
      ]
     },
     "execution_count": 18,
     "metadata": {},
     "output_type": "execute_result"
    }
   ],
   "source": [
    "np.reciprocal(a1)"
   ]
  },
  {
   "cell_type": "code",
   "execution_count": 19,
   "metadata": {},
   "outputs": [
    {
     "data": {
      "text/plain": [
       "array([-4, -2, -3, -2, -6])"
      ]
     },
     "execution_count": 19,
     "metadata": {},
     "output_type": "execute_result"
    }
   ],
   "source": [
    "np.negative(a1)"
   ]
  },
  {
   "cell_type": "code",
   "execution_count": 20,
   "metadata": {},
   "outputs": [
    {
     "data": {
      "text/plain": [
       "array([ 0,  8, 15, 14, 48])"
      ]
     },
     "execution_count": 20,
     "metadata": {},
     "output_type": "execute_result"
    }
   ],
   "source": [
    "np.multiply(a1, a2)"
   ]
  },
  {
   "cell_type": "code",
   "execution_count": 21,
   "metadata": {},
   "outputs": [
    {
     "name": "stderr",
     "output_type": "stream",
     "text": [
      "D:\\Program Soft\\Anaconda\\Anaconda3\\lib\\site-packages\\ipykernel_launcher.py:1: RuntimeWarning: divide by zero encountered in true_divide\n",
      "  \"\"\"Entry point for launching an IPython kernel.\n"
     ]
    },
    {
     "data": {
      "text/plain": [
       "array([        inf,  0.5       ,  0.6       ,  0.28571429,  0.75      ])"
      ]
     },
     "execution_count": 21,
     "metadata": {},
     "output_type": "execute_result"
    }
   ],
   "source": [
    "np.divide(a1, a2)"
   ]
  },
  {
   "cell_type": "code",
   "execution_count": 22,
   "metadata": {},
   "outputs": [
    {
     "data": {
      "text/plain": [
       "array([      1,      16,     243,     128, 1679616], dtype=int32)"
      ]
     },
     "execution_count": 22,
     "metadata": {},
     "output_type": "execute_result"
    }
   ],
   "source": [
    "np.power(a1, a2)"
   ]
  },
  {
   "cell_type": "code",
   "execution_count": 23,
   "metadata": {},
   "outputs": [
    {
     "data": {
      "text/plain": [
       "array([ 4, -2, -2, -5, -2])"
      ]
     },
     "execution_count": 23,
     "metadata": {},
     "output_type": "execute_result"
    }
   ],
   "source": [
    "np.subtract(a1, a2)"
   ]
  },
  {
   "cell_type": "code",
   "execution_count": 24,
   "metadata": {},
   "outputs": [
    {
     "name": "stderr",
     "output_type": "stream",
     "text": [
      "D:\\Program Soft\\Anaconda\\Anaconda3\\lib\\site-packages\\ipykernel_launcher.py:1: RuntimeWarning: divide by zero encountered in fmod\n",
      "  \"\"\"Entry point for launching an IPython kernel.\n"
     ]
    },
    {
     "data": {
      "text/plain": [
       "array([0, 2, 3, 2, 6], dtype=int32)"
      ]
     },
     "execution_count": 24,
     "metadata": {},
     "output_type": "execute_result"
    }
   ],
   "source": [
    "np.fmod(a1, a2)"
   ]
  },
  {
   "cell_type": "code",
   "execution_count": 25,
   "metadata": {},
   "outputs": [
    {
     "name": "stderr",
     "output_type": "stream",
     "text": [
      "D:\\Program Soft\\Anaconda\\Anaconda3\\lib\\site-packages\\ipykernel_launcher.py:1: RuntimeWarning: divide by zero encountered in remainder\n",
      "  \"\"\"Entry point for launching an IPython kernel.\n"
     ]
    },
    {
     "data": {
      "text/plain": [
       "array([0, 2, 3, 2, 6], dtype=int32)"
      ]
     },
     "execution_count": 25,
     "metadata": {},
     "output_type": "execute_result"
    }
   ],
   "source": [
    "np.mod(a1, a2)"
   ]
  },
  {
   "cell_type": "code",
   "execution_count": 27,
   "metadata": {},
   "outputs": [
    {
     "data": {
      "text/plain": [
       "(array([ 0.,  0.,  0.,  0.,  0.]), array([ 4.,  2.,  3.,  2.,  6.]))"
      ]
     },
     "execution_count": 27,
     "metadata": {},
     "output_type": "execute_result"
    }
   ],
   "source": [
    "np.modf(a1)"
   ]
  },
  {
   "cell_type": "code",
   "execution_count": 28,
   "metadata": {},
   "outputs": [
    {
     "name": "stderr",
     "output_type": "stream",
     "text": [
      "D:\\Program Soft\\Anaconda\\Anaconda3\\lib\\site-packages\\ipykernel_launcher.py:1: RuntimeWarning: divide by zero encountered in remainder\n",
      "  \"\"\"Entry point for launching an IPython kernel.\n"
     ]
    },
    {
     "data": {
      "text/plain": [
       "array([0, 2, 3, 2, 6], dtype=int32)"
      ]
     },
     "execution_count": 28,
     "metadata": {},
     "output_type": "execute_result"
    }
   ],
   "source": [
    "np.remainder(a1, a2)"
   ]
  },
  {
   "cell_type": "markdown",
   "metadata": {},
   "source": [
    "## 1.7 矩阵和向量积"
   ]
  },
  {
   "cell_type": "markdown",
   "metadata": {},
   "source": [
    "1. numpy.dot(a,b)：求解两个数组的点积。\n",
    "- numpy.vdot(a,b)：求解两个向量的点积。\n",
    "- numpy.inner(a,b)：求解两个数组的内积。\n",
    "- numpy.outer(a,b)：求解两个向量的外积。\n",
    "- numpy.matmul(a,b)：求解两个数组的矩阵乘积。\n",
    "- numpy.tensordot(a,b)：求解张量点积。\n",
    "- numpy.kron(a,b)：计算 Kronecker 乘积。"
   ]
  },
  {
   "cell_type": "markdown",
   "metadata": {},
   "source": [
    "## 1.8 其他"
   ]
  },
  {
   "cell_type": "markdown",
   "metadata": {},
   "source": [
    "1. numpy.angle(z, deg)：返回复参数的角度。\n",
    "- numpy.real(val)：返回数组元素的实部。\n",
    "- numpy.imag(val)：返回数组元素的虚部。\n",
    "- numpy.conj(x)：按元素方式返回共轭复数。\n",
    "- numpy.convolve(a, v, mode)：返回线性卷积。\n",
    "- numpy.sqrt(x)：平方根。\n",
    "- numpy.cbrt(x)：立方根。\n",
    "- numpy.square(x)：平方。\n",
    "- numpy.absolute(x)：绝对值, 可求解复数。\n",
    "- numpy.fabs(x)：绝对值。\n",
    "- numpy.sign(x)：符号函数。\n",
    "- numpy.maximum(x1, x2)：最大值。\n",
    "- numpy.minimum(x1, x2)：最小值。\n",
    "- numpy.nan_to_num(x)：用 0 替换 NaN。\n",
    "- numpy.interp(x, xp, fp, left, right, period)：线性插值。"
   ]
  },
  {
   "cell_type": "code",
   "execution_count": null,
   "metadata": {
    "collapsed": true
   },
   "outputs": [],
   "source": []
  }
 ],
 "metadata": {
  "kernelspec": {
   "display_name": "Python 3",
   "language": "python",
   "name": "python3"
  },
  "language_info": {
   "codemirror_mode": {
    "name": "ipython",
    "version": 3
   },
   "file_extension": ".py",
   "mimetype": "text/x-python",
   "name": "python",
   "nbconvert_exporter": "python",
   "pygments_lexer": "ipython3",
   "version": "3.6.1"
  }
 },
 "nbformat": 4,
 "nbformat_minor": 2
}
