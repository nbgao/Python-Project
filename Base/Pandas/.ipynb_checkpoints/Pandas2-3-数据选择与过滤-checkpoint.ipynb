{
 "cells": [
  {
   "cell_type": "markdown",
   "metadata": {},
   "source": [
    "# 1. 基于索引数字选择"
   ]
  },
  {
   "cell_type": "code",
   "execution_count": 1,
   "metadata": {},
   "outputs": [
    {
     "name": "stdout",
     "output_type": "stream",
     "text": [
      "   Zip Code  Total Population  Median Age  Total Males  Total Females  \\\n",
      "0     91371                 1        73.5            0              1   \n",
      "1     90001             57110        26.6        28468          28642   \n",
      "2     90002             51223        25.5        24876          26347   \n",
      "3     90003             66266        26.3        32631          33635   \n",
      "4     90004             62180        34.8        31302          30878   \n",
      "\n",
      "   Total Households  Average Household Size  \n",
      "0                 1                    1.00  \n",
      "1             12971                    4.40  \n",
      "2             11731                    4.36  \n",
      "3             15642                    4.22  \n",
      "4             22547                    2.73  \n"
     ]
    }
   ],
   "source": [
    "import pandas as pd\n",
    "\n",
    "df = pd.read_csv(\"./Data/los_census.csv\")\n",
    "print(df.head())"
   ]
  },
  {
   "cell_type": "code",
   "execution_count": 3,
   "metadata": {},
   "outputs": [
    {
     "name": "stdout",
     "output_type": "stream",
     "text": [
      "   Zip Code  Total Population  Median Age  Total Males  Total Females  \\\n",
      "0     91371                 1        73.5            0              1   \n",
      "1     90001             57110        26.6        28468          28642   \n",
      "2     90002             51223        25.5        24876          26347   \n",
      "\n",
      "   Total Households  Average Household Size  \n",
      "0                 1                    1.00  \n",
      "1             12971                    4.40  \n",
      "2             11731                    4.36  \n"
     ]
    }
   ],
   "source": [
    "print(df.iloc[:3])"
   ]
  },
  {
   "cell_type": "code",
   "execution_count": 4,
   "metadata": {},
   "outputs": [
    {
     "name": "stdout",
     "output_type": "stream",
     "text": [
      "Zip Code                  90005.0\n",
      "Total Population          37681.0\n",
      "Median Age                   33.9\n",
      "Total Males               19299.0\n",
      "Total Females             18382.0\n",
      "Total Households          15044.0\n",
      "Average Household Size        2.5\n",
      "Name: 5, dtype: float64\n"
     ]
    }
   ],
   "source": [
    "print(df.iloc[5])"
   ]
  },
  {
   "cell_type": "code",
   "execution_count": 7,
   "metadata": {},
   "outputs": [
    {
     "name": "stdout",
     "output_type": "stream",
     "text": [
      "   Zip Code  Total Population  Median Age  Total Males  Total Females  \\\n",
      "1     90001             57110        26.6        28468          28642   \n",
      "3     90003             66266        26.3        32631          33635   \n",
      "5     90005             37681        33.9        19299          18382   \n",
      "\n",
      "   Total Households  Average Household Size  \n",
      "1             12971                    4.40  \n",
      "3             15642                    4.22  \n",
      "5             15044                    2.50  \n"
     ]
    }
   ],
   "source": [
    "print(df.iloc[[1,3,5]])"
   ]
  },
  {
   "cell_type": "code",
   "execution_count": 8,
   "metadata": {},
   "outputs": [
    {
     "name": "stdout",
     "output_type": "stream",
     "text": [
      "     Total Population  Median Age  Total Males\n",
      "0                   1        73.5            0\n",
      "1               57110        26.6        28468\n",
      "2               51223        25.5        24876\n",
      "3               66266        26.3        32631\n",
      "4               62180        34.8        31302\n",
      "5               37681        33.9        19299\n",
      "6               59185        32.4        30254\n",
      "7               40920        24.0        20915\n",
      "8               32327        39.7        14477\n",
      "9                3800        37.8         1874\n",
      "10             103892        26.2        52794\n",
      "11              31103        36.3        19493\n",
      "12              11772        44.6         7629\n",
      "13               7005        44.8         4471\n",
      "14              18986        31.3         9833\n",
      "15              47596        33.9        22778\n",
      "16              23768        29.4        12818\n",
      "17              49310        33.2        23770\n",
      "18              64458        35.8        31442\n",
      "19              38967        34.6        19381\n",
      "20               3951        44.3         2790\n",
      "21              67179        29.8        33216\n",
      "22              45903        28.4        23037\n",
      "23              47452        23.6        22248\n",
      "24              42147        34.7        20859\n",
      "25              67869        34.0        34515\n",
      "26              45151        38.3        22362\n",
      "27              28714        34.0        16056\n",
      "28              38617        34.6        19575\n",
      "29              39316        33.5        19546\n",
      "..                ...         ...          ...\n",
      "289             30854        35.3        14950\n",
      "290             52735        39.1        24833\n",
      "291             30322        39.6        14486\n",
      "292             32725        25.6        16857\n",
      "293             16763        37.9         8565\n",
      "294              6220        41.8         3136\n",
      "295              4894        44.1         2522\n",
      "296             35533        38.7        17338\n",
      "297              3613        38.6         1757\n",
      "298             51767        36.0        25643\n",
      "299              2031        29.3         1052\n",
      "300             54366        39.0        26592\n",
      "301              5077        44.0         2585\n",
      "302              1699        40.9          884\n",
      "303              4176        38.4         3301\n",
      "304              7993        45.2         4086\n",
      "305              3074        27.0         1531\n",
      "306              2932        41.7         1642\n",
      "307             39341        31.1        18601\n",
      "308             72046        28.3        34879\n",
      "309             70918        34.4        37804\n",
      "310             13033        32.9         6695\n",
      "311              1259        52.4          689\n",
      "312             74929        27.5        36414\n",
      "313             50798        37.0        25056\n",
      "314             38158        28.4        18711\n",
      "315              2138        43.3         1121\n",
      "316             18910        32.4         9491\n",
      "317               388        44.5          263\n",
      "318              7285        30.9         3653\n",
      "\n",
      "[319 rows x 3 columns]\n"
     ]
    }
   ],
   "source": [
    "print(df.iloc[:, 1:4])"
   ]
  },
  {
   "cell_type": "markdown",
   "metadata": {},
   "source": [
    "# 2. 基于标签名称选择"
   ]
  },
  {
   "cell_type": "code",
   "execution_count": 9,
   "metadata": {},
   "outputs": [
    {
     "name": "stdout",
     "output_type": "stream",
     "text": [
      "          A         B         C         D         E\n",
      "a  1.838270  0.385339 -0.401902 -0.115573 -2.058883\n",
      "b  0.175414 -1.724850  0.688623  2.711814  2.372524\n",
      "c  1.015289  0.935709 -0.576686 -1.014896  0.136664\n",
      "d  0.094907  0.178066 -2.558176  1.540890  0.297352\n",
      "e  0.446176  0.086807 -0.974286 -0.272760 -0.518934\n",
      "f -1.428622 -0.184745 -0.393220  0.030583 -0.155489\n"
     ]
    }
   ],
   "source": [
    "import numpy as np\n",
    "\n",
    "df = pd.DataFrame(np.random.randn(6,5), index=list('abcdef'), columns=list('ABCDE'))\n",
    "print(df)"
   ]
  },
  {
   "cell_type": "code",
   "execution_count": 10,
   "metadata": {},
   "outputs": [
    {
     "name": "stdout",
     "output_type": "stream",
     "text": [
      "          A         B         C         D         E\n",
      "a  1.838270  0.385339 -0.401902 -0.115573 -2.058883\n",
      "b  0.175414 -1.724850  0.688623  2.711814  2.372524\n",
      "c  1.015289  0.935709 -0.576686 -1.014896  0.136664\n"
     ]
    }
   ],
   "source": [
    "print(df.loc['a': 'c'])"
   ]
  },
  {
   "cell_type": "code",
   "execution_count": 11,
   "metadata": {},
   "outputs": [
    {
     "name": "stdout",
     "output_type": "stream",
     "text": [
      "          A         B         C         D         E\n",
      "a  1.838270  0.385339 -0.401902 -0.115573 -2.058883\n",
      "c  1.015289  0.935709 -0.576686 -1.014896  0.136664\n",
      "d  0.094907  0.178066 -2.558176  1.540890  0.297352\n"
     ]
    }
   ],
   "source": [
    "print(df.loc[['a', 'c', 'd']])"
   ]
  },
  {
   "cell_type": "code",
   "execution_count": 12,
   "metadata": {},
   "outputs": [
    {
     "name": "stdout",
     "output_type": "stream",
     "text": [
      "          B         C         D\n",
      "a  0.385339 -0.401902 -0.115573\n",
      "b -1.724850  0.688623  2.711814\n",
      "c  0.935709 -0.576686 -1.014896\n",
      "d  0.178066 -2.558176  1.540890\n",
      "e  0.086807 -0.974286 -0.272760\n",
      "f -0.184745 -0.393220  0.030583\n"
     ]
    }
   ],
   "source": [
    "print(df.loc[:, 'B':'D'])"
   ]
  },
  {
   "cell_type": "code",
   "execution_count": 13,
   "metadata": {},
   "outputs": [
    {
     "name": "stdout",
     "output_type": "stream",
     "text": [
      "          C         D         E\n",
      "a -0.401902 -0.115573 -2.058883\n",
      "c -0.576686 -1.014896  0.136664\n"
     ]
    }
   ],
   "source": [
    "print(df.loc[['a','c'], 'C':])"
   ]
  },
  {
   "cell_type": "markdown",
   "metadata": {},
   "source": [
    "# 3. 数据随机取样"
   ]
  },
  {
   "cell_type": "code",
   "execution_count": 14,
   "metadata": {},
   "outputs": [
    {
     "name": "stdout",
     "output_type": "stream",
     "text": [
      "<bound method NDFrame.sample of 0    0\n",
      "1    1\n",
      "2    2\n",
      "3    3\n",
      "4    4\n",
      "5    5\n",
      "6    6\n",
      "7    7\n",
      "8    8\n",
      "9    9\n",
      "dtype: int64>\n"
     ]
    }
   ],
   "source": [
    "s = pd.Series([0,1,2,3,4,5,6,7,8,9])\n",
    "print(s.sample)"
   ]
  },
  {
   "cell_type": "code",
   "execution_count": 15,
   "metadata": {},
   "outputs": [
    {
     "name": "stdout",
     "output_type": "stream",
     "text": [
      "8    8\n",
      "2    2\n",
      "1    1\n",
      "4    4\n",
      "6    6\n",
      "dtype: int64\n"
     ]
    }
   ],
   "source": [
    "print(s.sample(n=5))"
   ]
  },
  {
   "cell_type": "code",
   "execution_count": 18,
   "metadata": {},
   "outputs": [
    {
     "name": "stdout",
     "output_type": "stream",
     "text": [
      "          A         B         C         D         E\n",
      "a  0.122706  0.422882 -0.020708  0.891455  0.990192\n",
      "b -0.764925  0.591366  1.232752 -0.690437 -1.255064\n",
      "c  0.129781 -0.994705 -0.937010 -1.698496 -1.460023\n",
      "d  0.774633 -1.207048 -0.540629  0.555650  0.428175\n",
      "e -0.920062 -0.362032 -1.015909  1.977575 -0.049685\n",
      "f  0.230551  0.289129  1.383222  0.094763 -0.717089\n",
      "          A         B         C         D         E\n",
      "d  0.774633 -1.207048 -0.540629  0.555650  0.428175\n",
      "e -0.920062 -0.362032 -1.015909  1.977575 -0.049685\n",
      "b -0.764925  0.591366  1.232752 -0.690437 -1.255064\n"
     ]
    }
   ],
   "source": [
    "df = pd.DataFrame(np.random.randn(6,5), index=list('abcdef'), columns=list('ABCDE'))\n",
    "print(df)\n",
    "print(df.sample(n=3))"
   ]
  },
  {
   "cell_type": "code",
   "execution_count": 19,
   "metadata": {},
   "outputs": [
    {
     "data": {
      "text/html": [
       "<div>\n",
       "<style>\n",
       "    .dataframe thead tr:only-child th {\n",
       "        text-align: right;\n",
       "    }\n",
       "\n",
       "    .dataframe thead th {\n",
       "        text-align: left;\n",
       "    }\n",
       "\n",
       "    .dataframe tbody tr th {\n",
       "        vertical-align: top;\n",
       "    }\n",
       "</style>\n",
       "<table border=\"1\" class=\"dataframe\">\n",
       "  <thead>\n",
       "    <tr style=\"text-align: right;\">\n",
       "      <th></th>\n",
       "      <th>B</th>\n",
       "      <th>A</th>\n",
       "      <th>E</th>\n",
       "    </tr>\n",
       "  </thead>\n",
       "  <tbody>\n",
       "    <tr>\n",
       "      <th>a</th>\n",
       "      <td>0.422882</td>\n",
       "      <td>0.122706</td>\n",
       "      <td>0.990192</td>\n",
       "    </tr>\n",
       "    <tr>\n",
       "      <th>b</th>\n",
       "      <td>0.591366</td>\n",
       "      <td>-0.764925</td>\n",
       "      <td>-1.255064</td>\n",
       "    </tr>\n",
       "    <tr>\n",
       "      <th>c</th>\n",
       "      <td>-0.994705</td>\n",
       "      <td>0.129781</td>\n",
       "      <td>-1.460023</td>\n",
       "    </tr>\n",
       "    <tr>\n",
       "      <th>d</th>\n",
       "      <td>-1.207048</td>\n",
       "      <td>0.774633</td>\n",
       "      <td>0.428175</td>\n",
       "    </tr>\n",
       "    <tr>\n",
       "      <th>e</th>\n",
       "      <td>-0.362032</td>\n",
       "      <td>-0.920062</td>\n",
       "      <td>-0.049685</td>\n",
       "    </tr>\n",
       "    <tr>\n",
       "      <th>f</th>\n",
       "      <td>0.289129</td>\n",
       "      <td>0.230551</td>\n",
       "      <td>-0.717089</td>\n",
       "    </tr>\n",
       "  </tbody>\n",
       "</table>\n",
       "</div>"
      ],
      "text/plain": [
       "          B         A         E\n",
       "a  0.422882  0.122706  0.990192\n",
       "b  0.591366 -0.764925 -1.255064\n",
       "c -0.994705  0.129781 -1.460023\n",
       "d -1.207048  0.774633  0.428175\n",
       "e -0.362032 -0.920062 -0.049685\n",
       "f  0.289129  0.230551 -0.717089"
      ]
     },
     "execution_count": 19,
     "metadata": {},
     "output_type": "execute_result"
    }
   ],
   "source": [
    "df.sample(n=3, axis=1)"
   ]
  },
  {
   "cell_type": "markdown",
   "metadata": {},
   "source": [
    "# 4. 条件语句选择"
   ]
  },
  {
   "cell_type": "code",
   "execution_count": 23,
   "metadata": {},
   "outputs": [
    {
     "name": "stdout",
     "output_type": "stream",
     "text": [
      "0   -5\n",
      "1   -4\n",
      "2   -3\n",
      "3   -2\n",
      "4   -1\n",
      "5    0\n",
      "6    1\n",
      "7    2\n",
      "8    3\n",
      "9    4\n",
      "dtype: int32\n",
      "0   -5\n",
      "1   -4\n",
      "2   -3\n",
      "7    2\n",
      "8    3\n",
      "9    4\n",
      "dtype: int32\n"
     ]
    }
   ],
   "source": [
    "s = pd.Series(range(-5,5))\n",
    "\n",
    "print(s)\n",
    "print(s[(s<-2) | (s>1)])"
   ]
  },
  {
   "cell_type": "code",
   "execution_count": 24,
   "metadata": {},
   "outputs": [
    {
     "name": "stdout",
     "output_type": "stream",
     "text": [
      "          A         B         C         D         E\n",
      "a -0.283564  1.636418 -0.162738  0.600555  0.848387\n",
      "b  0.623261 -1.524652  0.821911  0.832867  1.209299\n",
      "c  1.264347  0.031818  1.571742  0.151507  0.662160\n",
      "d -0.706777 -1.085443  0.259947 -0.313016 -0.546516\n",
      "e  0.597907 -0.968233  0.329765 -0.640404 -1.724966\n",
      "f -0.330724 -1.169758 -0.076407  0.559709 -0.059953\n",
      "          A         B         C         D         E\n",
      "a -0.283564  1.636418 -0.162738  0.600555  0.848387\n",
      "c  1.264347  0.031818  1.571742  0.151507  0.662160\n",
      "d -0.706777 -1.085443  0.259947 -0.313016 -0.546516\n",
      "e  0.597907 -0.968233  0.329765 -0.640404 -1.724966\n"
     ]
    }
   ],
   "source": [
    "df = pd.DataFrame(np.random.randn(6,5), index=list('abcdef'), columns=list('ABCDE'))\n",
    "\n",
    "print(df)\n",
    "print(df[(df['B']>0) | (df['D']<0)])"
   ]
  },
  {
   "cell_type": "markdown",
   "metadata": {},
   "source": [
    "# 5. where()方法选择"
   ]
  },
  {
   "cell_type": "code",
   "execution_count": 25,
   "metadata": {},
   "outputs": [
    {
     "name": "stdout",
     "output_type": "stream",
     "text": [
      "          A         B         C         D         E\n",
      "a  0.897194 -1.034974  1.381591 -1.666606  0.157706\n",
      "b  0.422981  0.084428 -0.364508 -0.526168  0.258289\n",
      "c  0.190367 -0.597527  0.530349 -0.738422 -0.134158\n",
      "d  0.724641 -1.209862 -1.026021  1.092180  0.220388\n",
      "e -1.252805 -0.714086  1.296685  1.079495  1.169679\n",
      "f  0.533784 -1.606023 -1.105988  0.828149  0.083698\n",
      "          A         B         C         D         E\n",
      "a       NaN -1.034974       NaN -1.666606       NaN\n",
      "b       NaN       NaN -0.364508 -0.526168       NaN\n",
      "c       NaN -0.597527       NaN -0.738422 -0.134158\n",
      "d       NaN -1.209862 -1.026021       NaN       NaN\n",
      "e -1.252805 -0.714086       NaN       NaN       NaN\n",
      "f       NaN -1.606023 -1.105988       NaN       NaN\n"
     ]
    }
   ],
   "source": [
    "df = pd.DataFrame(np.random.randn(6,5), index=list('abcdef'), columns=list('ABCDE'))\n",
    "\n",
    "print(df)\n",
    "print(df.where(df<0))"
   ]
  },
  {
   "cell_type": "code",
   "execution_count": 26,
   "metadata": {},
   "outputs": [
    {
     "name": "stdout",
     "output_type": "stream",
     "text": [
      "          A         B         C         D         E\n",
      "a -0.897194 -1.034974 -1.381591 -1.666606 -0.157706\n",
      "b -0.422981 -0.084428 -0.364508 -0.526168 -0.258289\n",
      "c -0.190367 -0.597527 -0.530349 -0.738422 -0.134158\n",
      "d -0.724641 -1.209862 -1.026021 -1.092180 -0.220388\n",
      "e -1.252805 -0.714086 -1.296685 -1.079495 -1.169679\n",
      "f -0.533784 -1.606023 -1.105988 -0.828149 -0.083698\n"
     ]
    }
   ],
   "source": [
    "print(df.where(df<0,-df))"
   ]
  },
  {
   "cell_type": "markdown",
   "metadata": {},
   "source": [
    "# 6. query()方法选择"
   ]
  },
  {
   "cell_type": "code",
   "execution_count": 27,
   "metadata": {},
   "outputs": [
    {
     "name": "stdout",
     "output_type": "stream",
     "text": [
      "          a         b         c         d         e\n",
      "0  0.945267  0.946270  0.581801  0.483969  0.380303\n",
      "1  0.675806  0.784422  0.885817  0.016656  0.699426\n",
      "2  0.645698  0.090497  0.805377  0.817151  0.307370\n",
      "3  0.250201  0.268565  0.451902  0.847266  0.652337\n",
      "4  0.983571  0.149383  0.888640  0.380552  0.251519\n",
      "5  0.282951  0.710372  0.032414  0.924529  0.759053\n",
      "6  0.323002  0.744584  0.184943  0.183904  0.333059\n",
      "7  0.807909  0.681218  0.180467  0.220701  0.223391\n",
      "8  0.487440  0.670031  0.911512  0.264378  0.391351\n",
      "9  0.460939  0.109443  0.225209  0.660848  0.731955\n",
      "          a         b         c         d         e\n",
      "1  0.675806  0.784422  0.885817  0.016656  0.699426\n",
      "3  0.250201  0.268565  0.451902  0.847266  0.652337\n",
      "8  0.487440  0.670031  0.911512  0.264378  0.391351\n"
     ]
    }
   ],
   "source": [
    "df = pd.DataFrame(np.random.rand(10, 5), columns=list('abcde'))\n",
    "\n",
    "print(df)\n",
    "print(df.query('(a<b) & (b<c)'))"
   ]
  },
  {
   "cell_type": "code",
   "execution_count": 28,
   "metadata": {},
   "outputs": [
    {
     "name": "stdout",
     "output_type": "stream",
     "text": [
      "          a         b         c         d         e\n",
      "1  0.675806  0.784422  0.885817  0.016656  0.699426\n",
      "3  0.250201  0.268565  0.451902  0.847266  0.652337\n",
      "8  0.487440  0.670031  0.911512  0.264378  0.391351\n"
     ]
    }
   ],
   "source": [
    "print(df[(df.a < df.b) & (df.b < df.c)])"
   ]
  },
  {
   "cell_type": "code",
   "execution_count": null,
   "metadata": {
    "collapsed": true
   },
   "outputs": [],
   "source": []
  }
 ],
 "metadata": {
  "kernelspec": {
   "display_name": "Python 3",
   "language": "python",
   "name": "python3"
  },
  "language_info": {
   "codemirror_mode": {
    "name": "ipython",
    "version": 3
   },
   "file_extension": ".py",
   "mimetype": "text/x-python",
   "name": "python",
   "nbconvert_exporter": "python",
   "pygments_lexer": "ipython3",
   "version": "3.6.1"
  }
 },
 "nbformat": 4,
 "nbformat_minor": 2
}
