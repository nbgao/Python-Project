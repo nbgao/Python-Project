{
 "cells": [
  {
   "cell_type": "markdown",
   "metadata": {},
   "source": [
    "# 1. 一维数据 Series"
   ]
  },
  {
   "cell_type": "markdown",
   "metadata": {},
   "source": [
    "## 1.1 Dictionary -> Series"
   ]
  },
  {
   "cell_type": "code",
   "execution_count": 3,
   "metadata": {},
   "outputs": [
    {
     "name": "stdout",
     "output_type": "stream",
     "text": [
      "{'a': 10, 'b': 20, 'c': 30}\n"
     ]
    }
   ],
   "source": [
    "import pandas as pd\n",
    "\n",
    "d = {'a': 10, 'b': 20, 'c': 30}\n",
    "print(d)"
   ]
  },
  {
   "cell_type": "code",
   "execution_count": 4,
   "metadata": {},
   "outputs": [
    {
     "name": "stdout",
     "output_type": "stream",
     "text": [
      "b    20.0\n",
      "c    30.0\n",
      "d     NaN\n",
      "a    10.0\n",
      "dtype: float64\n"
     ]
    }
   ],
   "source": [
    "s = pd.Series(d, index=['b', 'c', 'd', 'a'])\n",
    "print(s)"
   ]
  },
  {
   "cell_type": "markdown",
   "metadata": {},
   "source": [
    "## 1.2 ndarray -> Series"
   ]
  },
  {
   "cell_type": "code",
   "execution_count": 8,
   "metadata": {},
   "outputs": [
    {
     "name": "stdout",
     "output_type": "stream",
     "text": [
      "a    1.004548\n",
      "b   -0.942894\n",
      "c    1.309514\n",
      "d   -0.465479\n",
      "e   -0.249478\n",
      "dtype: float64\n"
     ]
    }
   ],
   "source": [
    "import numpy as np\n",
    "\n",
    "data = np.random.randn(5)    # 一维随机数\n",
    "index = ['a', 'b', 'c', 'd', 'e']    # 指定索引\n",
    "\n",
    "s = pd.Series(data, index)\n",
    "print(s)"
   ]
  },
  {
   "cell_type": "code",
   "execution_count": 9,
   "metadata": {},
   "outputs": [
    {
     "data": {
      "text/plain": [
       "1.0045477278601351"
      ]
     },
     "execution_count": 9,
     "metadata": {},
     "output_type": "execute_result"
    }
   ],
   "source": [
    "s['a']"
   ]
  },
  {
   "cell_type": "code",
   "execution_count": 10,
   "metadata": {},
   "outputs": [
    {
     "name": "stdout",
     "output_type": "stream",
     "text": [
      "0    1.004548\n",
      "1   -0.942894\n",
      "2    1.309514\n",
      "3   -0.465479\n",
      "4   -0.249478\n",
      "dtype: float64\n"
     ]
    }
   ],
   "source": [
    "# 默认数字索引\n",
    "s = pd.Series(data)\n",
    "print(s)"
   ]
  },
  {
   "cell_type": "code",
   "execution_count": 11,
   "metadata": {},
   "outputs": [
    {
     "data": {
      "text/plain": [
       "-0.24947815726638908"
      ]
     },
     "execution_count": 11,
     "metadata": {},
     "output_type": "execute_result"
    }
   ],
   "source": [
    "s[4]"
   ]
  },
  {
   "cell_type": "code",
   "execution_count": 12,
   "metadata": {},
   "outputs": [
    {
     "data": {
      "text/plain": [
       "0    2.009095\n",
       "1   -1.885787\n",
       "2    2.619029\n",
       "3   -0.930958\n",
       "4   -0.498956\n",
       "dtype: float64"
      ]
     },
     "execution_count": 12,
     "metadata": {},
     "output_type": "execute_result"
    }
   ],
   "source": [
    "2*s"
   ]
  },
  {
   "cell_type": "code",
   "execution_count": 13,
   "metadata": {},
   "outputs": [
    {
     "data": {
      "text/plain": [
       "0    0.0\n",
       "1    0.0\n",
       "2    0.0\n",
       "3    0.0\n",
       "4    0.0\n",
       "dtype: float64"
      ]
     },
     "execution_count": 13,
     "metadata": {},
     "output_type": "execute_result"
    }
   ],
   "source": [
    "s - s"
   ]
  },
  {
   "cell_type": "markdown",
   "metadata": {},
   "source": [
    "# 2. 二维数据 DataFrame"
   ]
  },
  {
   "cell_type": "markdown",
   "metadata": {},
   "source": [
    "## 2.1 Series dictionary -> DataFrame"
   ]
  },
  {
   "cell_type": "code",
   "execution_count": 14,
   "metadata": {},
   "outputs": [
    {
     "name": "stdout",
     "output_type": "stream",
     "text": [
      "   one  two\n",
      "a  1.0  1.0\n",
      "b  2.0  2.0\n",
      "c  3.0  3.0\n",
      "d  NaN  4.0\n"
     ]
    }
   ],
   "source": [
    "# 带Series的字典\n",
    "d = {'one': pd.Series([1., 2., 3.], index=['a', 'b', 'c']), 'two': pd.Series([1., 2., 3., 4.], index=['a', 'b', 'c', 'd'])}\n",
    "\n",
    "df = pd.DataFrame(d)\n",
    "print(df)"
   ]
  },
  {
   "cell_type": "markdown",
   "metadata": {},
   "source": [
    "## 2.2 ndarrays/lists dictionary -> DataFrame"
   ]
  },
  {
   "cell_type": "code",
   "execution_count": 15,
   "metadata": {},
   "outputs": [
    {
     "name": "stdout",
     "output_type": "stream",
     "text": [
      "   one  two\n",
      "0    1    4\n",
      "1    2    3\n",
      "2    3    2\n",
      "3    4    1\n",
      "   one  two\n",
      "a    1    4\n",
      "b    2    3\n",
      "c    3    2\n",
      "d    4    1\n"
     ]
    }
   ],
   "source": [
    "d = {'one': [1,2,3,4], 'two': [4,3,2,1]}\n",
    "\n",
    "df1 = pd.DataFrame(d)    # 未制定索引\n",
    "df2 = pd.DataFrame(d, index=['a','b','c','d'])    # 指定索引\n",
    "\n",
    "print(df1)\n",
    "print(df2)"
   ]
  },
  {
   "cell_type": "markdown",
   "metadata": {},
   "source": [
    "## 2.3 Dictionary list -> DataFrame"
   ]
  },
  {
   "cell_type": "code",
   "execution_count": 17,
   "metadata": {},
   "outputs": [
    {
     "name": "stdout",
     "output_type": "stream",
     "text": [
      "   a   b     c\n",
      "0  1   2   NaN\n",
      "1  5  10  20.0\n"
     ]
    }
   ],
   "source": [
    "# 带字典的列表\n",
    "d = [{'a': 1, 'b': 2}, {'a': 5, 'b': 10, 'c':20}]\n",
    "\n",
    "df = pd.DataFrame(d)\n",
    "print(df)"
   ]
  },
  {
   "cell_type": "markdown",
   "metadata": {},
   "source": [
    "## 2.4 DataFrame.from method"
   ]
  },
  {
   "cell_type": "code",
   "execution_count": 23,
   "metadata": {},
   "outputs": [
    {
     "name": "stdout",
     "output_type": "stream",
     "text": [
      "   one  two  three\n",
      "A    1    2      3\n",
      "B    4    5      6\n"
     ]
    }
   ],
   "source": [
    "d = [('A', [1,2,3]), ('B', [4,5,6])]\n",
    "c = ['one', 'two', 'three']\n",
    "\n",
    "df = pd.DataFrame.from_items(d, orient='index', columns=c)\n",
    "print(df)"
   ]
  },
  {
   "cell_type": "markdown",
   "metadata": {},
   "source": [
    "## 2.5 Columns select, add, delete"
   ]
  },
  {
   "cell_type": "code",
   "execution_count": 24,
   "metadata": {},
   "outputs": [
    {
     "name": "stdout",
     "output_type": "stream",
     "text": [
      "A    1\n",
      "B    4\n",
      "Name: one, dtype: int64\n"
     ]
    }
   ],
   "source": [
    "print(df['one'])"
   ]
  },
  {
   "cell_type": "code",
   "execution_count": 25,
   "metadata": {},
   "outputs": [
    {
     "name": "stdout",
     "output_type": "stream",
     "text": [
      "   two  three\n",
      "A    2      3\n",
      "B    5      6\n"
     ]
    }
   ],
   "source": [
    "df.pop('one')\n",
    "print(df)"
   ]
  },
  {
   "cell_type": "code",
   "execution_count": 28,
   "metadata": {},
   "outputs": [
    {
     "name": "stdout",
     "output_type": "stream",
     "text": [
      "   two  three  four\n",
      "A    2      3    10\n",
      "B    5      6    20\n"
     ]
    }
   ],
   "source": [
    "df.insert(2, 'four', [10,20])\n",
    "print(df)"
   ]
  },
  {
   "cell_type": "markdown",
   "metadata": {},
   "source": [
    "# 3. 三维数据 Panel"
   ]
  },
  {
   "cell_type": "markdown",
   "metadata": {},
   "source": [
    "## 3.1 Panel data"
   ]
  },
  {
   "cell_type": "markdown",
   "metadata": {},
   "source": [
    "- 截面数据\n",
    "- 时间序列数据\n",
    "- 面板数据"
   ]
  },
  {
   "cell_type": "markdown",
   "metadata": {},
   "source": [
    "## 3.2 Panel structrue"
   ]
  },
  {
   "cell_type": "code",
   "execution_count": 30,
   "metadata": {},
   "outputs": [
    {
     "name": "stdout",
     "output_type": "stream",
     "text": [
      "<class 'pandas.core.panel.Panel'>\n",
      "Dimensions: 2 (items) x 5 (major_axis) x 4 (minor_axis)\n",
      "Items axis: Item1 to Item2\n",
      "Major_axis axis: 2000-01-01 00:00:00 to 2000-01-05 00:00:00\n",
      "Minor_axis axis: A to D\n"
     ]
    }
   ],
   "source": [
    "wp = pd.Panel(np.random.randn(2,5,4), items=['Item1', 'Item2'], major_axis=pd.date_range('1/1/2000', periods=5), minor_axis=['A','B','C','D'])\n",
    "print(wp)"
   ]
  },
  {
   "cell_type": "code",
   "execution_count": 31,
   "metadata": {},
   "outputs": [
    {
     "name": "stdout",
     "output_type": "stream",
     "text": [
      "                   A         B         C         D\n",
      "2000-01-01  0.923158 -0.609682  1.091119  1.092425\n",
      "2000-01-02 -0.573000  0.268221 -1.293220  0.031911\n",
      "2000-01-03 -0.944049  1.399705  0.509092 -1.182908\n",
      "2000-01-04 -0.439635  1.305095  1.195450  1.061560\n",
      "2000-01-05 -0.951563 -1.412453 -1.429351  0.424138\n"
     ]
    }
   ],
   "source": [
    "print(wp['Item1'])"
   ]
  },
  {
   "cell_type": "code",
   "execution_count": 32,
   "metadata": {},
   "outputs": [
    {
     "name": "stdout",
     "output_type": "stream",
     "text": [
      "                   A         B         C         D\n",
      "2000-01-01  0.654025  1.055582  0.589341  1.562844\n",
      "2000-01-02  1.456508  1.410843 -0.134336 -1.648385\n",
      "2000-01-03  0.621560 -0.298609  1.644435  1.967582\n",
      "2000-01-04  0.019126 -1.635470 -0.800856 -1.650250\n",
      "2000-01-05  0.070228 -0.516803  0.106117  1.617293\n"
     ]
    }
   ],
   "source": [
    "print(wp['Item2'])"
   ]
  },
  {
   "cell_type": "code",
   "execution_count": 33,
   "metadata": {},
   "outputs": [
    {
     "name": "stdout",
     "output_type": "stream",
     "text": [
      "                     Item1     Item2\n",
      "major      minor                    \n",
      "2000-01-01 A      0.923158  0.654025\n",
      "           B     -0.609682  1.055582\n",
      "           C      1.091119  0.589341\n",
      "           D      1.092425  1.562844\n",
      "2000-01-02 A     -0.573000  1.456508\n",
      "           B      0.268221  1.410843\n",
      "           C     -1.293220 -0.134336\n",
      "           D      0.031911 -1.648385\n",
      "2000-01-03 A     -0.944049  0.621560\n",
      "           B      1.399705 -0.298609\n",
      "           C      0.509092  1.644435\n",
      "           D     -1.182908  1.967582\n",
      "2000-01-04 A     -0.439635  0.019126\n",
      "           B      1.305095 -1.635470\n",
      "           C      1.195450 -0.800856\n",
      "           D      1.061560 -1.650250\n",
      "2000-01-05 A     -0.951563  0.070228\n",
      "           B     -1.412453 -0.516803\n",
      "           C     -1.429351  0.106117\n",
      "           D      0.424138  1.617293\n"
     ]
    }
   ],
   "source": [
    "print(wp.to_frame())"
   ]
  },
  {
   "cell_type": "code",
   "execution_count": null,
   "metadata": {
    "collapsed": true
   },
   "outputs": [],
   "source": []
  }
 ],
 "metadata": {
  "kernelspec": {
   "display_name": "Python 3",
   "language": "python",
   "name": "python3"
  },
  "language_info": {
   "codemirror_mode": {
    "name": "ipython",
    "version": 3
   },
   "file_extension": ".py",
   "mimetype": "text/x-python",
   "name": "python",
   "nbconvert_exporter": "python",
   "pygments_lexer": "ipython3",
   "version": "3.6.1"
  }
 },
 "nbformat": 4,
 "nbformat_minor": 2
}
