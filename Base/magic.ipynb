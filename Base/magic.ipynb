{
 "cells": [
  {
   "cell_type": "code",
   "execution_count": 5,
   "metadata": {},
   "outputs": [
    {
     "data": {
      "application/json": {
       "cell": {
        "!": "OSMagics",
        "HTML": "Other",
        "SVG": "Other",
        "bash": "Other",
        "capture": "ExecutionMagics",
        "cmd": "Other",
        "debug": "ExecutionMagics",
        "file": "Other",
        "html": "DisplayMagics",
        "javascript": "DisplayMagics",
        "js": "DisplayMagics",
        "latex": "DisplayMagics",
        "perl": "Other",
        "prun": "ExecutionMagics",
        "pypy": "Other",
        "python": "Other",
        "python2": "Other",
        "python3": "Other",
        "ruby": "Other",
        "script": "ScriptMagics",
        "sh": "Other",
        "svg": "DisplayMagics",
        "sx": "OSMagics",
        "system": "OSMagics",
        "time": "ExecutionMagics",
        "timeit": "ExecutionMagics",
        "writefile": "OSMagics"
       },
       "line": {
        "alias": "OSMagics",
        "alias_magic": "BasicMagics",
        "autocall": "AutoMagics",
        "automagic": "AutoMagics",
        "autosave": "KernelMagics",
        "bookmark": "OSMagics",
        "cd": "OSMagics",
        "clear": "KernelMagics",
        "cls": "KernelMagics",
        "colors": "BasicMagics",
        "config": "ConfigMagics",
        "connect_info": "KernelMagics",
        "copy": "Other",
        "ddir": "Other",
        "debug": "ExecutionMagics",
        "dhist": "OSMagics",
        "dirs": "OSMagics",
        "doctest_mode": "BasicMagics",
        "echo": "Other",
        "ed": "Other",
        "edit": "KernelMagics",
        "env": "OSMagics",
        "gui": "BasicMagics",
        "hist": "Other",
        "history": "HistoryMagics",
        "killbgscripts": "ScriptMagics",
        "ldir": "Other",
        "less": "KernelMagics",
        "load": "CodeMagics",
        "load_ext": "ExtensionMagics",
        "loadpy": "CodeMagics",
        "logoff": "LoggingMagics",
        "logon": "LoggingMagics",
        "logstart": "LoggingMagics",
        "logstate": "LoggingMagics",
        "logstop": "LoggingMagics",
        "ls": "Other",
        "lsmagic": "BasicMagics",
        "macro": "ExecutionMagics",
        "magic": "BasicMagics",
        "matplotlib": "PylabMagics",
        "mkdir": "Other",
        "more": "KernelMagics",
        "notebook": "BasicMagics",
        "page": "BasicMagics",
        "pastebin": "CodeMagics",
        "pdb": "ExecutionMagics",
        "pdef": "NamespaceMagics",
        "pdoc": "NamespaceMagics",
        "pfile": "NamespaceMagics",
        "pinfo": "NamespaceMagics",
        "pinfo2": "NamespaceMagics",
        "popd": "OSMagics",
        "pprint": "BasicMagics",
        "precision": "BasicMagics",
        "profile": "BasicMagics",
        "prun": "ExecutionMagics",
        "psearch": "NamespaceMagics",
        "psource": "NamespaceMagics",
        "pushd": "OSMagics",
        "pwd": "OSMagics",
        "pycat": "OSMagics",
        "pylab": "PylabMagics",
        "qtconsole": "KernelMagics",
        "quickref": "BasicMagics",
        "recall": "HistoryMagics",
        "rehashx": "OSMagics",
        "reload_ext": "ExtensionMagics",
        "ren": "Other",
        "rep": "Other",
        "rerun": "HistoryMagics",
        "reset": "NamespaceMagics",
        "reset_selective": "NamespaceMagics",
        "rmdir": "Other",
        "run": "ExecutionMagics",
        "save": "CodeMagics",
        "sc": "OSMagics",
        "set_env": "OSMagics",
        "store": "StoreMagics",
        "sx": "OSMagics",
        "system": "OSMagics",
        "tb": "ExecutionMagics",
        "time": "ExecutionMagics",
        "timeit": "ExecutionMagics",
        "unalias": "OSMagics",
        "unload_ext": "ExtensionMagics",
        "who": "NamespaceMagics",
        "who_ls": "NamespaceMagics",
        "whos": "NamespaceMagics",
        "xdel": "NamespaceMagics",
        "xmode": "BasicMagics"
       }
      },
      "text/plain": [
       "Available line magics:\n",
       "%alias  %alias_magic  %autocall  %automagic  %autosave  %bookmark  %cd  %clear  %cls  %colors  %config  %connect_info  %copy  %ddir  %debug  %dhist  %dirs  %doctest_mode  %echo  %ed  %edit  %env  %gui  %hist  %history  %killbgscripts  %ldir  %less  %load  %load_ext  %loadpy  %logoff  %logon  %logstart  %logstate  %logstop  %ls  %lsmagic  %macro  %magic  %matplotlib  %mkdir  %more  %notebook  %page  %pastebin  %pdb  %pdef  %pdoc  %pfile  %pinfo  %pinfo2  %popd  %pprint  %precision  %profile  %prun  %psearch  %psource  %pushd  %pwd  %pycat  %pylab  %qtconsole  %quickref  %recall  %rehashx  %reload_ext  %ren  %rep  %rerun  %reset  %reset_selective  %rmdir  %run  %save  %sc  %set_env  %store  %sx  %system  %tb  %time  %timeit  %unalias  %unload_ext  %who  %who_ls  %whos  %xdel  %xmode\n",
       "\n",
       "Available cell magics:\n",
       "%%!  %%HTML  %%SVG  %%bash  %%capture  %%cmd  %%debug  %%file  %%html  %%javascript  %%js  %%latex  %%perl  %%prun  %%pypy  %%python  %%python2  %%python3  %%ruby  %%script  %%sh  %%svg  %%sx  %%system  %%time  %%timeit  %%writefile\n",
       "\n",
       "Automagic is ON, % prefix IS NOT needed for line magics."
      ]
     },
     "execution_count": 5,
     "metadata": {},
     "output_type": "execute_result"
    }
   ],
   "source": [
    "%lsmagic"
   ]
  },
  {
   "cell_type": "code",
   "execution_count": 7,
   "metadata": {},
   "outputs": [
    {
     "name": "stderr",
     "output_type": "stream",
     "text": [
      "UsageError: %%timeit is a cell magic, but the cell body is empty. Did you mean the line magic %timeit (single %)?\n"
     ]
    }
   ],
   "source": [
    "%%timeit"
   ]
  },
  {
   "cell_type": "code",
   "execution_count": 10,
   "metadata": {},
   "outputs": [
    {
     "name": "stdout",
     "output_type": "stream",
     "text": [
      "C:\\Users\\Pengbing\n"
     ]
    }
   ],
   "source": [
    "%cd"
   ]
  },
  {
   "cell_type": "code",
   "execution_count": 14,
   "metadata": {},
   "outputs": [
    {
     "name": "stdout",
     "output_type": "stream",
     "text": [
      "Microsoft Windows [版本 10.0.15063]\r\n",
      "(c) 2017 Microsoft Corporation。保留所有权利。\r\n",
      "\r\n",
      "C:\\Users\\Pengbing>ping www.google.com\n",
      "\r\n",
      "正在 Ping www.google.com [216.58.200.192] 具有 32 字节的数据:\r\n",
      "来自 216.58.200.192 的回复: 字节=32 时间=66ms TTL=50\r\n",
      "来自 216.58.200.192 的回复: 字节=32 时间=60ms TTL=50\r\n",
      "来自 216.58.200.192 的回复: 字节=32 时间=63ms TTL=50\r\n",
      "来自 216.58.200.192 的回复: 字节=32 时间=63ms TTL=50\r\n",
      "\r\n",
      "216.58.200.192 的 Ping 统计信息:\r\n",
      "    数据包: 已发送 = 4，已接收 = 4，丢失 = 0 (0% 丢失)，\r\n",
      "往返行程的估计时间(以毫秒为单位):\r\n",
      "    最短 = 60ms，最长 = 66ms，平均 = 63ms\r\n",
      "\r\n",
      "C:\\Users\\Pengbing>"
     ]
    }
   ],
   "source": [
    "%%cmd\n",
    "ping www.google.com"
   ]
  },
  {
   "cell_type": "code",
   "execution_count": 16,
   "metadata": {},
   "outputs": [
    {
     "name": "stderr",
     "output_type": "stream",
     "text": [
      "D:\\Program Soft\\Anaconda\\Anaconda3\\lib\\site-packages\\IPython\\core\\magics\\basic.py:344: UserWarning: Error changing shell color schemes.\n",
      "The 'colors' trait of a ZMQInteractiveShell instance must be any of ['Neutral', 'NoColor', 'LightBG', 'Linux'], but a value of 'black' <class 'str'> was specified.\n",
      "  color_switch_err('shell')\n",
      "D:\\Program Soft\\Anaconda\\Anaconda3\\lib\\site-packages\\IPython\\core\\magics\\basic.py:351: UserWarning: Error changing exception color schemes.\n",
      "Unrecognized color scheme: black\n",
      "Valid schemes: ['NoColor', 'Linux', 'LightBG', 'Neutral', '']\n",
      "  color_switch_err('exception')\n",
      "D:\\Program Soft\\Anaconda\\Anaconda3\\lib\\site-packages\\IPython\\core\\magics\\basic.py:358: UserWarning: Error changing object inspector color schemes.\n",
      "Unrecognized color scheme: black\n",
      "Valid schemes: ['NoColor', 'Linux', 'LightBG', 'Neutral', '']\n",
      "  color_switch_err('object inspector')\n"
     ]
    }
   ],
   "source": [
    "%colors black"
   ]
  },
  {
   "cell_type": "code",
   "execution_count": 17,
   "metadata": {},
   "outputs": [
    {
     "name": "stdout",
     "output_type": "stream",
     "text": [
      " 驱动器 C 中的卷是 OS\n",
      " 卷的序列号是 E0D3-953E\n",
      "\n",
      " C:\\Users\\Pengbing 的目录\n",
      "\n",
      "2017/08/18  18:01    <DIR>          .\n",
      "2017/08/18  18:01    <DIR>          ..\n",
      "2017/02/24  00:09    <DIR>          .anaconda\n",
      "2017/05/21  17:15    <DIR>          .android\n",
      "2015/09/26  20:43    <DIR>          .AndroidStudio1.2\n",
      "2015/10/10  20:37    <DIR>          .AndroidStudio1.3\n",
      "2016/05/20  00:58    <DIR>          .AndroidStudio2.1\n",
      "2016/09/03  23:23    <DIR>          .AndroidStudio2.2\n",
      "2017/03/03  20:35    <DIR>          .AndroidStudio2.3\n",
      "2016/08/20  02:16    <DIR>          .AndroidStudioPreview2.2\n",
      "2017/01/17  17:32    <DIR>          .AndroidStudioPreview2.3\n",
      "2017/05/19  20:30    <DIR>          .AndroidStudioPreview3.0\n",
      "2017/03/31  21:41    <DIR>          .astropy\n",
      "2017/08/02  00:55             4,915 .bash_history\n",
      "2017/08/15  03:32    <DIR>          .conda\n",
      "2017/08/15  03:26                43 .condarc\n",
      "2017/03/21  10:09    <DIR>          .config\n",
      "2016/01/28  15:15    <DIR>          .dnx\n",
      "2016/03/01  00:41    <DIR>          .eclipse\n",
      "2016/05/31  03:10                16 .emulator_console_auth_token\n",
      "2017/08/04  02:07    <DIR>          .git\n",
      "2017/07/17  19:19               263 .gitconfig\n",
      "2016/05/06  02:43    <DIR>          .gradle\n",
      "2017/03/11  20:16    <DIR>          .idlerc\n",
      "2016/01/03  23:09    <DIR>          .IntelliJIdea15\n",
      "2017/04/20  21:18    <DIR>          .IntelliJIdea2017.1\n",
      "2017/02/24  00:26    <DIR>          .ipython\n",
      "2016/01/26  01:07    <DIR>          .jssc\n",
      "2017/07/13  02:30    <DIR>          .jupyter\n",
      "2017/07/31  10:06    <DIR>          .keras\n",
      "2017/03/30  15:34    <DIR>          .m2\n",
      "2017/08/23  23:46    <DIR>          .matplotlib\n",
      "2017/08/07  10:33    <DIR>          .metaseeker\n",
      "2016/07/28  00:12    <DIR>          .mozilla\n",
      "2017/04/09  21:20    <DIR>          .myeclipse\n",
      "2017/05/12  08:03                30 .node_repl_history\n",
      "2016/11/03  12:12    <DIR>          .oracle_jre_usage\n",
      "2017/04/16  14:57    <DIR>          .p2\n",
      "2016/08/23  16:04               244 .packettracer\n",
      "2016/10/30  00:18    <DIR>          .PhpStorm2016.2\n",
      "2017/08/07  02:18    <DIR>          .PyCharm2017.2\n",
      "2015/01/04  00:17    <DIR>          .PyCharm50\n",
      "2016/11/25  19:47    <DIR>          .spss\n",
      "2017/07/13  01:54    <DIR>          .spyder\n",
      "2015/07/13  22:06    <DIR>          .spyder2\n",
      "2017/08/18  18:13    <DIR>          .spyder-py3\n",
      "2017/07/20  01:13    <DIR>          .ssh\n",
      "2016/05/16  00:56    <DIR>          .swt\n",
      "2016/08/26  01:35    <DIR>          .TianTianVM\n",
      "2016/03/01  00:56    <DIR>          .tooling\n",
      "2017/07/21  01:04               887 .viminfo\n",
      "2017/06/19  19:36    <DIR>          .VirtualBox\n",
      "2016/07/28  00:12    <DIR>          .vivado_hls\n",
      "2016/07/30  14:57    <DIR>          .vscode\n",
      "2016/05/30  23:59    <DIR>          .WebStorm9\n",
      "2015/07/13  21:51    <DIR>          .xy\n",
      "2016/11/03  12:16    <DIR>          .zend\n",
      "2016/11/03  17:44    <DIR>          .ZendStudio\n",
      "2017/04/12  19:35               495 1.csv\n",
      "2016/07/25  21:52    <DIR>          147305.tmp\n",
      "2017/04/12  19:54               289 2.dat\n",
      "2016/07/25  21:54           608,453 2dc3c32a156225487be.details\n",
      "2016/07/25  21:53                 0 2dc3c32a156225487be.notes\n",
      "2016/07/25  21:54    <DIR>          505008.tmp\n",
      "2017/08/15  03:25    <DIR>          AnacondaProjects\n",
      "2016/07/26  23:43    <DIR>          apktool\n",
      "2017/03/31  19:10            67,954 battery-report.html\n",
      "2015/09/19  18:12    <DIR>          Cisco Packet Tracer 6.2sv\n",
      "2017/08/06  12:43    <DIR>          Contacts\n",
      "2017/08/23  01:17    <DIR>          Desktop\n",
      "2017/08/16  23:51    <DIR>          Documents\n",
      "2017/08/24  00:11    <DIR>          Downloads\n",
      "2017/07/18  15:25             1,708 Downloads.pem\n",
      "2016/07/25  21:52         1,722,988 ea10551c1562251ad75.details\n",
      "2016/07/25  21:49                 0 ea10551c1562251ad75.notes\n",
      "2016/09/19  20:41    <DIR>          edif_flow\n",
      "2017/04/09  20:15             1,018 emuser.properties\n",
      "2015/12/10  17:32    <DIR>          fancy\n",
      "2017/08/06  12:43    <DIR>          Favorites\n",
      "2016/05/10  01:50            50,746 genymotion-log.zip\n",
      "2016/08/22  03:24        72,898,305 heapDump-Studio-1471807349200.hprof.zip\n",
      "2016/08/29  04:21        67,782,756 heapDump-Studio-1472415214605.hprof.zip\n",
      "2016/08/31  01:30        66,804,339 heapDump-Studio-1472577889197.hprof.zip\n",
      "2016/07/25  21:52            73,494 ia_remove.sh1252.tmp\n",
      "2016/07/25  21:54            73,476 ia_remove.sh6675.tmp\n",
      "2016/07/26  23:34    <DIR>          jisuanjisanjiwangluozhangshangtong_V3.20_mumayi_02d7e_P2Z2VOZ0\n",
      "2017/08/06  12:43    <DIR>          Links\n",
      "2017/05/10  23:21               112 mercurial.ini\n",
      "2016/08/26  23:22                 0 Microsoft\n",
      "2017/08/14  20:03                36 mm.cfg\n",
      "2016/08/26  23:23                 0 msconfig\n",
      "2017/08/06  12:43    <DIR>          Music\n",
      "2016/09/29  00:26    <DIR>          node_modules\n",
      "2017/05/05  00:46    <DIR>          OneDrive\n",
      "2016/10/30  00:38    <DIR>          PhpstormProjects\n",
      "2017/08/06  12:43    <DIR>          Pictures\n",
      "2016/08/26  23:24                 0 ping\n",
      "2017/05/03  21:22    <DIR>          Program Files\n",
      "2016/09/27  01:18                 0 Rplots.pdf\n",
      "2017/08/06  12:43    <DIR>          Saved Games\n",
      "2017/08/06  12:43    <DIR>          Searches\n",
      "2016/07/25  21:53    <DIR>          Sourcery_CodeBench_Lite_for_Xilinx_EABI\n",
      "2016/07/25  21:51    <DIR>          Sourcery_CodeBench_Lite_for_Xilinx_GNU_Linux\n",
      "2017/08/14  00:11             1,664 spyder_crash.log\n",
      "2017/05/13  01:15                14 stop\n",
      "2017/04/18  19:06           200,499 test.png\n",
      "2017/08/06  12:43    <DIR>          Videos\n",
      "2017/03/08  22:50    <DIR>          VirtualBox VMs\n",
      "2016/07/25  21:59    <DIR>          Xilinx\n",
      "              31 个文件    210,294,744 字节\n",
      "              78 个目录 122,982,608,896 可用字节\n"
     ]
    }
   ],
   "source": [
    "ls"
   ]
  },
  {
   "cell_type": "code",
   "execution_count": null,
   "metadata": {
    "collapsed": true
   },
   "outputs": [],
   "source": []
  }
 ],
 "metadata": {
  "kernelspec": {
   "display_name": "Python 3",
   "language": "python",
   "name": "python3"
  },
  "language_info": {
   "codemirror_mode": {
    "name": "ipython",
    "version": 3
   },
   "file_extension": ".py",
   "mimetype": "text/x-python",
   "name": "python",
   "nbconvert_exporter": "python",
   "pygments_lexer": "ipython3",
   "version": "3.6.1"
  }
 },
 "nbformat": 4,
 "nbformat_minor": 2
}
