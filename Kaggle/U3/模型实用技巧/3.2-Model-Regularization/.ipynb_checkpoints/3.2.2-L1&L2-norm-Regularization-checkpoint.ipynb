{
 "cells": [
  {
   "cell_type": "markdown",
   "metadata": {},
   "source": [
    "# 2. L1 Norm Regularization"
   ]
  },
  {
   "cell_type": "code",
   "execution_count": 24,
   "metadata": {},
   "outputs": [
    {
     "data": {
      "text/plain": [
       "4"
      ]
     },
     "execution_count": 24,
     "metadata": {},
     "output_type": "execute_result"
    }
   ],
   "source": [
    "# 输入训练样本的特征以及目标值，分别存储在X_train与y_train之中\n",
    "X_train = [[6], [8], [10], [14], [18]]\n",
    "y_train = [[7], [9], [13], [17.5], [18]]\n",
    "\n",
    "# 从sklearn.linear_model中导入LinearRegression\n",
    "from sklearn.linear_model import LinearRegression\n",
    "# 使用默认配置初始化线性回归模型\n",
    "regressor = LinearRegression()\n",
    "# 直接以比萨的直径作为特征训练模型\n",
    "regressor.fit(X_train, y_train)\n",
    "\n",
    "# 从sklearn.preprocessing导入多项式特征生成器\n",
    "from sklearn.preprocessing import PolynomialFeatures\n",
    "\n",
    "# 初始化4次多项式特征生成器\n",
    "poly4 = PolynomialFeatures(degree=4)\n",
    "X_train_poly4 = poly4.fit_transform(X_train)\n",
    "\n",
    "# 使用默认配置初始化4次多项式回归器\n",
    "regressor_poly4 = LinearRegression()\n",
    "# 对4次多项式回归模型进行训练\n",
    "regressor_poly4.fit(X_train_poly4, y_train)\n",
    "\n",
    "# 准备测试数据\n",
    "X_test = [[6], [8], [11], [16]]\n",
    "y_test = [[8], [12], [15], [18]]\n",
    "\n",
    "X_test_poly4 = poly4.transform(X_test)\n",
    "len(X_test_poly4)"
   ]
  },
  {
   "cell_type": "markdown",
   "metadata": {},
   "source": [
    "## Lasso模型在4次多项式特征上的拟合表现"
   ]
  },
  {
   "cell_type": "code",
   "execution_count": 26,
   "metadata": {},
   "outputs": [
    {
     "name": "stdout",
     "output_type": "stream",
     "text": [
      "0.83889268736\n"
     ]
    },
    {
     "name": "stderr",
     "output_type": "stream",
     "text": [
      "D:\\Program Soft\\Anaconda\\Anaconda3\\lib\\site-packages\\sklearn\\linear_model\\coordinate_descent.py:484: ConvergenceWarning: Objective did not converge. You might want to increase the number of iterations. Fitting data with very small alpha may cause precision problems.\n",
      "  ConvergenceWarning)\n"
     ]
    }
   ],
   "source": [
    "from sklearn.linear_model import Lasso\n",
    "# 使用默认配置初始化Lasso\n",
    "lasso_poly4 = Lasso()\n",
    "# 使用Lasso对4此多项式特征进行拟合\n",
    "lasso_poly4.fit(X_train_poly4, y_train)\n",
    "\n",
    "# 对Lasso模型在测试样本上的回归性能进行评估\n",
    "print(lasso_poly4.score(X_test_poly4, y_test))"
   ]
  },
  {
   "cell_type": "code",
   "execution_count": 27,
   "metadata": {},
   "outputs": [
    {
     "name": "stdout",
     "output_type": "stream",
     "text": [
      "[  0.00000000e+00   0.00000000e+00   1.17900534e-01   5.42646770e-05\n",
      "  -2.23027128e-04]\n"
     ]
    }
   ],
   "source": [
    "# 输出Lasso模型的参数列表\n",
    "print(lasso_poly4.coef_)"
   ]
  },
  {
   "cell_type": "code",
   "execution_count": 28,
   "metadata": {},
   "outputs": [
    {
     "name": "stdout",
     "output_type": "stream",
     "text": [
      "0.809588079577\n"
     ]
    }
   ],
   "source": [
    "# 回顾普通4次多项式回归模型过拟合之后的性能\n",
    "print(regressor_poly4.score(X_test_poly4, y_test))"
   ]
  },
  {
   "cell_type": "code",
   "execution_count": 29,
   "metadata": {},
   "outputs": [
    {
     "name": "stdout",
     "output_type": "stream",
     "text": [
      "[[  0.00000000e+00  -2.51739583e+01   3.68906250e+00  -2.12760417e-01\n",
      "    4.29687500e-03]]\n"
     ]
    }
   ],
   "source": [
    "# 回顾普通4次多项式回归模型的参数列表\n",
    "print(regressor_poly4.coef_)"
   ]
  },
  {
   "cell_type": "markdown",
   "metadata": {},
   "source": [
    "# 3. L2 Norm Regularization"
   ]
  },
  {
   "cell_type": "markdown",
   "metadata": {},
   "source": [
    "## Ridge模型在4次多项式特征上的拟合表现"
   ]
  },
  {
   "cell_type": "code",
   "execution_count": 30,
   "metadata": {},
   "outputs": [
    {
     "name": "stdout",
     "output_type": "stream",
     "text": [
      "[[  0.00000000e+00  -2.51739583e+01   3.68906250e+00  -2.12760417e-01\n",
      "    4.29687500e-03]]\n"
     ]
    }
   ],
   "source": [
    "# 输出普通4次多项式回归模型的参数列表\n",
    "print(regressor_poly4.coef_)"
   ]
  },
  {
   "cell_type": "code",
   "execution_count": 34,
   "metadata": {},
   "outputs": [
    {
     "name": "stdout",
     "output_type": "stream",
     "text": [
      "647.382645737\n"
     ]
    }
   ],
   "source": [
    "# 输出上述这些参数的平方和，验证参数之间的巨大差异\n",
    "import numpy as np\n",
    "print(np.sum(regressor_poly4.coef_ ** 2))"
   ]
  },
  {
   "cell_type": "code",
   "execution_count": 35,
   "metadata": {},
   "outputs": [
    {
     "name": "stdout",
     "output_type": "stream",
     "text": [
      "0.837420175937\n"
     ]
    }
   ],
   "source": [
    "# 从sklearn.linear_model导入Ridge\n",
    "from sklearn.linear_model import Ridge\n",
    "# 使用默认配置初始化Ridge\n",
    "ridge_poly4 = Ridge()\n",
    "\n",
    "# 使用Ridge模型对4次多项式特征进行拟合\n",
    "ridge_poly4.fit(X_train_poly4, y_train)\n",
    "\n",
    "# 输出Ridge模型在测试样本上的回归性能\n",
    "print(ridge_poly4.score(X_test_poly4, y_test))"
   ]
  },
  {
   "cell_type": "code",
   "execution_count": 36,
   "metadata": {},
   "outputs": [
    {
     "name": "stdout",
     "output_type": "stream",
     "text": [
      "[[ 0.         -0.00492536  0.12439632 -0.00046471 -0.00021205]]\n"
     ]
    }
   ],
   "source": [
    "# 输出Ridge模型的参数列表，观察参数差异\n",
    "print(ridge_poly4.coef_)"
   ]
  },
  {
   "cell_type": "code",
   "execution_count": 37,
   "metadata": {},
   "outputs": [
    {
     "name": "stdout",
     "output_type": "stream",
     "text": [
      "0.0154989652035\n"
     ]
    }
   ],
   "source": [
    "# 计算Ridge模型拟合后参数的平方和\n",
    "print(np.sum(ridge_poly4.coef_ ** 2))"
   ]
  },
  {
   "cell_type": "code",
   "execution_count": null,
   "metadata": {
    "collapsed": true
   },
   "outputs": [],
   "source": []
  }
 ],
 "metadata": {
  "kernelspec": {
   "display_name": "Python 3",
   "language": "python",
   "name": "python3"
  },
  "language_info": {
   "codemirror_mode": {
    "name": "ipython",
    "version": 3
   },
   "file_extension": ".py",
   "mimetype": "text/x-python",
   "name": "python",
   "nbconvert_exporter": "python",
   "pygments_lexer": "ipython3",
   "version": "3.6.1"
  }
 },
 "nbformat": 4,
 "nbformat_minor": 2
}
