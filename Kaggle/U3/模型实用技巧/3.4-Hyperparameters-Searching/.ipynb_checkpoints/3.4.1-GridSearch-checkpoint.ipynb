{
 "cells": [
  {
   "cell_type": "markdown",
   "metadata": {},
   "source": [
    "# 1. Grid Search"
   ]
  },
  {
   "cell_type": "markdown",
   "metadata": {},
   "source": [
    "## 使用单线程对文本分类的朴素贝叶斯模型的超参数模型执行组合网格搜索"
   ]
  },
  {
   "cell_type": "code",
   "execution_count": 1,
   "metadata": {
    "collapsed": true
   },
   "outputs": [],
   "source": [
    "# 从sklearn.datasets中导入20类新闻文本抓取器\n",
    "from sklearn.datasets import fetch_20newsgroups\n",
    "import numpy as np\n",
    "\n",
    "# 使用新闻抓取器从互联网上下载所有数据\n",
    "news = fetch_20newsgroups(subset='all')"
   ]
  },
  {
   "cell_type": "code",
   "execution_count": 2,
   "metadata": {},
   "outputs": [
    {
     "name": "stderr",
     "output_type": "stream",
     "text": [
      "D:\\Program Soft\\Anaconda\\Anaconda3\\lib\\site-packages\\sklearn\\cross_validation.py:44: DeprecationWarning: This module was deprecated in version 0.18 in favor of the model_selection module into which all the refactored classes and functions are moved. Also note that the interface of the new CV iterators are different from that of this module. This module will be removed in 0.20.\n",
      "  \"This module will be removed in 0.20.\", DeprecationWarning)\n"
     ]
    }
   ],
   "source": [
    "# 从sklearn.cross_validation导入train_test_split用来分割数据\n",
    "from sklearn.cross_validation import train_test_split\n",
    "\n",
    "# 对前3000条新闻文本进行数据分割，25%的文本用于测试\n",
    "X_train, X_test, y_train, y_test = train_test_split(news.data[:3000], news.target[:3000], test_size=0.25, random_state=33)"
   ]
  },
  {
   "cell_type": "code",
   "execution_count": 13,
   "metadata": {},
   "outputs": [
    {
     "name": "stdout",
     "output_type": "stream",
     "text": [
      "Fitting 3 folds for each of 12 candidates, totalling 36 fits\n",
      "[CV] svc__C=0.1, svc__gamma=0.01 .....................................\n",
      "[CV] ............................ svc__C=0.1, svc__gamma=0.01 -   8.4s\n",
      "[CV] svc__C=0.1, svc__gamma=0.01 .....................................\n"
     ]
    },
    {
     "name": "stderr",
     "output_type": "stream",
     "text": [
      "[Parallel(n_jobs=1)]: Done   1 out of   1 | elapsed:    8.5s remaining:    0.0s\n"
     ]
    },
    {
     "name": "stdout",
     "output_type": "stream",
     "text": [
      "[CV] ............................ svc__C=0.1, svc__gamma=0.01 -   8.1s\n",
      "[CV] svc__C=0.1, svc__gamma=0.01 .....................................\n",
      "[CV] ............................ svc__C=0.1, svc__gamma=0.01 -   8.9s\n",
      "[CV] svc__C=0.1, svc__gamma=0.1 ......................................\n",
      "[CV] ............................. svc__C=0.1, svc__gamma=0.1 -   7.9s\n",
      "[CV] svc__C=0.1, svc__gamma=0.1 ......................................\n",
      "[CV] ............................. svc__C=0.1, svc__gamma=0.1 -  11.3s\n",
      "[CV] svc__C=0.1, svc__gamma=0.1 ......................................\n",
      "[CV] ............................. svc__C=0.1, svc__gamma=0.1 -   9.2s\n",
      "[CV] svc__C=0.1, svc__gamma=1.0 ......................................\n",
      "[CV] ............................. svc__C=0.1, svc__gamma=1.0 -   9.4s\n",
      "[CV] svc__C=0.1, svc__gamma=1.0 ......................................\n",
      "[CV] ............................. svc__C=0.1, svc__gamma=1.0 -   8.1s\n",
      "[CV] svc__C=0.1, svc__gamma=1.0 ......................................\n",
      "[CV] ............................. svc__C=0.1, svc__gamma=1.0 -   8.8s\n",
      "[CV] svc__C=0.1, svc__gamma=10.0 .....................................\n",
      "[CV] ............................ svc__C=0.1, svc__gamma=10.0 -   8.4s\n",
      "[CV] svc__C=0.1, svc__gamma=10.0 .....................................\n",
      "[CV] ............................ svc__C=0.1, svc__gamma=10.0 -   8.8s\n",
      "[CV] svc__C=0.1, svc__gamma=10.0 .....................................\n",
      "[CV] ............................ svc__C=0.1, svc__gamma=10.0 -   8.9s\n",
      "[CV] svc__C=1.0, svc__gamma=0.01 .....................................\n",
      "[CV] ............................ svc__C=1.0, svc__gamma=0.01 -   8.7s\n",
      "[CV] svc__C=1.0, svc__gamma=0.01 .....................................\n",
      "[CV] ............................ svc__C=1.0, svc__gamma=0.01 -   8.7s\n",
      "[CV] svc__C=1.0, svc__gamma=0.01 .....................................\n",
      "[CV] ............................ svc__C=1.0, svc__gamma=0.01 -   8.5s\n",
      "[CV] svc__C=1.0, svc__gamma=0.1 ......................................\n",
      "[CV] ............................. svc__C=1.0, svc__gamma=0.1 -   8.0s\n",
      "[CV] svc__C=1.0, svc__gamma=0.1 ......................................\n",
      "[CV] ............................. svc__C=1.0, svc__gamma=0.1 -   8.0s\n",
      "[CV] svc__C=1.0, svc__gamma=0.1 ......................................\n",
      "[CV] ............................. svc__C=1.0, svc__gamma=0.1 -   8.0s\n",
      "[CV] svc__C=1.0, svc__gamma=1.0 ......................................\n",
      "[CV] ............................. svc__C=1.0, svc__gamma=1.0 -   8.1s\n",
      "[CV] svc__C=1.0, svc__gamma=1.0 ......................................\n",
      "[CV] ............................. svc__C=1.0, svc__gamma=1.0 -   8.4s\n",
      "[CV] svc__C=1.0, svc__gamma=1.0 ......................................\n",
      "[CV] ............................. svc__C=1.0, svc__gamma=1.0 -   8.6s\n",
      "[CV] svc__C=1.0, svc__gamma=10.0 .....................................\n",
      "[CV] ............................ svc__C=1.0, svc__gamma=10.0 -   8.4s\n",
      "[CV] svc__C=1.0, svc__gamma=10.0 .....................................\n",
      "[CV] ............................ svc__C=1.0, svc__gamma=10.0 -   8.5s\n",
      "[CV] svc__C=1.0, svc__gamma=10.0 .....................................\n",
      "[CV] ............................ svc__C=1.0, svc__gamma=10.0 -   8.0s\n",
      "[CV] svc__C=10.0, svc__gamma=0.01 ....................................\n",
      "[CV] ........................... svc__C=10.0, svc__gamma=0.01 -   8.2s\n",
      "[CV] svc__C=10.0, svc__gamma=0.01 ....................................\n",
      "[CV] ........................... svc__C=10.0, svc__gamma=0.01 -   8.1s\n",
      "[CV] svc__C=10.0, svc__gamma=0.01 ....................................\n",
      "[CV] ........................... svc__C=10.0, svc__gamma=0.01 -   8.3s\n",
      "[CV] svc__C=10.0, svc__gamma=0.1 .....................................\n",
      "[CV] ............................ svc__C=10.0, svc__gamma=0.1 -   7.9s\n",
      "[CV] svc__C=10.0, svc__gamma=0.1 .....................................\n",
      "[CV] ............................ svc__C=10.0, svc__gamma=0.1 -   8.1s\n",
      "[CV] svc__C=10.0, svc__gamma=0.1 .....................................\n",
      "[CV] ............................ svc__C=10.0, svc__gamma=0.1 -   7.9s\n",
      "[CV] svc__C=10.0, svc__gamma=1.0 .....................................\n",
      "[CV] ............................ svc__C=10.0, svc__gamma=1.0 -   8.0s\n",
      "[CV] svc__C=10.0, svc__gamma=1.0 .....................................\n",
      "[CV] ............................ svc__C=10.0, svc__gamma=1.0 -   8.0s\n",
      "[CV] svc__C=10.0, svc__gamma=1.0 .....................................\n",
      "[CV] ............................ svc__C=10.0, svc__gamma=1.0 -   8.4s\n",
      "[CV] svc__C=10.0, svc__gamma=10.0 ....................................\n",
      "[CV] ........................... svc__C=10.0, svc__gamma=10.0 -   8.3s\n",
      "[CV] svc__C=10.0, svc__gamma=10.0 ....................................\n",
      "[CV] ........................... svc__C=10.0, svc__gamma=10.0 -   8.7s\n",
      "[CV] svc__C=10.0, svc__gamma=10.0 ....................................\n",
      "[CV] ........................... svc__C=10.0, svc__gamma=10.0 -   8.5s\n"
     ]
    },
    {
     "name": "stderr",
     "output_type": "stream",
     "text": [
      "[Parallel(n_jobs=1)]: Done  36 out of  36 | elapsed:  5.1min finished\n"
     ]
    },
    {
     "name": "stdout",
     "output_type": "stream",
     "text": [
      "Wall time: 5min 21s\n",
      "0.822666666667\n"
     ]
    }
   ],
   "source": [
    "# 导入支持向量机(分类)模型\n",
    "from sklearn.svm import SVC\n",
    "# 导入TfidfVectorizer文本抽取器\n",
    "from sklearn.feature_extraction.text import TfidfVectorizer\n",
    "# 导入Pipeline\n",
    "from sklearn.pipeline import Pipeline\n",
    "\n",
    "# 使用Pipeline简化系统搭建流程，将文本抽取与分类器模型串联起来\n",
    "clf = Pipeline([('vect', TfidfVectorizer(stop_words='english', analyzer='word')), ('svc', SVC())])\n",
    "\n",
    "# 需要试验2个的超参数的个数分别是4、3，svc_gamma的参数共有10^-2,10^-1,...\n",
    "# 一共有12种超参数组合，12个不同参数下的模型\n",
    "parameters = {'svc__gamma': np.logspace(-2,1,4), 'svc__C': np.logspace(-1,1,3)}\n",
    "\n",
    "\n",
    "# 从sklearn.grid_search中导入网格搜索模块GridSearchCV\n",
    "from sklearn.grid_search import GridSearchCV\n",
    "\n",
    "# 将12组参数组合以及初始化的Pipeline包括3折交叉验证的要求全部告知GridSearchCV\n",
    "# 注意设定refit=True\n",
    "gs = GridSearchCV(clf, parameters, verbose=2, refit=True, cv=3)\n",
    "\n",
    "# 执行单线程网格搜索\n",
    "%time _ = gs.fit(X_train, y_train)\n",
    "gs.best_params_, gs.best_score_\n",
    "\n",
    "# 输出最佳模型在测试集上的准确性\n",
    "print(gs.score(X_test, y_test))"
   ]
  },
  {
   "cell_type": "markdown",
   "metadata": {},
   "source": [
    "## 2. 并行搜索"
   ]
  },
  {
   "cell_type": "code",
   "execution_count": 14,
   "metadata": {},
   "outputs": [
    {
     "name": "stdout",
     "output_type": "stream",
     "text": [
      "Fitting 3 folds for each of 12 candidates, totalling 36 fits\n"
     ]
    },
    {
     "name": "stderr",
     "output_type": "stream",
     "text": [
      "[Parallel(n_jobs=-1)]: Done  36 out of  36 | elapsed:  2.2min finished\n"
     ]
    },
    {
     "name": "stdout",
     "output_type": "stream",
     "text": [
      "Wall time: 2min 27s\n",
      "0.822666666667\n"
     ]
    }
   ],
   "source": [
    "# 将12组参数组合以及初始化的Pipeline包括3折交叉验证的要求全部告知GridSearchCV\n",
    "# 注意设定refit=True\n",
    "gs = GridSearchCV(clf, parameters, verbose=2, refit=True, cv=3, n_jobs=-1)\n",
    "\n",
    "# 执行单线程网格搜索\n",
    "%time _ = gs.fit(X_train, y_train)\n",
    "gs.best_params_, gs.best_score_\n",
    "\n",
    "# 输出最佳模型在测试集上的准确性\n",
    "print(gs.score(X_test, y_test))"
   ]
  }
 ],
 "metadata": {
  "kernelspec": {
   "display_name": "Python 3",
   "language": "python",
   "name": "python3"
  },
  "language_info": {
   "codemirror_mode": {
    "name": "ipython",
    "version": 3
   },
   "file_extension": ".py",
   "mimetype": "text/x-python",
   "name": "python",
   "nbconvert_exporter": "python",
   "pygments_lexer": "ipython3",
   "version": "3.6.1"
  }
 },
 "nbformat": 4,
 "nbformat_minor": 2
}
