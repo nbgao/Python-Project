{
 "cells": [
  {
   "cell_type": "markdown",
   "metadata": {},
   "source": [
    "# 1. Feature extraction 特征抽取"
   ]
  },
  {
   "cell_type": "markdown",
   "metadata": {},
   "source": [
    "## DictVectorizer对使用字典存储的数据进行特征抽取与向量化"
   ]
  },
  {
   "cell_type": "code",
   "execution_count": 1,
   "metadata": {},
   "outputs": [
    {
     "name": "stdout",
     "output_type": "stream",
     "text": [
      "[[  1.   0.   0.  33.]\n",
      " [  0.   1.   0.  12.]\n",
      " [  0.   0.   1.  18.]]\n",
      "['city=Dubai', 'city=London', 'city=San Fransisco', 'temperature']\n"
     ]
    }
   ],
   "source": [
    "# 定义一组字典列表，用来表示多个数据样本(每个字典代表一个数据样本)\n",
    "measurements = [{'city': 'Dubai', 'temperature': 33.}, {'city': 'London', 'temperature': 12.}, {'city': 'San Fransisco', 'temperature': 18.}]\n",
    "\n",
    "# 从sklearn.feature_extraction导入DictVectorizer\n",
    "from sklearn.feature_extraction import DictVectorizer\n",
    "\n",
    "# 初始化DictVectorizer特征提取器\n",
    "vec = DictVectorizer()\n",
    "# 输出转化之后的特征矩阵\n",
    "print(vec.fit_transform(measurements).toarray())\n",
    "# 输出各个维度的特征含义\n",
    "print(vec.get_feature_names())"
   ]
  },
  {
   "cell_type": "markdown",
   "metadata": {},
   "source": [
    "## 使用CountVectorizer并且不去掉停用词的条件下，对文本特征进行量化的朴素贝叶斯分类性能测试"
   ]
  },
  {
   "cell_type": "code",
   "execution_count": null,
   "metadata": {
    "collapsed": true
   },
   "outputs": [],
   "source": [
    "# 从sklearn.datasets里导入20类新闻文本数据抓取器\n",
    "from sklearn.datasets import fetch_20newsgroups\n",
    "\n",
    "# 从互联网上即时下载新闻样本，subset='all'参数代表下载全部近2万条文本存储在变量news中\n",
    "news = fetch_20newsgroups(subset='all')\n",
    "\n",
    "# 从sklearn.cross_validation导入train_test_split模块用于分割数据集\n",
    "from sklearn.cross_validation import train_test_split\n",
    "\n",
    "# 对news中的数据进行分割，75%的文本用作训练集，25%的文本用作测试集\n",
    "X_train, X_test, y_train, y_test = train_test_split(news.data, news.target, test_size=0.25, random_state=33)\n",
    "\n",
    "# 从sklearn.feature_extraction.text里导入CountVectorizer\n",
    "from sklearn.feature_extraction.text import CountVectorizer\n",
    "# 采用默认的配置对CountVectorizer进行初始化(默认配置不去除英文停用词)，并且赋值给变量count_vec\n",
    "count_vec = CountVectorizer()"
   ]
  }
 ],
 "metadata": {
  "kernelspec": {
   "display_name": "Python 3",
   "language": "python",
   "name": "python3"
  },
  "language_info": {
   "codemirror_mode": {
    "name": "ipython",
    "version": 3
   },
   "file_extension": ".py",
   "mimetype": "text/x-python",
   "name": "python",
   "nbconvert_exporter": "python",
   "pygments_lexer": "ipython3",
   "version": "3.6.1"
  }
 },
 "nbformat": 4,
 "nbformat_minor": 2
}
