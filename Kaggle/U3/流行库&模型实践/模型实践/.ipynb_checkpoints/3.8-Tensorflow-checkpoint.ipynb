{
 "cells": [
  {
   "cell_type": "markdown",
   "metadata": {},
   "source": [
    "## 使用Tensorflow输出一句话"
   ]
  },
  {
   "cell_type": "code",
   "execution_count": 1,
   "metadata": {
    "collapsed": true
   },
   "outputs": [],
   "source": [
    "import tensorflow as tf\n",
    "import numpy as np"
   ]
  },
  {
   "cell_type": "code",
   "execution_count": 2,
   "metadata": {},
   "outputs": [
    {
     "name": "stdout",
     "output_type": "stream",
     "text": [
      "b'Hello Google Tensorflow! '\n"
     ]
    }
   ],
   "source": [
    "# 初始化一个Tensorflow的常量\n",
    "greeting = tf.constant('Hello Google Tensorflow! ')\n",
    "\n",
    "# 启动一个会话\n",
    "sess = tf.Session()\n",
    "# 使用会话执行greeting计算模块\n",
    "result = sess.run(greeting)\n",
    "# 输出会话执行的结果\n",
    "print(result)\n",
    "# 关闭会话，这是一种显示关闭会话的方式\n",
    "sess.close()"
   ]
  },
  {
   "cell_type": "markdown",
   "metadata": {},
   "source": [
    "## 使用Tensorflow完成一次线性函数的计算"
   ]
  },
  {
   "cell_type": "code",
   "execution_count": 3,
   "metadata": {},
   "outputs": [
    {
     "name": "stdout",
     "output_type": "stream",
     "text": [
      "[[ 14.]]\n"
     ]
    }
   ],
   "source": [
    "# 声明matrix1为Tensorflow的一个1*2的行向量\n",
    "matrix1 = tf.constant([[3., 3.]])\n",
    "# 声明matrix2为Tensorflow的一个2*1的列向量\n",
    "matrix2 = tf.constant([[2.], [2.]])\n",
    "\n",
    "# product将上述两个算子相乘，作为新算例\n",
    "product = tf.matmul(matrix1, matrix2)\n",
    "\n",
    "# 继续将product与一个标量2.0求和拼接，作为最终的linear算例\n",
    "linear = tf.add(product, tf.constant(2.0))\n",
    "# 直接在会话中执行linear算例，相当于将上面所有的单独算例拼接成流程图来执行\n",
    "with tf.Session() as sess:\n",
    "    result = sess.run(linear)\n",
    "    print(result)"
   ]
  },
  {
   "cell_type": "markdown",
   "metadata": {},
   "source": [
    "## 使用Tensorflow自定义一个线性分类器用于对“良/恶乳腺癌肿瘤”进行预测"
   ]
  },
  {
   "cell_type": "code",
   "execution_count": 4,
   "metadata": {
    "collapsed": true
   },
   "outputs": [],
   "source": [
    "import tensorflow as tf\n",
    "import numpy\n",
    "import pandas as pd\n",
    "\n",
    "# 从本地使用pandas读取乳腺癌的训练和测试数据\n",
    "train = pd.read_csv('Breast-Cancer/breast-cancer-train.csv')\n",
    "test = pd.read_csv('Breast-Cancer/breast-cancer-test.csv')"
   ]
  },
  {
   "cell_type": "code",
   "execution_count": 5,
   "metadata": {
    "collapsed": true
   },
   "outputs": [],
   "source": [
    "# 分隔特征与分类目标\n",
    "X_train = np.float32(train[['Clump Thickness', 'Cell Size']].T)\n",
    "y_train = np.float32(train['Type'].T)\n",
    "X_test = np.float32(test[['Clump Thickness', 'Cell Size']].T)\n",
    "y_test = np.float32(test['Type'].T)"
   ]
  },
  {
   "cell_type": "code",
   "execution_count": 6,
   "metadata": {},
   "outputs": [
    {
     "name": "stdout",
     "output_type": "stream",
     "text": [
      "WARNING:tensorflow:From D:\\Program Soft\\Anaconda\\Anaconda3\\lib\\site-packages\\tensorflow\\python\\util\\tf_should_use.py:170: initialize_all_variables (from tensorflow.python.ops.variables) is deprecated and will be removed after 2017-03-02.\n",
      "Instructions for updating:\n",
      "Use `tf.global_variables_initializer` instead.\n",
      "0 [[-0.20031162  0.31190112]] [ 0.00031262]\n",
      "100 [[ 0.0012523   0.12895998]] [-0.06213014]\n",
      "200 [[ 0.04536837  0.08842407]] [-0.07921051]\n",
      "300 [[ 0.05511873  0.07968426]] [-0.08428614]\n",
      "400 [[ 0.05726455  0.0778514 ]] [-0.08594029]\n",
      "500 [[ 0.05773301  0.07748883]] [-0.08652423]\n",
      "600 [[ 0.0578337  0.0774266]] [-0.08674289]\n",
      "700 [[ 0.05785471  0.07742028]] [-0.08682804]\n",
      "800 [[ 0.0578588   0.07742198]] [-0.08686197]\n",
      "900 [[ 0.05785946  0.07742363]] [-0.08687568]\n"
     ]
    }
   ],
   "source": [
    "# 定义一个tensorflow的变量b作为线性模型的截距，同时设置初始值为1.0\n",
    "b = tf.Variable(tf.zeros([1]))\n",
    "# 定义一个tensorflow变量W作为线性模型的系数，并设置初始值为-1.0至1.0之间均匀分布的随机数\n",
    "W = tf.Variable(tf.random_uniform([1,2], -1.0, 1.0))\n",
    "\n",
    "# 显示定义线性函数\n",
    "y = tf.matmul(W, X_train) + b\n",
    "\n",
    "# 使用tensorflow中的reduce_mean取得训练集上均方差\n",
    "loss = tf.reduce_mean(tf.square(y - y_train))\n",
    "\n",
    "# 使用梯度下降法估计参数W,b，并且设置迭代步长为0.01\n",
    "optimizer = tf.train.GradientDescentOptimizer(0.01)\n",
    "\n",
    "# 以最小二乘损失为优化目标\n",
    "train = optimizer.minimize(loss)\n",
    "\n",
    "# 初始化所有变量\n",
    "init = tf.initialize_all_variables()\n",
    "\n",
    "# 开启Tensorflow中的会话\n",
    "sess = tf.Session()\n",
    "\n",
    "# 执行变量初始化操作\n",
    "sess.run(init)\n",
    "\n",
    "# 迭代1000轮次，训练参数\n",
    "for step in range(0, 1000):\n",
    "    sess.run(train)\n",
    "    if step%100 == 0:\n",
    "        print(step, sess.run(W), sess.run(b))"
   ]
  },
  {
   "cell_type": "code",
   "execution_count": 7,
   "metadata": {},
   "outputs": [
    {
     "data": {
      "image/png": "[encoded data removed]",
      "text/plain": [
       "<matplotlib.figure.Figure at 0x2bc483e37b8>"
      ]
     },
     "metadata": {},
     "output_type": "display_data"
    }
   ],
   "source": [
    "# 准备测试样本\n",
    "test_negative = test.loc[test['Type']==0][['Clump Thickness', 'Cell Size']]\n",
    "test_positive = test.loc[test['Type']==1][['Clump Thickness', 'Cell Size']]\n",
    "\n",
    "import matplotlib.pyplot as plt\n",
    "\n",
    "plt.figure(figsize=(10,10))\n",
    "\n",
    "plt.scatter(test_negative['Clump Thickness'], test_negative['Cell Size'], marker='^', s=200, c='red')\n",
    "plt.scatter(test_positive['Clump Thickness'], test_positive['Cell Size'], marker='x', s=150, c='blue')\n",
    "\n",
    "plt.xlabel('Clump Thickness')\n",
    "plt.ylabel('Cell Size')\n",
    "\n",
    "lx = np.arange(0, 12)\n",
    "\n",
    "ly = (0.5 - sess.run(b) - lx*sess.run(W)[0][0]) / sess.run(W)[0][1]\n",
    "\n",
    "plt.plot(lx, ly, color='green')\n",
    "plt.show()"
   ]
  },
  {
   "cell_type": "markdown",
   "metadata": {},
   "source": [
    "## 使用skflow内置的LinearRegressor、DNN以及Scikit-learn中的集成回归模型对“美国波士顿房价”数据进行回归预测"
   ]
  },
  {
   "cell_type": "code",
   "execution_count": 8,
   "metadata": {},
   "outputs": [
    {
     "name": "stderr",
     "output_type": "stream",
     "text": [
      "D:\\Program Soft\\Anaconda\\Anaconda3\\lib\\site-packages\\sklearn\\cross_validation.py:44: DeprecationWarning: This module was deprecated in version 0.18 in favor of the model_selection module into which all the refactored classes and functions are moved. Also note that the interface of the new CV iterators are different from that of this module. This module will be removed in 0.20.\n",
      "  \"This module will be removed in 0.20.\", DeprecationWarning)\n"
     ]
    }
   ],
   "source": [
    "from sklearn import datasets, metrics, preprocessing, cross_validation\n",
    "\n",
    "# 读入数据\n",
    "boston = datasets.load_boston()\n",
    "X, y = boston.data, boston.target\n",
    "\n",
    "# 分割数据，随机采样25%作为测试样本\n",
    "X_train, X_test, y_train, y_test = cross_validation.train_test_split(X, y, test_size=0.25, random_state=33)\n",
    "\n",
    "# 对数据特征进行标准化处理\n",
    "scaler = preprocessing.StandardScaler()\n",
    "X_train = scaler.fit_transform(X_train)\n",
    "X_test = scaler.transform(X_test)"
   ]
  },
  {
   "cell_type": "code",
   "execution_count": null,
   "metadata": {
    "collapsed": true
   },
   "outputs": [],
   "source": [
    "# 导入skflow\n",
    "import skflow\n",
    "\n",
    "tf_lr = skflow.TensorFlowLinearRegressor(steps=10000, learning_rate=0.01, batch_size=50)\n",
    "tf_lr.fit(X_train, y_train)\n",
    "tf_lr_predict = tf_lr.predict(X_test)\n",
    "\n",
    "# 输出skflow中LinearRegressor模型的回归性能\n",
    "print('The mean absolute error of Tensorflow Linear Regressor on boston dataset is', metrics.mean_absolute_error(tf_lr_y_predict, y_test))\n",
    "print('The mean squared error of Tensorflow Linear Regressor on boston dataset is', metrics.mean_squared_error(tf_lr_y_predict, y_test))\n",
    "print('The mean R-squared value of Tensorflow Linear Regressor on boston dataset is', metrics.r2_score(tf_lr_y_predict, y_test))"
   ]
  }
 ],
 "metadata": {
  "kernelspec": {
   "display_name": "Python 3",
   "language": "python",
   "name": "python3"
  },
  "language_info": {
   "codemirror_mode": {
    "name": "ipython",
    "version": 3
   },
   "file_extension": ".py",
   "mimetype": "text/x-python",
   "name": "python",
   "nbconvert_exporter": "python",
   "pygments_lexer": "ipython3",
   "version": "3.6.1"
  }
 },
 "nbformat": 4,
 "nbformat_minor": 2
}
