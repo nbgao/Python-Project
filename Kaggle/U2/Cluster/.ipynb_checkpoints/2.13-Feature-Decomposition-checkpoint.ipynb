{
 "cells": [
  {
   "cell_type": "markdown",
   "metadata": {},
   "source": [
    "## 线性相关矩阵秩计算样例"
   ]
  },
  {
   "cell_type": "code",
   "execution_count": 7,
   "metadata": {},
   "outputs": [
    {
     "name": "stdout",
     "output_type": "stream",
     "text": [
      "The rank of matrix M1 is 1\n",
      "The rank of matrix M2 is 2\n"
     ]
    }
   ],
   "source": [
    "import numpy as np\n",
    "\n",
    "# 定义2阶线性相关矩阵\n",
    "M1 = np.array([[1,2], [2,4]])\n",
    "# 定义2阶非线性相关矩阵\n",
    "M2 = np.array([[3,5], [4,1]])\n",
    "\n",
    "# 计算2*2线性相关矩阵的秩\n",
    "M1_rank = np.linalg.matrix_rank(M1, tol=None)\n",
    "print('The rank of matrix M1 is', M1_rank)\n",
    "\n",
    "# 计算2*2非线性相关矩阵的秩\n",
    "M2_rank = np.linalg.matrix_rank(M2, tol=None)\n",
    "print('The rank of matrix M2 is', M2_rank)"
   ]
  },
  {
   "cell_type": "markdown",
   "metadata": {},
   "source": [
    "## 显示手写体数字图片经PCA压缩后的二维空间分布"
   ]
  },
  {
   "cell_type": "code",
   "execution_count": null,
   "metadata": {
    "collapsed": true
   },
   "outputs": [],
   "source": [
    "# 导入pandas用于数据读取和处理\n",
    "import pandas as pd\n",
    "\n"
   ]
  }
 ],
 "metadata": {
  "kernelspec": {
   "display_name": "Python 3",
   "language": "python",
   "name": "python3"
  },
  "language_info": {
   "codemirror_mode": {
    "name": "ipython",
    "version": 3
   },
   "file_extension": ".py",
   "mimetype": "text/x-python",
   "name": "python",
   "nbconvert_exporter": "python",
   "pygments_lexer": "ipython3",
   "version": "3.6.1"
  }
 },
 "nbformat": 4,
 "nbformat_minor": 2
}
