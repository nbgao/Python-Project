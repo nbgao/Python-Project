{
 "cells": [
  {
   "cell_type": "markdown",
   "metadata": {},
   "source": [
    "## 读取20类新闻文本的数据细节"
   ]
  },
  {
   "cell_type": "code",
   "execution_count": 2,
   "metadata": {},
   "outputs": [],
   "source": [
    "from sklearn.datasets import fetch_20newsgroups"
   ]
  },
  {
   "cell_type": "code",
   "execution_count": 3,
   "metadata": {},
   "outputs": [
    {
     "name": "stderr",
     "output_type": "stream",
     "text": [
      "Downloading dataset from http://people.csail.mit.edu/jrennie/20Newsgroups/20news-bydate.tar.gz (14 MB)\n"
     ]
    }
   ],
   "source": [
    "# fetch_20newsgroups需要即时从互联网下载数据\n",
    "news = fetch_20newsgroups(subset='all')"
   ]
  },
  {
   "cell_type": "code",
   "execution_count": 16,
   "metadata": {},
   "outputs": [
    {
     "name": "stdout",
     "output_type": "stream",
     "text": [
      "18846\n",
      "From: Mamatha Devineni Ratnam <mr47+@andrew.cmu.edu>\n",
      "Subject: Pens fans reactions\n",
      "Organization: Post Office, Carnegie Mellon, Pittsburgh, PA\n",
      "Lines: 12\n",
      "NNTP-Posting-Host: po4.andrew.cmu.edu\n",
      "\n",
      "\n",
      "\n",
      "I am sure some bashers of Pens fans are pretty confused about the lack\n",
      "of any kind of posts about the recent Pens massacre of the Devils. Actually,\n",
      "I am  bit puzzled too and a bit relieved. However, I am going to put an end\n",
      "to non-PIttsburghers' relief with a bit of praise for the Pens. Man, they\n",
      "are killing those Devils worse than I thought. Jagr just showed you why\n",
      "he is much better than his regular season stats. He is also a lot\n",
      "fo fun to watch in the playoffs. Bowman should let JAgr have a lot of\n",
      "fun in the next couple of games since the Pens are going to beat the pulp out of Jersey anyway. I was very disappointed not to see the Islanders lose the final\n",
      "regular season game.          PENS RULE!!!\n",
      "\n",
      "\n",
      "From: mblawson@midway.ecn.uoknor.edu (Matthew B Lawson)\n",
      "Subject: Which high-performance VLB video card?\n",
      "Summary: Seek recommendations for VLB video card\n",
      "Nntp-Posting-Host: midway.ecn.uoknor.edu\n",
      "Organization: Engineering Computer Network, University of Oklahoma, Norman, OK, USA\n",
      "Keywords: orchid, stealth, vlb\n",
      "Lines: 21\n",
      "\n",
      "  My brother is in the market for a high-performance video card that supports\n",
      "VESA local bus with 1-2MB RAM.  Does anyone have suggestions/ideas on:\n",
      "\n",
      "  - Diamond Stealth Pro Local Bus\n",
      "\n",
      "  - Orchid Farenheit 1280\n",
      "\n",
      "  - ATI Graphics Ultra Pro\n",
      "\n",
      "  - Any other high-performance VLB card\n",
      "\n",
      "\n",
      "Please post or email.  Thank you!\n",
      "\n",
      "  - Matt\n",
      "\n",
      "-- \n",
      "    |  Matthew B. Lawson <------------> (mblawson@essex.ecn.uoknor.edu)  |   \n",
      "  --+-- \"Now I, Nebuchadnezzar, praise and exalt and glorify the King  --+-- \n",
      "    |   of heaven, because everything he does is right and all his ways  |   \n",
      "    |   are just.\" - Nebuchadnezzar, king of Babylon, 562 B.C.           |   \n",
      "\n",
      "From: hilmi-er@dsv.su.se (Hilmi Eren)\n",
      "Subject: Re: ARMENIA SAYS IT COULD SHOOT DOWN TURKISH PLANES (Henrik)\n",
      "Lines: 95\n",
      "Nntp-Posting-Host: viktoria.dsv.su.se\n",
      "Reply-To: hilmi-er@dsv.su.se (Hilmi Eren)\n",
      "Organization: Dept. of Computer and Systems Sciences, Stockholm University\n",
      "\n",
      "\n",
      "\n",
      "\n",
      "|>The student of \"regional killings\" alias Davidian (not the Davidian religios sect) writes:\n",
      "\n",
      "\n",
      "|>Greater Armenia would stretch from Karabakh, to the Black Sea, to the\n",
      "|>Mediterranean, so if you use the term \"Greater Armenia\" use it with care.\n",
      "\n",
      "\n",
      "\tFinally you said what you dream about. Mediterranean???? That was new....\n",
      "\tThe area will be \"greater\" after some years, like your \"holocaust\" numbers......\n",
      "\n",
      "\n",
      "\n",
      "\n",
      "|>It has always been up to the Azeris to end their announced winning of Karabakh \n",
      "|>by removing the Armenians! When the president of Azerbaijan, Elchibey, came to \n",
      "|>power last year, he announced he would be be \"swimming in Lake Sevan [in \n",
      "|>Armeniaxn] by July\".\n",
      "\t\t*****\n",
      "\tIs't July in USA now????? Here in Sweden it's April and still cold.\n",
      "\tOr have you changed your calendar???\n",
      "\n",
      "\n",
      "|>Well, he was wrong! If Elchibey is going to shell the \n",
      "|>Armenians of Karabakh from Aghdam, his people will pay the price! If Elchibey \n",
      "\t\t\t\t\t\t    ****************\n",
      "|>is going to shell Karabakh from Fizuli his people will pay the price! If \n",
      "\t\t\t\t\t\t    ******************\n",
      "|>Elchibey thinks he can get away with bombing Armenia from the hills of \n",
      "|>Kelbajar, his people will pay the price. \n",
      "\t\t\t    ***************\n",
      "\n",
      "\n",
      "\tNOTHING OF THE MENTIONED IS TRUE, BUT LET SAY IT's TRUE.\n",
      "\t\n",
      "\tSHALL THE AZERI WOMEN AND CHILDREN GOING TO PAY THE PRICE WITH\n",
      "\t\t\t\t\t\t    **************\n",
      "\tBEING RAPED, KILLED AND TORTURED BY THE ARMENIANS??????????\n",
      "\t\n",
      "\tHAVE YOU HEARDED SOMETHING CALLED: \"GENEVA CONVENTION\"???????\n",
      "\tYOU FACIST!!!!!\n",
      "\n",
      "\n",
      "\n",
      "\tOhhh i forgot, this is how Armenians fight, nobody has forgot\n",
      "\tyou killings, rapings and torture against the Kurds and Turks once\n",
      "\tupon a time!\n",
      "      \n",
      "       \n",
      "\n",
      "|>And anyway, this \"60 \n",
      "|>Kurd refugee\" story, as have other stories, are simple fabrications sourced in \n",
      "|>Baku, modified in Ankara. Other examples of this are Armenia has no border \n",
      "|>with Iran, and the ridiculous story of the \"intercepting\" of Armenian military \n",
      "|>conversations as appeared in the New York Times supposedly translated by \n",
      "|>somebody unknown, from Armenian into Azeri Turkish, submitted by an unnamed \n",
      "|>\"special correspondent\" to the NY Times from Baku. Real accurate!\n",
      "\n",
      "Ohhhh so swedish RedCross workers do lie they too? What ever you say\n",
      "\"regional killer\", if you don't like the person then shoot him that's your policy.....l\n",
      "\n",
      "\n",
      "|>[HE]\tSearch Turkish planes? You don't know what you are talking about.<-------\n",
      "|>[HE]\tsince it's content is announced to be weapons? \t\t\t\ti\t \n",
      "\t\t\t\t\t\t\t\t\t\ti\n",
      "|>Well, big mouth Ozal said military weapons are being provided to Azerbaijan\ti\n",
      "|>from Turkey, yet Demirel and others say no. No wonder you are so confused!\ti\n",
      "\t\t\t\t\t\t\t\t\t\ti\n",
      "\t\t\t\t\t\t\t\t\t\ti\n",
      "\tConfused?????\t\t\t\t\t\t\t\ti\n",
      "\tYou facist when you delete text don't change it, i wrote:\t\ti\n",
      "\t\t\t\t\t\t\t\t\t\ti\n",
      "        Search Turkish planes? You don't know what you are talking about.\ti\n",
      "        Turkey's government has announced that it's giving weapons  <-----------i\n",
      "        to Azerbadjan since Armenia started to attack Azerbadjan\t\t\n",
      "        it self, not the Karabag province. So why search a plane for weapons\t\n",
      "        since it's content is announced to be weapons?   \n",
      "\n",
      "\tIf there is one that's confused then that's you! We have the right (and we do)\n",
      "\tto give weapons to the Azeris, since Armenians started the fight in Azerbadjan!\n",
      " \n",
      "\n",
      "|>You are correct, all Turkish planes should be simply shot down! Nice, slow\n",
      "|>moving air transports!\n",
      "\n",
      "\tShoot down with what? Armenian bread and butter? Or the arms and personel \n",
      "\tof the Russian army?\n",
      "\n",
      "\n",
      "\n",
      "\n",
      "Hilmi Eren\n",
      "Stockholm University\n",
      "\n",
      "From: guyd@austin.ibm.com (Guy Dawson)\n",
      "Subject: Re: IDE vs SCSI, DMA and detach\n",
      "Originator: guyd@pal500.austin.ibm.com\n",
      "Organization: IBM Austin\n",
      "Lines: 60\n",
      "\n",
      "\n",
      "In article <1993Apr19.034517.12820@julian.uwo.ca>, wlsmith@valve.heart.rri.uwo.ca (Wayne Smith) writes:\n",
      "> In article <RICHK.93Apr15075248@gozer.grebyn.com> richk@grebyn.com (Richard Krehbiel) writes:\n",
      "> >>     Can anyone explain in fairly simple terms why, if I get OS/2, I might \n",
      "> >>   need an SCSI controler rather than an IDE.  Will performance suffer that\n",
      "> >>   much?  For a 200MB or so drive?  If I don't have a tape drive or CD-ROM?\n",
      "> >>   Any help would be appreciated.\n",
      "> \n",
      "> >So, when you've got multi-tasking, you want to increase performance by\n",
      "> >increasing the amount of overlapping you do.\n",
      "> >\n",
      "> >One way is with DMA or bus mastering.  Either of these make it\n",
      "> >possible for I/O devices to move their data into and out of memory\n",
      "> >without interrupting the CPU.  The alternative is for the CPU to move\n",
      "> >the data.  There are several SCSI interface cards that allow DMA and\n",
      "> >bus mastering.\n",
      ">  ^^^^^^^^^^^^\n",
      "> How do you do bus-mastering on the ISA bus?\n",
      "> \n",
      "> >IDE, however, is defined by the standard AT interface\n",
      "> >created for the IBM PC AT, which requires the CPU to move all the data\n",
      "> >bytes, with no DMA.\n",
      "> \n",
      "> If we're talking ISA (AT) bus here, then you can only have 1 DMA channel\n",
      "> active at any one time, presumably transferring data from a single device.\n",
      "> So even though you can have at least 7 devices on a SCSI bus, explain how\n",
      "> all 7 of those devices can to DMA transfers through a single SCSI card\n",
      "> to the ISA-AT bus at the same time.\n",
      "\n",
      "Think!\n",
      "\n",
      "It's the SCSI card doing the DMA transfers NOT the disks...\n",
      "\n",
      "The SCSI card can do DMA transfers containing data from any of the SCSI devices\n",
      "it is attached when it wants to.\n",
      "\n",
      "An important feature of SCSI is the ability to detach a device. This frees the\n",
      "SCSI bus for other devices. This is typically used in a multi-tasking OS to\n",
      "start transfers on several devices. While each device is seeking the data the\n",
      "bus is free for other commands and data transfers. When the devices are\n",
      "ready to transfer the data they can aquire the bus and send the data.\n",
      "\n",
      "On an IDE bus when you start a transfer the bus is busy until the disk has seeked\n",
      "the data and transfered it. This is typically a 10-20ms second lock out for other\n",
      "processes wanting the bus irrespective of transfer time.\n",
      "\n",
      "> \n",
      "> Also, I'm still trying to track down a copy of IBM's AT reference book,\n",
      "> but from their PC technical manual (page 2-93):\n",
      "> \n",
      "> \"The (FDD) adapter is buffered on the I.O bus and uses the System Board\n",
      "> direct memory access (DMA) for record data transfers.\"\n",
      "> I expect to see something similar for the PC-AT HDD adapter.  \n",
      "> So the lowly low-density original PC FDD card used DMA and the PC-AT\n",
      "> HDD controller doesn't!?!?  That makes real sense.\n",
      "-- \n",
      "-- -----------------------------------------------------------------------------\n",
      "Guy Dawson - Hoskyns Group Plc.\n",
      "        guyd@hoskyns.co.uk  Tel Hoskyns UK     -  71 251 2128\n",
      "        guyd@austin.ibm.com Tel IBM Austin USA - 512 838 3377\n",
      "\n"
     ]
    }
   ],
   "source": [
    "# 查验数据规模和细节\n",
    "print(len(news.data))\n",
    "print(news.data[0])\n",
    "print(news.data[1])\n",
    "print(news.data[2])\n",
    "print(news.data[3])"
   ]
  },
  {
   "cell_type": "markdown",
   "metadata": {},
   "source": [
    "## 20类新闻文本数据分割"
   ]
  },
  {
   "cell_type": "code",
   "execution_count": 5,
   "metadata": {
    "collapsed": true
   },
   "outputs": [],
   "source": [
    "# 导入train_test_split\n",
    "from sklearn.cross_validation import train_test_split"
   ]
  },
  {
   "cell_type": "code",
   "execution_count": 6,
   "metadata": {
    "collapsed": true
   },
   "outputs": [],
   "source": [
    "# 随即采样25%的数据样本作为测试集\n",
    "X_train, X_test, y_train, y_test = train_test_split(news.data, news.target, test_size=0.25, random_state=33)"
   ]
  },
  {
   "cell_type": "markdown",
   "metadata": {},
   "source": [
    "## 使用朴素贝叶斯分类器对新闻文本数据进行类别预测"
   ]
  },
  {
   "cell_type": "code",
   "execution_count": 7,
   "metadata": {
    "collapsed": true
   },
   "outputs": [],
   "source": [
    "# 从sklearn.feature_extraction.text里导入用于文本特征向量转化模块\n",
    "from sklearn.feature_extraction.text import CountVectorizer"
   ]
  },
  {
   "cell_type": "code",
   "execution_count": 8,
   "metadata": {
    "collapsed": true
   },
   "outputs": [],
   "source": [
    "vec = CountVectorizer()\n",
    "X_train = vec.fit_transform(X_train)\n",
    "X_test = vec.transform(X_test)"
   ]
  },
  {
   "cell_type": "code",
   "execution_count": 9,
   "metadata": {
    "collapsed": true
   },
   "outputs": [],
   "source": [
    "# 从sklearn.naive_bayes里导入朴素贝叶斯模型\n",
    "from sklearn.naive_bayes import MultinomialNB"
   ]
  },
  {
   "cell_type": "code",
   "execution_count": 10,
   "metadata": {
    "collapsed": true
   },
   "outputs": [],
   "source": [
    "# 从使用默认配置初始化贝叶斯模型\n",
    "mnb = MultinomialNB()\n",
    "# 利用训练数据对模型参数进行估计\n",
    "mnb.fit(X_train, y_train)\n",
    "# 对测试样本进行类别预测，结果存储在y_predict中\n",
    "y_predict = mnb.predict(X_test)"
   ]
  },
  {
   "cell_type": "code",
   "execution_count": 11,
   "metadata": {},
   "outputs": [
    {
     "data": {
      "text/plain": [
       "4712"
      ]
     },
     "execution_count": 11,
     "metadata": {},
     "output_type": "execute_result"
    }
   ],
   "source": [
    "len(y_predict)"
   ]
  },
  {
   "cell_type": "markdown",
   "metadata": {},
   "source": [
    "## 对朴素贝叶斯分类器在新闻文本数据上的表现性能进行评估"
   ]
  },
  {
   "cell_type": "code",
   "execution_count": 19,
   "metadata": {},
   "outputs": [
    {
     "name": "stdout",
     "output_type": "stream",
     "text": [
      "The accuracy of Naive Bayes Classifier is 0.839770797963\n"
     ]
    }
   ],
   "source": [
    "# 使用模型自带的评估函数进行准确性测评\n",
    "print('The accuracy of Naive Bayes Classifier is', mnb.score(X_test, y_test))"
   ]
  },
  {
   "cell_type": "code",
   "execution_count": 20,
   "metadata": {},
   "outputs": [
    {
     "name": "stdout",
     "output_type": "stream",
     "text": [
      "                          precision    recall  f1-score   support\n",
      "\n",
      "             alt.atheism       0.86      0.86      0.86       201\n",
      "           comp.graphics       0.59      0.86      0.70       250\n",
      " comp.os.ms-windows.misc       0.89      0.10      0.17       248\n",
      "comp.sys.ibm.pc.hardware       0.60      0.88      0.72       240\n",
      "   comp.sys.mac.hardware       0.93      0.78      0.85       242\n",
      "          comp.windows.x       0.82      0.84      0.83       263\n",
      "            misc.forsale       0.91      0.70      0.79       257\n",
      "               rec.autos       0.89      0.89      0.89       238\n",
      "         rec.motorcycles       0.98      0.92      0.95       276\n",
      "      rec.sport.baseball       0.98      0.91      0.95       251\n",
      "        rec.sport.hockey       0.93      0.99      0.96       233\n",
      "               sci.crypt       0.86      0.98      0.91       238\n",
      "         sci.electronics       0.85      0.88      0.86       249\n",
      "                 sci.med       0.92      0.94      0.93       245\n",
      "               sci.space       0.89      0.96      0.92       221\n",
      "  soc.religion.christian       0.78      0.96      0.86       232\n",
      "      talk.politics.guns       0.88      0.96      0.92       251\n",
      "   talk.politics.mideast       0.90      0.98      0.94       231\n",
      "      talk.politics.misc       0.79      0.89      0.84       188\n",
      "      talk.religion.misc       0.93      0.44      0.60       158\n",
      "\n",
      "             avg / total       0.86      0.84      0.82      4712\n",
      "\n"
     ]
    }
   ],
   "source": [
    "# 从sklearn.metrics里导入classification_report用于详细的分类性能报告\n",
    "from sklearn.metrics import classification_report\n",
    "print(classification_report(y_test, y_predict, target_names=news.target_names))"
   ]
  },
  {
   "cell_type": "code",
   "execution_count": null,
   "metadata": {
    "collapsed": true
   },
   "outputs": [],
   "source": []
  }
 ],
 "metadata": {
  "kernelspec": {
   "display_name": "Python 3",
   "language": "python",
   "name": "python3"
  },
  "language_info": {
   "codemirror_mode": {
    "name": "ipython",
    "version": 3
   },
   "file_extension": ".py",
   "mimetype": "text/x-python",
   "name": "python",
   "nbconvert_exporter": "python",
   "pygments_lexer": "ipython3",
   "version": "3.6.1"
  }
 },
 "nbformat": 4,
 "nbformat_minor": 2
}
