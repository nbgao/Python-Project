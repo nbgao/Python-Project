{
 "cells": [
  {
   "cell_type": "markdown",
   "metadata": {},
   "source": [
    "## 多种回归模型预测性能比较表"
   ]
  },
  {
   "cell_type": "markdown",
   "metadata": {},
   "source": [
    "|__Rank__|__Regressors__|__R-squared__|__MSE__|__MAE__|\n",
    "|:-------:|:-------------:|:-----------:|:-----:|:------:|\n",
    "|1|GradientBoostingRegressor|0.8434|12.14|2.27|\n",
    "|2|RandomForestRegressor|0.8182|14.10|2.42|\n",
    "|3|ExtraTreesRegressor|0.7954|15.86|2.52|\n",
    "|4|SVM Regressor (RBF Kernel)|0.7564|18.89|2.61|\n",
    "|5|KNN Regressor (Distance-weighted)|0.7198|21.73|2.81|\n",
    "|6|DecisionTreeRegressor|0.7020|23.10|3.03|\n",
    "|7|KNN Regressor (Uniform-weighted)|0.6903|24.01|2.97|\n",
    "|8|LinearRegression|0.6763|25.10|3.53|\n",
    "|9|SGDRegressor|0.6599|26.38|3.55|\n",
    "|10|SVM Regressor (Linear Kernel)|0.6517|27.76|3.57|\n",
    "|11|SVM Regressor (Poly Kernel)|0.4045|46.18|3.75|"
   ]
  }
 ],
 "metadata": {
  "kernelspec": {
   "display_name": "Python 3",
   "language": "python",
   "name": "python3"
  },
  "language_info": {
   "codemirror_mode": {
    "name": "ipython",
    "version": 3
   },
   "file_extension": ".py",
   "mimetype": "text/x-python",
   "name": "python",
   "nbconvert_exporter": "python",
   "pygments_lexer": "ipython3",
   "version": "3.6.1"
  }
 },
 "nbformat": 4,
 "nbformat_minor": 2
}
