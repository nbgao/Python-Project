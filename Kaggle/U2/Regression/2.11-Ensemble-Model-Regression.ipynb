{
 "cells": [
  {
   "cell_type": "code",
   "execution_count": 2,
   "metadata": {},
   "outputs": [
    {
     "name": "stderr",
     "output_type": "stream",
     "text": [
      "D:\\Program Soft\\Anaconda\\Anaconda3\\lib\\site-packages\\sklearn\\preprocessing\\data.py:586: DeprecationWarning: Passing 1d arrays as data is deprecated in 0.17 and will raise ValueError in 0.19. Reshape your data either using X.reshape(-1, 1) if your data has a single feature or X.reshape(1, -1) if it contains a single sample.\n",
      "  warnings.warn(DEPRECATION_MSG_1D, DeprecationWarning)\n",
      "D:\\Program Soft\\Anaconda\\Anaconda3\\lib\\site-packages\\sklearn\\preprocessing\\data.py:649: DeprecationWarning: Passing 1d arrays as data is deprecated in 0.17 and will raise ValueError in 0.19. Reshape your data either using X.reshape(-1, 1) if your data has a single feature or X.reshape(1, -1) if it contains a single sample.\n",
      "  warnings.warn(DEPRECATION_MSG_1D, DeprecationWarning)\n",
      "D:\\Program Soft\\Anaconda\\Anaconda3\\lib\\site-packages\\sklearn\\preprocessing\\data.py:649: DeprecationWarning: Passing 1d arrays as data is deprecated in 0.17 and will raise ValueError in 0.19. Reshape your data either using X.reshape(-1, 1) if your data has a single feature or X.reshape(1, -1) if it contains a single sample.\n",
      "  warnings.warn(DEPRECATION_MSG_1D, DeprecationWarning)\n"
     ]
    }
   ],
   "source": [
    "from sklearn.datasets import load_boston\n",
    "# 从读取房价数据存储在boston变量中\n",
    "boston = load_boston()\n",
    "\n",
    "import numpy as np\n",
    "# 导入数据分割器\n",
    "from sklearn.cross_validation import train_test_split\n",
    "\n",
    "X = boston.data\n",
    "y = boston.target\n",
    "\n",
    "X_train, X_test, y_train, y_test = train_test_split(X, y, random_state=33, test_size=0.25)\n",
    "\n",
    "# 从sklearn.preprocessing导入数据标准化模块\n",
    "from sklearn.preprocessing import StandardScaler\n",
    "\n",
    "# 分别初始化对特征和目标值的标准化\n",
    "ss_X = StandardScaler()\n",
    "ss_y = StandardScaler()\n",
    "\n",
    "# 分别对训练和测试数据的特征以及目标值进行标准化处理\n",
    "X_train = ss_X.fit_transform(X_train)\n",
    "X_test = ss_X.transform(X_test)\n",
    "y_train = ss_y.fit_transform(y_train)\n",
    "y_test = ss_y.transform(y_test)"
   ]
  },
  {
   "cell_type": "markdown",
   "metadata": {},
   "source": [
    "## 使用3种集成回归模型对美国波士顿地区房价训练数据进行学习，并对测试数据进行预测"
   ]
  },
  {
   "cell_type": "markdown",
   "metadata": {},
   "source": [
    "### RandomForestRegressor (RFR)"
   ]
  },
  {
   "cell_type": "code",
   "execution_count": 11,
   "metadata": {
    "collapsed": true
   },
   "outputs": [],
   "source": [
    "# 使用RandomForestRegressor训练模型，并对测试数据作出预测\n",
    "from sklearn.ensemble import RandomForestRegressor\n",
    "\n",
    "rfr = RandomForestRegressor()\n",
    "rfr.fit(X_train, y_train)\n",
    "rfr_y_predict = rfr.predict(X_test)"
   ]
  },
  {
   "cell_type": "markdown",
   "metadata": {},
   "source": [
    "### ExtraTreesRegressor (ETR)"
   ]
  },
  {
   "cell_type": "code",
   "execution_count": 12,
   "metadata": {},
   "outputs": [],
   "source": [
    "# 使用ExtraTreesRegressor训练模型，并对测试数据作出预测\n",
    "from sklearn.ensemble import ExtraTreesRegressor\n",
    "\n",
    "etr = ExtraTreesRegressor()\n",
    "etr.fit(X_train, y_train)\n",
    "etr_y_predict = etr.predict(X_test)"
   ]
  },
  {
   "cell_type": "markdown",
   "metadata": {},
   "source": [
    "### GradientBoostingRegressor (GBR)"
   ]
  },
  {
   "cell_type": "code",
   "execution_count": 13,
   "metadata": {},
   "outputs": [],
   "source": [
    "# 使用GradientBoostingRegressor训练模型，并对测试数据作出预测\n",
    "from sklearn.ensemble import GradientBoostingRegressor\n",
    "\n",
    "gbr = GradientBoostingRegressor()\n",
    "gbr.fit(X_train, y_train)\n",
    "gbr_y_predict = gbr.predict(X_test)"
   ]
  },
  {
   "cell_type": "markdown",
   "metadata": {},
   "source": [
    "## 对3种集成回归模型在美国波士顿房价测试数据上的回归预测性能进行评估"
   ]
  },
  {
   "cell_type": "markdown",
   "metadata": {},
   "source": [
    "### RandomForestRegressor (RFR)"
   ]
  },
  {
   "cell_type": "code",
   "execution_count": 14,
   "metadata": {},
   "outputs": [
    {
     "name": "stdout",
     "output_type": "stream",
     "text": [
      "R-squared value of RandomForestRegressor: 0.818210249417\n",
      "The mean squared error of RandomForestRegressor: 14.0962125984\n",
      "The mean absolute error of RandomForestRegressor: 2.42125984252\n"
     ]
    }
   ],
   "source": [
    "# 使用 R-squared、MSE、MAE 指标对默认配置的随机回归森林在测试集上进行性能评估\n",
    "from sklearn.metrics import r2_score, mean_squared_error, mean_absolute_error\n",
    "print('R-squared value of RandomForestRegressor:', rfr.score(X_test, y_test))\n",
    "print('The mean squared error of RandomForestRegressor:', mean_squared_error(ss_y.inverse_transform(y_test), ss_y.inverse_transform(rfr_y_predict)))\n",
    "print('The mean absolute error of RandomForestRegressor:', mean_absolute_error(ss_y.inverse_transform(y_test), ss_y.inverse_transform(rfr_y_predict)))"
   ]
  },
  {
   "cell_type": "markdown",
   "metadata": {},
   "source": [
    "### ExtraTreesRegressor (ETR)"
   ]
  },
  {
   "cell_type": "code",
   "execution_count": 51,
   "metadata": {},
   "outputs": [
    {
     "name": "stdout",
     "output_type": "stream",
     "text": [
      "R-squared value of ExtraForestRegressor: 0.79546259364\n",
      "The mean squared error of ExtraForestRegressor: 15.8600952756\n",
      "The mean absolute error of ExtraForestRegressor: 2.54212598425\n"
     ]
    },
    {
     "data": {
      "text/plain": [
       "[(0.0035186146574484297, 'ZN'),\n",
       " (0.0060628184214622967, 'RAD'),\n",
       " (0.016442478688940124, 'B'),\n",
       " (0.020550231768239228, 'AGE'),\n",
       " (0.023767404728569499, 'CHAS'),\n",
       " (0.028951491970171078, 'DIS'),\n",
       " (0.029118158013682123, 'CRIM'),\n",
       " (0.029819131132069472, 'NOX'),\n",
       " (0.037374310951687396, 'INDUS'),\n",
       " (0.050977721625719064, 'PTRATIO'),\n",
       " (0.064774421197048376, 'TAX'),\n",
       " (0.29361988479944373, 'LSTAT'),\n",
       " (0.39502333204551915, 'RM')]"
      ]
     },
     "execution_count": 51,
     "metadata": {},
     "output_type": "execute_result"
    }
   ],
   "source": [
    "# 使用 R-squared、MSE、MAE 指标对默认配置的极端回归森林在测试集上进行性能评估\n",
    "from sklearn.metrics import r2_score, mean_squared_error, mean_absolute_error\n",
    "print('R-squared value of ExtraForestRegressor:', etr.score(X_test, y_test))\n",
    "print('The mean squared error of ExtraForestRegressor:', mean_squared_error(ss_y.inverse_transform(y_test), ss_y.inverse_transform(etr_y_predict)))\n",
    "print('The mean absolute error of ExtraForestRegressor:', mean_absolute_error(ss_y.inverse_transform(y_test), ss_y.inverse_transform(etr_y_predict)))\n",
    "\n",
    "# 利用训练好的极端回归森林模型，输出每种特征对预测目标的贡献度\n",
    "sorted(zip(etr.feature_importances_, boston.feature_names))"
   ]
  },
  {
   "cell_type": "markdown",
   "metadata": {},
   "source": [
    "### GradientBoostingRegressor (GBR)"
   ]
  },
  {
   "cell_type": "code",
   "execution_count": 52,
   "metadata": {},
   "outputs": [
    {
     "name": "stdout",
     "output_type": "stream",
     "text": [
      "R-squared value of GradientBoostingRegressor: 0.843432476267\n",
      "The mean squared error of GradientBoostingRegressor: 12.1404484767\n",
      "The mean absolute error of GradientBoostingRegressor: 2.27178155048\n"
     ]
    }
   ],
   "source": [
    "# 使用 R-squared、MSE、MAE 指标对默认配置的梯度提升回归树在测试集上进行性能评估\n",
    "from sklearn.metrics import r2_score, mean_squared_error, mean_absolute_error\n",
    "print('R-squared value of GradientBoostingRegressor:', gbr.score(X_test, y_test))\n",
    "print('The mean squared error of GradientBoostingRegressor:', mean_squared_error(ss_y.inverse_transform(y_test), ss_y.inverse_transform(gbr_y_predict)))\n",
    "print('The mean absolute error of GradientBoostingRegressor:', mean_absolute_error(ss_y.inverse_transform(y_test), ss_y.inverse_transform(gbr_y_predict)))"
   ]
  },
  {
   "cell_type": "markdown",
   "metadata": {},
   "source": [
    "## 多种回归模型预测性能比较表"
   ]
  },
  {
   "cell_type": "markdown",
   "metadata": {},
   "source": [
    "|__Rank__|__Regressors__|__R-squared__|__MSE__|__MAE__|\n",
    "|:-------:|:-------------:|:-----------:|:-----:|:------:|\n",
    "|1|GradientBoostingRegressor|0.8434|12.14|2.27|\n",
    "|2|RandomForestRegressor|0.8182|14.10|2.42|\n",
    "|3|ExtraTreesRegressor|0.7954|15.86|2.52|\n",
    "|4|SVM Regressor (RBF Kernel)|0.7564|18.89|2.61|\n",
    "|5|KNN Regressor (Distance-weighted)|0.7198|21.73|2.81|\n",
    "|6|DecisionTreeRegressor|0.7020|23.10|3.03|\n",
    "|7|KNN Regressor (Uniform-weighted)|0.6903|24.01|2.97|\n",
    "|8|LinearRegression|0.6763|25.10|3.53|\n",
    "|9|SGDRegressor|0.6599|26.38|3.55|\n",
    "|10|SVM Regressor (Linear Kernel)|0.6517|27.76|3.57|\n",
    "|11|SVM Regressor (Poly Kernel)|0.4045|46.18|3.75|"
   ]
  },
  {
   "cell_type": "code",
   "execution_count": null,
   "metadata": {
    "collapsed": true
   },
   "outputs": [],
   "source": []
  }
 ],
 "metadata": {
  "kernelspec": {
   "display_name": "Python 3",
   "language": "python",
   "name": "python3"
  },
  "language_info": {
   "codemirror_mode": {
    "name": "ipython",
    "version": 3
   },
   "file_extension": ".py",
   "mimetype": "text/x-python",
   "name": "python",
   "nbconvert_exporter": "python",
   "pygments_lexer": "ipython3",
   "version": "3.6.1"
  }
 },
 "nbformat": 4,
 "nbformat_minor": 2
}
