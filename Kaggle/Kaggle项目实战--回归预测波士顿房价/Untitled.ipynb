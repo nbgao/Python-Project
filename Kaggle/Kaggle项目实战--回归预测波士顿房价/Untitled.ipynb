{
 "cells": [
  {
   "cell_type": "code",
   "execution_count": 1,
   "metadata": {
    "collapsed": true
   },
   "outputs": [],
   "source": [
    "import numpy as np\n",
    "import pandas as pd\n",
    "from sklearn.model_selection import cross_val_score\n",
    "from sklearn.linear_model import Lasso\n",
    "\n",
    "import warnings\n",
    "\n",
    "def ignore_warn(*arfs, **kwargs):\n",
    "    pass\n",
    "\n",
    "warnings.warn = ignore_warn"
   ]
  },
  {
   "cell_type": "code",
   "execution_count": 2,
   "metadata": {
    "collapsed": true
   },
   "outputs": [],
   "source": [
    "data = pd.read_csv('data.csv')\n",
    "l_train = len(data[data['SalePrice'].notnull()])\n",
    "train = data[:l_train]\n",
    "y = train['SalePrice']\n",
    "X = train.drop('SalePrice', axis=1).values"
   ]
  },
  {
   "cell_type": "code",
   "execution_count": 3,
   "metadata": {},
   "outputs": [
    {
     "name": "stdout",
     "output_type": "stream",
     "text": [
      "偏差: 0.0121(0.0013)\n"
     ]
    }
   ],
   "source": [
    "def scoring(model):\n",
    "    r = cross_val_score(model, X, y, scoring=\"neg_mean_squared_error\", cv=5)\n",
    "    score = -r\n",
    "    return score\n",
    "\n",
    "clf = Lasso(alpha=0.0005)\n",
    "score = scoring(clf)\n",
    "print('偏差: {:.4f}({:.4f})'.format(score.mean(), score.std()))"
   ]
  },
  {
   "cell_type": "code",
   "execution_count": 4,
   "metadata": {},
   "outputs": [
    {
     "name": "stdout",
     "output_type": "stream",
     "text": [
      "特征总数: 367\n",
      "嵌入式选择后，保留特征数: 120\n"
     ]
    }
   ],
   "source": [
    "clf = Lasso(alpha=0.0005)\n",
    "clf.fit(X, y)\n",
    "print('特征总数: %d' % len(data.columns))\n",
    "print('嵌入式选择后，保留特征数: %d' % np.sum(clf.coef_ != 0))"
   ]
  },
  {
   "cell_type": "code",
   "execution_count": 5,
   "metadata": {},
   "outputs": [
    {
     "data": {
      "image/png": "[encoded data removed]",
      "text/plain": [
       "<matplotlib.figure.Figure at 0x177129edb70>"
      ]
     },
     "metadata": {},
     "output_type": "display_data"
    }
   ],
   "source": [
    "from sklearn.model_selection import learning_curve\n",
    "import matplotlib.pyplot as plt\n",
    "%matplotlib inline\n",
    "\n",
    "\n",
    "def plot_learning_curve(estimator, title, X, y, cv=10,\n",
    "                        train_sizes=np.linspace(.1, 1.0, 5)):  # 定义 plot_learning_curve 函数绘制学习曲线\n",
    "    plt.figure()\n",
    "    plt.title(title)  # 图片标题\n",
    "    plt.xlabel('Training examples')  # 横坐标\n",
    "    plt.ylabel('Score')  # 纵坐标\n",
    "    train_sizes, train_scores, test_scores = learning_curve(estimator, X, y, cv=cv, scoring=\"neg_mean_squared_error\",\n",
    "                                                            train_sizes=train_sizes)  # 交叉验证法计算训练误差，测试误差\n",
    "    train_scores_mean = np.mean(-train_scores, axis=1)  # 计算训练误差平均值\n",
    "    train_scores_std = np.std(-train_scores, axis=1)  # 训练误差方差\n",
    "    test_scores_mean = np.mean(-test_scores, axis=1)  # 测试误差平均值\n",
    "    test_scores_std = np.std(-test_scores, axis=1)  # 测试误差方差\n",
    "    plt.grid()  # 增加网格\n",
    "\n",
    "    plt.fill_between(train_sizes, train_scores_mean - train_scores_std,\n",
    "                     train_scores_mean + train_scores_std,\n",
    "                     alpha=0.1, color='g')  # 颜色填充\n",
    "    plt.fill_between(train_sizes, test_scores_mean - test_scores_std,\n",
    "                     test_scores_mean + test_scores_std,\n",
    "                     alpha=0.1, color='r')  # 颜色填充\n",
    "    plt.plot(train_sizes, train_scores_mean, 'o-', color='g',\n",
    "             label='traning score')  # 绘制训练误差曲线\n",
    "    plt.plot(train_sizes, test_scores_mean, 'o-', color='r',\n",
    "             label='testing score')  # 绘制测试误差曲线\n",
    "    plt.legend(loc='best')\n",
    "    return plt\n",
    "\n",
    "\n",
    "clf = Lasso(alpha=0.0005)\n",
    "g = plot_learning_curve(clf, 'Lasso', X, y)  # 调用 plot_learning_curve 绘制学习曲线"
   ]
  },
  {
   "cell_type": "code",
   "execution_count": 6,
   "metadata": {
    "collapsed": true
   },
   "outputs": [],
   "source": [
    "clf = Lasso(alpha=0.0005)  # 参数设置\n",
    "clf.fit(X, y)\n",
    "test = data[l_train:].drop('SalePrice', axis=1).values  # 测试集数据\n",
    "predict = np.exp(clf.predict(test))  # 预测\n",
    "result = pd.DataFrame()\n",
    "result['SalePrice'] = predict\n",
    "result.to_csv('submission.csv', index=False)  # 将结果写入 submission.csv"
   ]
  },
  {
   "cell_type": "code",
   "execution_count": null,
   "metadata": {
    "collapsed": true
   },
   "outputs": [],
   "source": []
  }
 ],
 "metadata": {
  "kernelspec": {
   "display_name": "Python 3",
   "language": "python",
   "name": "python3"
  },
  "language_info": {
   "codemirror_mode": {
    "name": "ipython",
    "version": 3
   },
   "file_extension": ".py",
   "mimetype": "text/x-python",
   "name": "python",
   "nbconvert_exporter": "python",
   "pygments_lexer": "ipython3",
   "version": "3.6.3"
  }
 },
 "nbformat": 4,
 "nbformat_minor": 2
}
