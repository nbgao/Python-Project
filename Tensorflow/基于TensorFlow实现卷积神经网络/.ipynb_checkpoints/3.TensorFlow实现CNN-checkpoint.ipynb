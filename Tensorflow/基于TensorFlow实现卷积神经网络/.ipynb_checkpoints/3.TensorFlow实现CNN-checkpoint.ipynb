{
 "cells": [
  {
   "cell_type": "markdown",
   "metadata": {},
   "source": [
    "# 1. Build CNN"
   ]
  },
  {
   "cell_type": "markdown",
   "metadata": {},
   "source": [
    "## 1.1 Preparing"
   ]
  },
  {
   "cell_type": "code",
   "execution_count": 1,
   "metadata": {
    "collapsed": true
   },
   "outputs": [],
   "source": [
    "import numpy as np\n",
    "import tensorflow as tf"
   ]
  },
  {
   "cell_type": "markdown",
   "metadata": {},
   "source": [
    "## 1.2 Data preprocessing"
   ]
  },
  {
   "cell_type": "code",
   "execution_count": 5,
   "metadata": {},
   "outputs": [
    {
     "name": "stdout",
     "output_type": "stream",
     "text": [
      "(1797, 64)\n",
      "(1797, 1)\n"
     ]
    }
   ],
   "source": [
    "# 导入手写数字数据集\n",
    "from sklearn.datasets import load_digits\n",
    "\n",
    "# 数据预处理\n",
    "digits = load_digits()\n",
    "\n",
    "X_data = digits.data.astype(np.float32)\n",
    "Y_data = digits.target.astype(np.float32).reshape(-1,1)\n",
    "print(X_data.shape)\n",
    "print(Y_data.shape)"
   ]
  },
  {
   "cell_type": "code",
   "execution_count": 11,
   "metadata": {},
   "outputs": [
    {
     "name": "stdout",
     "output_type": "stream",
     "text": [
      "标准化后的数据:\n",
      " [[ 0.      0.      0.3125 ...,  0.      0.      0.    ]\n",
      " [ 0.      0.      0.     ...,  0.625   0.      0.    ]\n",
      " [ 0.      0.      0.     ...,  1.      0.5625  0.    ]\n",
      " ..., \n",
      " [ 0.      0.      0.0625 ...,  0.375   0.      0.    ]\n",
      " [ 0.      0.      0.125  ...,  0.75    0.      0.    ]\n",
      " [ 0.      0.      0.625  ...,  0.75    0.0625  0.    ]]\n",
      "\n",
      "One-Hot独热编码:\n",
      " [[ 1.  0.  0. ...,  0.  0.  0.]\n",
      " [ 0.  1.  0. ...,  0.  0.  0.]\n",
      " [ 0.  0.  1. ...,  0.  0.  0.]\n",
      " ..., \n",
      " [ 0.  0.  0. ...,  0.  1.  0.]\n",
      " [ 0.  0.  0. ...,  0.  0.  1.]\n",
      " [ 0.  0.  0. ...,  0.  1.  0.]]\n"
     ]
    }
   ],
   "source": [
    "'''\n",
    "数据的标准化（normalization）是将数据按比例缩放，\n",
    "使之落入一个小的特定区间。这样去除数据的单位限制，\n",
    "将其转化为无量纲的纯数值，便于不同单位或量级的指标能够进行比较和加权。\n",
    "'''\n",
    "from sklearn.preprocessing import MinMaxScaler\n",
    "scaler = MinMaxScaler()\n",
    "X_data = scaler.fit_transform(X_data)\n",
    "print('标准化后的数据:\\n', X_data)\n",
    "\n",
    "from sklearn.preprocessing import OneHotEncoder\n",
    "Y = OneHotEncoder().fit_transform(Y_data).todense()  # one-hot 独热编码\n",
    "print('\\nOne-Hot独热编码:\\n', Y)"
   ]
  },
  {
   "cell_type": "code",
   "execution_count": 12,
   "metadata": {
    "collapsed": true
   },
   "outputs": [],
   "source": [
    "# 转换为图片的格式(batch, height, width, channels)\n",
    "X = X_data.reshape(-1,8,8,1)\n",
    "\n",
    "batch_size = 8  # 使用MBGD算法，设定batch_size为8\n",
    "\n",
    "def generatebatch(X, Y, n_examples, batch_size):\n",
    "    for batch_i in range(n_examples // batch_size):\n",
    "        start = batch_i*batch_size\n",
    "        end = start + batch_size\n",
    "        batch_xs = X[start:end]\n",
    "        batch_ys = Y[start:end]\n",
    "        yield batch_xs, batch_ys  # 生成每一个batch"
   ]
  },
  {
   "cell_type": "code",
   "execution_count": 15,
   "metadata": {
    "collapsed": true
   },
   "outputs": [],
   "source": [
    "# 清除默认图的堆栈，并设置全图为默认图\n",
    "tf.reset_default_graph()"
   ]
  },
  {
   "cell_type": "markdown",
   "metadata": {},
   "source": [
    "## 1.3 Layer implement"
   ]
  },
  {
   "cell_type": "markdown",
   "metadata": {},
   "source": [
    "### 输入层"
   ]
  },
  {
   "cell_type": "code",
   "execution_count": 24,
   "metadata": {},
   "outputs": [],
   "source": [
    "tf_X = tf.placeholder(tf.float32, [None,8,8,1])\n",
    "tf_Y = tf.placeholder(tf.float32, [None,10])"
   ]
  },
  {
   "cell_type": "markdown",
   "metadata": {},
   "source": [
    "### 卷积层 conv1 + 激活层"
   ]
  },
  {
   "cell_type": "code",
   "execution_count": 25,
   "metadata": {
    "collapsed": true
   },
   "outputs": [],
   "source": [
    "conv_filter_w1 = tf.Variable(tf.random_normal([3,3,1,10]))\n",
    "conv_filter_b1 = tf.Variable(tf.random_normal([10]))\n",
    "relu_feature_maps1 = tf.nn.relu(tf.nn.conv2d(tf_X, conv_filter_w1, strides=[1,1,1,1], padding='SAME') + conv_filter_b1)"
   ]
  },
  {
   "cell_type": "markdown",
   "metadata": {},
   "source": [
    "参数说明：\n",
    "\n",
    "- data_format：表示输入的格式，有两种分别为：“NHWC”和“NCHW”，默认为“NHWC”\n",
    "\n",
    "- input：输入是一个4维格式的（图像）数据，数据的 shape 由 data_format 决定：当 data_format 为“NHWC”输入数据的shape表示为[batch, in_height, in_width, in_channels]，分别表示训练时一个batch的图片数量、图片高度、 图片宽度、 图像通道数。当 data_format 为“NCHW”输入数据的shape表示为[batch, in_channels， in_height, in_width]\n",
    "\n",
    "- filter：卷积核是一个4维格式的数据：shape表示为：[height,width,in_channels, out_channels]，分别表示卷积核的高、宽、深度（与输入的in_channels应相同）、输出 feature map的个数（即卷积核的个数）。\n",
    "\n",
    "- strides：表示步长：一个长度为4的一维列表，每个元素跟data_format互相对应，表示在data_format每一维上的移动步长。当输入的默认格式为：“NHWC”，则 strides = [batch , in_height , in_width, in_channels]。其中 batch 和 in_channels 要求一定为1，即只能在一个样本的一个通道上的特征图上进行移动，in_height , in_width表示卷积核在特征图的高度和宽度上移动的布长，即 strideheight 和 stridewidth 。\n",
    "\n",
    "-padding：表示填充方式：“SAME”表示采用填充的方式，简单地理解为以0填充边缘，当stride为1时，输入和输出的维度相同；“VALID”表示采用不填充的方式，多余地进行丢弃。具体公式：\n",
    "\n",
    "“SAME”: output_spatial_shape[i] = input_spatial_shape[i] / strides[i]\n",
    "“VALID”: output_spatial_shape[i] = input_spatial_shape[i]−(spatial_filter_shape[i]−1)/strides[i]"
   ]
  },
  {
   "cell_type": "markdown",
   "metadata": {},
   "source": [
    "### 池化层"
   ]
  },
  {
   "cell_type": "code",
   "execution_count": 27,
   "metadata": {},
   "outputs": [
    {
     "name": "stdout",
     "output_type": "stream",
     "text": [
      "Tensor(\"MaxPool_1:0\", shape=(?, 4, 4, 10), dtype=float32)\n"
     ]
    }
   ],
   "source": [
    "max_pool1 = tf.nn.max_pool(relu_feature_maps1, ksize=[1,3,3,1], strides=[1,2,2,1], padding='SAME')\n",
    "\n",
    "print(max_pool1)"
   ]
  },
  {
   "cell_type": "markdown",
   "metadata": {},
   "source": [
    "- value：表示池化的输入：一个4维格式的数据，数据的 shape 由 data_format 决定，默认情况下shape 为[batch, height, width, channels]\n",
    "\n",
    "其他参数与 tf.nn.conv2d 类型\n",
    "\n",
    "- ksize：表示池化窗口的大小：一个长度为4的一维列表，一般为[1, height, width, 1]，若不想在batch和channels上做池化，则将其值设为1。"
   ]
  },
  {
   "cell_type": "markdown",
   "metadata": {},
   "source": [
    "### 卷积层 conv2"
   ]
  },
  {
   "cell_type": "code",
   "execution_count": 30,
   "metadata": {},
   "outputs": [
    {
     "name": "stdout",
     "output_type": "stream",
     "text": [
      "Tensor(\"add_1:0\", shape=(?, 4, 4, 5), dtype=float32)\n"
     ]
    }
   ],
   "source": [
    "conv_filter_w2 = tf.Variable(tf.random_normal([3,3,10,5]))\n",
    "conv_filter_b2 = tf.Variable(tf.random_normal([5]))\n",
    "conv_out2 = tf.nn.conv2d(relu_feature_maps1, conv_filter_w2, strides=[1,2,2,1], padding='SAME') + conv_filter_b2\n",
    "\n",
    "print(conv_out2)"
   ]
  },
  {
   "cell_type": "markdown",
   "metadata": {},
   "source": [
    "### BN归一化层 + 激活层"
   ]
  },
  {
   "cell_type": "code",
   "execution_count": 32,
   "metadata": {},
   "outputs": [
    {
     "name": "stdout",
     "output_type": "stream",
     "text": [
      "Tensor(\"batchnorm/add_1:0\", shape=(?, 4, 4, 5), dtype=float32)\n"
     ]
    }
   ],
   "source": [
    "batch_mean, batch_var = tf.nn.moments(conv_out2, [0,1,2], keep_dims=True)\n",
    "shift = tf.Variable(tf.zeros([5]))\n",
    "scale = tf.Variable(tf.ones([5]))\n",
    "epsilon = 1e-3\n",
    "BN_out = tf.nn.batch_normalization(conv_out2, batch_mean, batch_var, shift, scale, epsilon)\n",
    "\n",
    "print(BN_out)\n",
    "\n",
    "relu_BN_maps2 = tf.nn.relu(BN_out)"
   ]
  },
  {
   "cell_type": "markdown",
   "metadata": {},
   "source": [
    "参数说明：\n",
    "- mean 和 variance 通过 tf.nn.moments 来进行计算： \n",
    "batch_mean, batch_var = tf.nn.moments(x, axes = [0, 1, 2], keep_dims=True)，注意axes的输入。对于以feature map 为维度的全局归一化，若feature map 的shape 为[batch, height, width, depth]，则将axes赋值为[0, 1, 2]\n",
    "\n",
    "- x 为输入的feature map 四维数据，shift、scale为一维Tensor数据，shape 等于 feature map 的深度depth。\n"
   ]
  },
  {
   "cell_type": "markdown",
   "metadata": {},
   "source": [
    "### 池化层"
   ]
  },
  {
   "cell_type": "code",
   "execution_count": 33,
   "metadata": {},
   "outputs": [
    {
     "name": "stdout",
     "output_type": "stream",
     "text": [
      "Tensor(\"MaxPool_2:0\", shape=(?, 2, 2, 5), dtype=float32)\n"
     ]
    }
   ],
   "source": [
    "max_pool2 = tf.nn.max_pool(relu_BN_maps2, ksize=[1,3,3,1], strides=[1,2,2,1], padding='SAME')\n",
    "print(max_pool2)"
   ]
  },
  {
   "cell_type": "markdown",
   "metadata": {},
   "source": [
    "#### 将特征图进行展开"
   ]
  },
  {
   "cell_type": "code",
   "execution_count": 34,
   "metadata": {
    "collapsed": true
   },
   "outputs": [],
   "source": [
    "max_pool2_flat = tf.reshape(max_pool2, [-1, 2*2*5])"
   ]
  },
  {
   "cell_type": "markdown",
   "metadata": {},
   "source": [
    "### 全连接层"
   ]
  },
  {
   "cell_type": "code",
   "execution_count": 35,
   "metadata": {
    "collapsed": true
   },
   "outputs": [],
   "source": [
    "fc_w1 = tf.Variable(tf.random_normal([2*2*5, 50]))\n",
    "fc_b1 = tf.Variable(tf.random_normal([50]))\n",
    "fc_out1 = tf.nn.relu(tf.matmul(max_pool2_flat, fc_w1) + fc_b1)"
   ]
  },
  {
   "cell_type": "markdown",
   "metadata": {},
   "source": [
    "### 输出层"
   ]
  },
  {
   "cell_type": "code",
   "execution_count": 36,
   "metadata": {
    "collapsed": true
   },
   "outputs": [],
   "source": [
    "out_w1 = tf.Variable(tf.random_normal([50, 10]))\n",
    "out_b1 = tf.Variable(tf.random_normal([10]))\n",
    "pred = tf.nn.softmax(tf.matmul(fc_out1, out_w1) + out_b1)"
   ]
  },
  {
   "cell_type": "markdown",
   "metadata": {},
   "source": [
    "## 1.4 Start training"
   ]
  },
  {
   "cell_type": "code",
   "execution_count": 82,
   "metadata": {},
   "outputs": [
    {
     "name": "stdout",
     "output_type": "stream",
     "text": [
      "0 0.249861\n",
      "1 0.398998\n",
      "2 0.486923\n",
      "3 0.462437\n",
      "4 0.553701\n",
      "5 0.604341\n",
      "6 0.57429\n",
      "7 0.630495\n",
      "8 0.686144\n",
      "9 0.722871\n",
      "10 0.749583\n",
      "11 0.764051\n",
      "12 0.784641\n",
      "13 0.797997\n",
      "14 0.811909\n",
      "15 0.821369\n",
      "16 0.833055\n",
      "17 0.848637\n",
      "18 0.859766\n",
      "19 0.867557\n",
      "20 0.873678\n",
      "21 0.882582\n",
      "22 0.88759\n",
      "23 0.88926\n",
      "24 0.898164\n",
      "25 0.905398\n",
      "26 0.907067\n",
      "27 0.911519\n",
      "28 0.913745\n",
      "29 0.920423\n",
      "30 0.922649\n",
      "31 0.928214\n",
      "32 0.932666\n",
      "33 0.930996\n",
      "34 0.933779\n",
      "35 0.937674\n",
      "36 0.93823\n",
      "37 0.940456\n",
      "38 0.939343\n",
      "39 0.944908\n",
      "40 0.944908\n",
      "41 0.944908\n",
      "42 0.947691\n",
      "43 0.950473\n",
      "44 0.951029\n",
      "45 0.952699\n",
      "46 0.952699\n",
      "47 0.951586\n",
      "48 0.952699\n",
      "49 0.954368\n",
      "50 0.955481\n",
      "51 0.955481\n",
      "52 0.954925\n",
      "53 0.958264\n",
      "54 0.957151\n",
      "55 0.958264\n",
      "56 0.95882\n",
      "57 0.961046\n",
      "58 0.964385\n",
      "59 0.963272\n",
      "60 0.966611\n",
      "61 0.96995\n",
      "62 0.970506\n",
      "63 0.972732\n",
      "64 0.973845\n",
      "65 0.974402\n",
      "66 0.977184\n",
      "67 0.977184\n",
      "68 0.978297\n",
      "69 0.979967\n",
      "70 0.981636\n",
      "71 0.97941\n",
      "72 0.981636\n",
      "73 0.979967\n",
      "74 0.982749\n",
      "75 0.982193\n",
      "76 0.98108\n",
      "77 0.982749\n",
      "78 0.983306\n",
      "79 0.982749\n",
      "80 0.982749\n",
      "81 0.983306\n",
      "82 0.983306\n",
      "83 0.984418\n",
      "84 0.984975\n",
      "85 0.984418\n",
      "86 0.987201\n",
      "87 0.987757\n",
      "88 0.984975\n",
      "89 0.987201\n",
      "90 0.988314\n",
      "91 0.986644\n",
      "92 0.986644\n",
      "93 0.989983\n",
      "94 0.992209\n",
      "95 0.993322\n",
      "96 0.992209\n",
      "97 0.993322\n",
      "98 0.994435\n",
      "99 0.993879\n",
      "[0 1 2 ..., 8 9 8]\n",
      "Wall time: 1min 18s\n"
     ]
    }
   ],
   "source": [
    "%%time\n",
    "\n",
    "loss = -tf.reduce_mean(tf_Y * tf.log(tf.clip_by_value(pred, 1e-11, 1.0)))\n",
    "\n",
    "# Adam优化算法：是一个寻找全局最优点的优化算法，引入了二次方梯度校正\n",
    "# 相比于基础SGD算法，1.不容易陷于局部优点。2.速度更快\n",
    "train_step = tf.train.AdamOptimizer(1e-3).minimize(loss)\n",
    "\n",
    "y_pred = tf.arg_max(pred, 1)\n",
    "bool_pred = tf.equal(tf.arg_max(tf_Y, 1), y_pred)\n",
    "\n",
    "accuracy = tf.reduce_mean(tf.cast(bool_pred, tf.float32))  # 准确率\n",
    "\n",
    "y = np.random.randn(100)\n",
    "with tf.Session() as sess:\n",
    "    sess.run(tf.global_variables_initializer())\n",
    "    for epoch in range(100):  # 迭代100个周期\n",
    "        for batch_xs, batch_ys in generatebatch(X, Y, Y.shape[0], batch_size):  # 每个周期进行MBGD算法\n",
    "            sess.run(train_step, feed_dict={tf_X: batch_xs, tf_Y: batch_ys})\n",
    "        res = sess.run(accuracy, feed_dict={tf_X: X, tf_Y: Y})\n",
    "        y[epoch] = res\n",
    "        print(epoch, res)\n",
    "    res_ypred = y_pred.eval(feed_dict={tf_X: X, tf_Y: Y}).flatten()  # 只能预测一批样本，不能预测一个样本\n",
    "    print(res_ypred)"
   ]
  },
  {
   "cell_type": "code",
   "execution_count": 83,
   "metadata": {},
   "outputs": [
    {
     "data": {
      "image/png": "[encoded data removed]",
      "text/plain": [
       "<matplotlib.figure.Figure at 0x238dfe8c860>"
      ]
     },
     "execution_count": 83,
     "metadata": {},
     "output_type": "execute_result"
    }
   ],
   "source": [
    "import matplotlib.pyplot as plt\n",
    "plt.rcParams['font.sans-serif']=['SimHei']\n",
    "\n",
    "x = np.linspace(0,99,100)\n",
    "xi = np.linspace(0,100,11)\n",
    "yi = np.linspace(0,1,11)\n",
    "\n",
    "fig, ax = plt.subplots(figsize=(10,6))\n",
    "\n",
    "ax.set_title('迭代曲线')\n",
    "ax.set_xlabel('迭代次数')\n",
    "ax.set_ylabel('准确率')\n",
    "ax.set_xticks(xi)\n",
    "ax.set_yticks(yi)\n",
    "ax.set_xlim(0,100)\n",
    "ax.set_ylim(0,1)\n",
    "ax.grid(True)\n",
    "\n",
    "ax.plot(x, y)\n",
    "fig"
   ]
  },
  {
   "cell_type": "code",
   "execution_count": null,
   "metadata": {
    "collapsed": true
   },
   "outputs": [],
   "source": []
  }
 ],
 "metadata": {
  "kernelspec": {
   "display_name": "Python 3",
   "language": "python",
   "name": "python3"
  },
  "language_info": {
   "codemirror_mode": {
    "name": "ipython",
    "version": 3
   },
   "file_extension": ".py",
   "mimetype": "text/x-python",
   "name": "python",
   "nbconvert_exporter": "python",
   "pygments_lexer": "ipython3",
   "version": "3.6.1"
  }
 },
 "nbformat": 4,
 "nbformat_minor": 2
}
