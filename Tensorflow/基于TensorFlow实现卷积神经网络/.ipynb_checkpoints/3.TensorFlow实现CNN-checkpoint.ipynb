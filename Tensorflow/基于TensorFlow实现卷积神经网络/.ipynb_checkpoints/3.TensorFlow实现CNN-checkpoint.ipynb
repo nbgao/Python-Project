{
 "cells": [
  {
   "cell_type": "markdown",
   "metadata": {},
   "source": [
    "# 1. Build CNN"
   ]
  },
  {
   "cell_type": "markdown",
   "metadata": {},
   "source": [
    "## 1.1 Preparing"
   ]
  },
  {
   "cell_type": "code",
   "execution_count": 1,
   "metadata": {
    "collapsed": true
   },
   "outputs": [],
   "source": [
    "import numpy as np\n",
    "import tensorflow as tf"
   ]
  },
  {
   "cell_type": "markdown",
   "metadata": {},
   "source": [
    "## 1.2 Data preprocessing"
   ]
  },
  {
   "cell_type": "code",
   "execution_count": 5,
   "metadata": {},
   "outputs": [
    {
     "name": "stdout",
     "output_type": "stream",
     "text": [
      "(1797, 64)\n",
      "(1797, 1)\n"
     ]
    }
   ],
   "source": [
    "# 导入手写数字数据集\n",
    "from sklearn.datasets import load_digits\n",
    "\n",
    "# 数据预处理\n",
    "digits = load_digits()\n",
    "\n",
    "X_data = digits.data.astype(np.float32)\n",
    "Y_data = digits.target.astype(np.float32).reshape(-1,1)\n",
    "print(X_data.shape)\n",
    "print(Y_data.shape)"
   ]
  },
  {
   "cell_type": "code",
   "execution_count": 11,
   "metadata": {},
   "outputs": [
    {
     "name": "stdout",
     "output_type": "stream",
     "text": [
      "标准化后的数据:\n",
      " [[ 0.      0.      0.3125 ...,  0.      0.      0.    ]\n",
      " [ 0.      0.      0.     ...,  0.625   0.      0.    ]\n",
      " [ 0.      0.      0.     ...,  1.      0.5625  0.    ]\n",
      " ..., \n",
      " [ 0.      0.      0.0625 ...,  0.375   0.      0.    ]\n",
      " [ 0.      0.      0.125  ...,  0.75    0.      0.    ]\n",
      " [ 0.      0.      0.625  ...,  0.75    0.0625  0.    ]]\n",
      "\n",
      "One-Hot独热编码:\n",
      " [[ 1.  0.  0. ...,  0.  0.  0.]\n",
      " [ 0.  1.  0. ...,  0.  0.  0.]\n",
      " [ 0.  0.  1. ...,  0.  0.  0.]\n",
      " ..., \n",
      " [ 0.  0.  0. ...,  0.  1.  0.]\n",
      " [ 0.  0.  0. ...,  0.  0.  1.]\n",
      " [ 0.  0.  0. ...,  0.  1.  0.]]\n"
     ]
    }
   ],
   "source": [
    "'''\n",
    "数据的标准化（normalization）是将数据按比例缩放，\n",
    "使之落入一个小的特定区间。这样去除数据的单位限制，\n",
    "将其转化为无量纲的纯数值，便于不同单位或量级的指标能够进行比较和加权。\n",
    "'''\n",
    "from sklearn.preprocessing import MinMaxScaler\n",
    "scaler = MinMaxScaler()\n",
    "X_data = scaler.fit_transform(X_data)\n",
    "print('标准化后的数据:\\n', X_data)\n",
    "\n",
    "from sklearn.preprocessing import OneHotEncoder\n",
    "Y = OneHotEncoder().fit_transform(Y_data).todense()  # one-hot 独热编码\n",
    "print('\\nOne-Hot独热编码:\\n', Y)"
   ]
  },
  {
   "cell_type": "code",
   "execution_count": 12,
   "metadata": {
    "collapsed": true
   },
   "outputs": [],
   "source": [
    "# 转换为图片的格式(batch, height, width, channels)\n",
    "X = X_data.reshape(-1,8,8,1)\n",
    "\n",
    "batch_size = 8  # 使用MBGD算法，设定batch_size为8\n",
    "\n",
    "def generatebatch(X, Y, n_examples, batch_size):\n",
    "    for batch_i in range(n_examples // batch_size):\n",
    "        start = batch_i*batch_size\n",
    "        end = start + batch_size\n",
    "        batch_xs = X[start:end]\n",
    "        batch_ys = Y[start:end]\n",
    "        yield batch_xs, batch_ys  # 生成每一个batch"
   ]
  },
  {
   "cell_type": "code",
   "execution_count": 15,
   "metadata": {
    "collapsed": true
   },
   "outputs": [],
   "source": [
    "# 清除默认图的堆栈，并设置全图为默认图\n",
    "tf.reset_default_graph()"
   ]
  },
  {
   "cell_type": "markdown",
   "metadata": {},
   "source": [
    "## 1.3 layer实现"
   ]
  },
  {
   "cell_type": "markdown",
   "metadata": {},
   "source": [
    "### 输入层"
   ]
  },
  {
   "cell_type": "code",
   "execution_count": null,
   "metadata": {
    "collapsed": true
   },
   "outputs": [],
   "source": []
  }
 ],
 "metadata": {
  "kernelspec": {
   "display_name": "Python 3",
   "language": "python",
   "name": "python3"
  },
  "language_info": {
   "codemirror_mode": {
    "name": "ipython",
    "version": 3
   },
   "file_extension": ".py",
   "mimetype": "text/x-python",
   "name": "python",
   "nbconvert_exporter": "python",
   "pygments_lexer": "ipython3",
   "version": "3.6.1"
  }
 },
 "nbformat": 4,
 "nbformat_minor": 2
}
