{
 "cells": [
  {
   "cell_type": "markdown",
   "metadata": {
    "collapsed": true
   },
   "source": [
    "## Recurrent Neural Network"
   ]
  },
  {
   "cell_type": "markdown",
   "metadata": {},
   "source": [
    "### $ h_t=f_W\\left( h_{t-1},x_t \\right) $\n",
    "* $h_t$: new state\n",
    "* $f_W$: some function with parameters W\n",
    "* $h_{t-1}$: old state\n",
    "* $x_t$: input vector at some time step\n",
    "\n",
    "### $ h_t=tanh(W_{hh} h_{t-1}+W_{xh} x_t) $\n",
    "### $ y_t=W_{hy}h_t$\n",
    "Given list of word vectors: \n",
    "#### $ x_1,\\cdots,x_{t-1},x_t,x_{t+1},\\cdots, x_T $ <br>\n",
    "At a single time step:\n",
    "#### $ h_t = \\sigma(W^{(hh)}h_{t-1}+W^{(hx)}x_t)$\n",
    "#### $ \\hat{y}_t = softmax(W^{(S)}h_t)$\n",
    "#### $ \\hat{P}(x_{t+1}=v_j  \\big|  x_t,\\cdots,x_1) = \\hat{y}_{t,j}$"
   ]
  },
  {
   "cell_type": "markdown",
   "metadata": {},
   "source": [
    "### RNN applications\n",
    "* Language Modeling\n",
    "* Speech Recognition\n",
    "* Machine Translation\n",
    "* Conversation Modeling / Question Answering\n",
    "* Image/Video Caption\n",
    "* Image/Music/Dance Generation"
   ]
  },
  {
   "cell_type": "markdown",
   "metadata": {},
   "source": [
    "### RNN model\n",
    "* **one to one** <br>\n",
    "o<br>\n",
    "$\\uparrow$<br>\n",
    "o<br>\n",
    "$\\uparrow$<br>\n",
    "o<br>\n",
    "_**Vanilla Neural Networks**_\n",
    "\n",
    "\n",
    "* **one to many** <br>\n",
    "o&emsp; o&emsp;o<br>\n",
    "$\\uparrow$&emsp;$\\uparrow$&emsp;$\\uparrow$<br>\n",
    "o$\\rightarrow$o$\\rightarrow$o<br>\n",
    "$\\uparrow$<br>\n",
    "o<br>\n",
    "_**Image Caption(image -> sequence of words)**_\n",
    "\n",
    "\n",
    "* **many to one** <br>\n",
    "&emsp;&emsp;&emsp; o<br>\n",
    "&emsp;&emsp;&emsp; $\\uparrow$<br>\n",
    "o$\\rightarrow$o$\\rightarrow$o<br>\n",
    "$\\uparrow$&emsp;$\\uparrow$&emsp;$\\uparrow$<br>\n",
    "o&emsp; o&emsp;o<br>\n",
    "_**Sentiment Classification(sequence of word -> sentiment)**_\n",
    "\n",
    "\n",
    "* **many to many** <br>\n",
    "&emsp;&emsp;&emsp; o&emsp; o&emsp;o<br>\n",
    "&emsp;&emsp;&emsp; $\\uparrow$&emsp;$\\uparrow$&emsp;$\\uparrow$<br>\n",
    "o$\\rightarrow$o$\\rightarrow$o$\\rightarrow$o$\\rightarrow$o<br>\n",
    "$\\uparrow$&emsp;$\\uparrow$&emsp;$\\uparrow$<br>\n",
    "o&emsp; o&emsp;o<br>\n",
    "_**Machine Translation(seq of words -> seq of words)**_\n",
    "\n",
    "\n",
    "* **many to many** <br>\n",
    "o&emsp; o&emsp;o<br>\n",
    "$\\uparrow$&emsp;$\\uparrow$&emsp;$\\uparrow$<br>\n",
    "o$\\rightarrow$o$\\rightarrow$o<br>\n",
    "$\\uparrow$&emsp;$\\uparrow$&emsp;$\\uparrow$<br>\n",
    "o&emsp; o&emsp;o<br>\n",
    "_**Viedeo Classification on frame level**_<br>"
   ]
  },
  {
   "cell_type": "code",
   "execution_count": null,
   "metadata": {
    "collapsed": true
   },
   "outputs": [],
   "source": []
  }
 ],
 "metadata": {
  "kernelspec": {
   "display_name": "Python 3",
   "language": "python",
   "name": "python3"
  },
  "language_info": {
   "codemirror_mode": {
    "name": "ipython",
    "version": 3
   },
   "file_extension": ".py",
   "mimetype": "text/x-python",
   "name": "python",
   "nbconvert_exporter": "python",
   "pygments_lexer": "ipython3",
   "version": "3.6.3"
  }
 },
 "nbformat": 4,
 "nbformat_minor": 2
}
