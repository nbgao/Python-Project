{
 "cells": [
  {
   "cell_type": "code",
   "execution_count": 12,
   "metadata": {},
   "outputs": [
    {
     "name": "stdout",
     "output_type": "stream",
     "text": [
      "[[ 0.07129306]]\n"
     ]
    }
   ],
   "source": [
    "import tensorflow as tf\n",
    "\n",
    "w1 = tf.Variable(tf.random_normal([2, 3], stddev=1))\n",
    "w2 = tf.Variable(tf.random_normal([3, 1], stddev=1))\n",
    "\n",
    "x1 = tf.placeholder(tf.float32, shape=(1,2), name=\"input\")\n",
    "a1 = tf.matmul(x1, w1)\n",
    "y1 = tf.matmul(a1, w2)\n",
    "\n",
    "sess = tf.Session()\n",
    "init_op = tf.global_variables_initializer()\n",
    "sess.run(init_op)\n",
    "\n",
    "# 下一行报错\n",
    "# print(sess.run(y))\n",
    "\n",
    "print(sess.run(y1, feed_dict={x1: [[0.7, 0.9]]}))"
   ]
  },
  {
   "cell_type": "code",
   "execution_count": 13,
   "metadata": {},
   "outputs": [
    {
     "name": "stdout",
     "output_type": "stream",
     "text": [
      "[[-1.95879424]\n",
      " [-0.34410524]\n",
      " [-1.43635201]]\n"
     ]
    }
   ],
   "source": [
    "x2 = tf.placeholder(tf.float32, shape=(3,2), name=\"input\")\n",
    "a2 = tf.matmul(x2, w1)\n",
    "y2 = tf.matmul(a2, w2)\n",
    "\n",
    "sess = tf.Session()\n",
    "init_op = tf.global_variables_initializer()\n",
    "sess.run(init_op)\n",
    "\n",
    "print(sess.run(y2, feed_dict={x2: [[0.7, 0.9], [0.1, 0.4], [0.5, 0.8]]}))"
   ]
  },
  {
   "cell_type": "code",
   "execution_count": 23,
   "metadata": {},
   "outputs": [],
   "source": [
    "# 定义损失函数来刻画预测值与真实值的差距\n",
    "cross_entropy = - tf.reduce_mean(y2 * tf.log(tf.clip_by_value(y2, 1e-10, 1.0)))\n",
    "# 定义学习率\n",
    "learning_rate = 0.001\n",
    "# 定义反向传播算法来优化神经网络中的参数\n",
    "train_step = tf.train.AdamOptimizer(learning_rate).minimize(cross_entropy)"
   ]
  }
 ],
 "metadata": {
  "kernelspec": {
   "display_name": "Python 3",
   "language": "python",
   "name": "python3"
  },
  "language_info": {
   "codemirror_mode": {
    "name": "ipython",
    "version": 3
   },
   "file_extension": ".py",
   "mimetype": "text/x-python",
   "name": "python",
   "nbconvert_exporter": "python",
   "pygments_lexer": "ipython3",
   "version": "3.6.1"
  }
 },
 "nbformat": 4,
 "nbformat_minor": 2
}
