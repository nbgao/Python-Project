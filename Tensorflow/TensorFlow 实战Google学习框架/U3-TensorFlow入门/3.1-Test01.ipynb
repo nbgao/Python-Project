{
 "cells": [
  {
   "cell_type": "code",
   "execution_count": 1,
   "metadata": {},
   "outputs": [
    {
     "name": "stdout",
     "output_type": "stream",
     "text": [
      "True\n"
     ]
    }
   ],
   "source": [
    "import tensorflow as tf\n",
    "\n",
    "a = tf.constant([1.0, 2.0], name = \"a\")\n",
    "b = tf.constant([2.0, 3.0], name = \"b\")\n",
    "result = a + b\n",
    "sess = tf.Session()\n",
    "sess.run(result)\n",
    "\n",
    "# 获取当前默认的计算图\n",
    "print(a.graph is tf.get_default_graph())"
   ]
  }
 ],
 "metadata": {
  "kernelspec": {
   "display_name": "Python 3",
   "language": "python",
   "name": "python3"
  },
  "language_info": {
   "codemirror_mode": {
    "name": "ipython",
    "version": 3
   },
   "file_extension": ".py",
   "mimetype": "text/x-python",
   "name": "python",
   "nbconvert_exporter": "python",
   "pygments_lexer": "ipython3",
   "version": "3.6.1"
  }
 },
 "nbformat": 4,
 "nbformat_minor": 2
}
