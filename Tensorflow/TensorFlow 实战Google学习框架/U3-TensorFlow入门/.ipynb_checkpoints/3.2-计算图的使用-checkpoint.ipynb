{
 "cells": [
  {
   "cell_type": "code",
   "execution_count": 1,
   "metadata": {},
   "outputs": [
    {
     "name": "stdout",
     "output_type": "stream",
     "text": [
      "WARNING:tensorflow:From D:\\Program Soft\\Anaconda\\Anaconda3\\lib\\site-packages\\tensorflow\\python\\util\\tf_should_use.py:170: initialize_all_variables (from tensorflow.python.ops.variables) is deprecated and will be removed after 2017-03-02.\n",
      "Instructions for updating:\n",
      "Use `tf.global_variables_initializer` instead.\n",
      "[ 0.]\n",
      "WARNING:tensorflow:From D:\\Program Soft\\Anaconda\\Anaconda3\\lib\\site-packages\\tensorflow\\python\\util\\tf_should_use.py:170: initialize_all_variables (from tensorflow.python.ops.variables) is deprecated and will be removed after 2017-03-02.\n",
      "Instructions for updating:\n",
      "Use `tf.global_variables_initializer` instead.\n",
      "[ 1.]\n"
     ]
    }
   ],
   "source": [
    "import tensorflow as tf\n",
    "\n",
    "g1 = tf.Graph()\n",
    "with g1.as_default():\n",
    "    # 在计算图gl中定义变量\"v\"，并设置初始值为0\n",
    "    v = tf.get_variable(\"v\", shape=[1], initializer = tf.zeros_initializer())\n",
    "    \n",
    "g2 = tf.Graph()\n",
    "with g2.as_default():\n",
    "    # 在计算图gl中定义变量\"v\"，并设置初始值为1\n",
    "    v = tf.get_variable(\"v\", shape=[1], initializer = tf.ones_initializer())\n",
    "    \n",
    "# 在计算图g1中读取变量\"v\"的取值\n",
    "with tf.Session(graph=g1) as sess:\n",
    "    tf.initialize_all_variables().run()\n",
    "    with tf.variable_scope(\"\", reuse = True):\n",
    "        # 在计算图g1中，变量\"v\"的取值应该为0，所以下面这行会输出[0.]\n",
    "        print(sess.run(tf.get_variable(\"v\")))\n",
    "        \n",
    "# 在计算图g2中读取变量\"v\"的取值\n",
    "with tf.Session(graph=g2) as sess:\n",
    "    tf.initialize_all_variables().run()\n",
    "    with tf.variable_scope(\"\", reuse=True):\n",
    "        # 在计算图g1中，变量\"v\"的取值应该为0，所以下面这行会输出[1.]\n",
    "        print(sess.run(tf.get_variable(\"v\")))\n",
    "        "
   ]
  },
  {
   "cell_type": "code",
   "execution_count": 2,
   "metadata": {},
   "outputs": [
    {
     "name": "stdout",
     "output_type": "stream",
     "text": [
      "True\n"
     ]
    }
   ],
   "source": [
    "''' 加法计算跑在GPU上 '''\n",
    "g = tf.Graph()\n",
    "a = tf.constant([1.0, 2.0], name = \"a\")\n",
    "b = tf.constant([2.0, 3.0], name = \"b\")\n",
    "\n",
    "# 获取当前默认的计算图\n",
    "print(a.graph is tf.get_default_graph())\n",
    "# 制定计算运行的设备\n",
    "with g.device('/gpu:0'):\n",
    "    result = a + b"
   ]
  }
 ],
 "metadata": {
  "kernelspec": {
   "display_name": "Python 3",
   "language": "python",
   "name": "python3"
  },
  "language_info": {
   "codemirror_mode": {
    "name": "ipython",
    "version": 3
   },
   "file_extension": ".py",
   "mimetype": "text/x-python",
   "name": "python",
   "nbconvert_exporter": "python",
   "pygments_lexer": "ipython3",
   "version": "3.6.1"
  }
 },
 "nbformat": 4,
 "nbformat_minor": 2
}
