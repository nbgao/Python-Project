{
 "cells": [
  {
   "cell_type": "code",
   "execution_count": 6,
   "metadata": {},
   "outputs": [
    {
     "name": "stdout",
     "output_type": "stream",
     "text": [
      "Initail w1:\n",
      " [[-0.81131822  1.48459876  0.06532937]\n",
      " [-2.4427042   0.0992484   0.59122431]]\n",
      "Initail w2:\n",
      " [[-0.81131822]\n",
      " [ 1.48459876]\n",
      " [ 0.06532937]]\n",
      "After 0 training steps, cross_entropy on all data is 0.0674925\n",
      "After 500 training steps, cross_entropy on all data is 0.0271219\n",
      "After 1000 training steps, cross_entropy on all data is 0.0163385\n",
      "After 1500 training steps, cross_entropy on all data is 0.0115551\n",
      "After 2000 training steps, cross_entropy on all data is 0.00907547\n",
      "After 2500 training steps, cross_entropy on all data is 0.00773293\n",
      "After 3000 training steps, cross_entropy on all data is 0.00714436\n",
      "After 3500 training steps, cross_entropy on all data is 0.00648791\n",
      "After 4000 training steps, cross_entropy on all data is 0.00578471\n",
      "After 4500 training steps, cross_entropy on all data is 0.00505237\n",
      "After training w1:\n",
      "  [[-1.96182752  2.58235407  1.68203771]\n",
      " [-3.46817183  1.06982315  2.11788988]]\n",
      "After training w2:\n",
      " [[-1.82471502]\n",
      " [ 2.68546653]\n",
      " [ 1.41819501]]\n"
     ]
    }
   ],
   "source": [
    "import tensorflow as tf\n",
    "from numpy.random import RandomState\n",
    "\n",
    "# 定义训练数据batch大小\n",
    "batch_size = 8\n",
    "\n",
    "# 定义神经网络的参数\n",
    "w1 = tf.Variable(tf.random_normal([2,3], stddev=1, seed=1))\n",
    "w2 = tf.Variable(tf.random_normal([3,1], stddev=1, seed=1))\n",
    "\n",
    "x = tf.placeholder(tf.float32, shape=(None,2), name='x-input')\n",
    "y_ = tf.placeholder(tf.float32, shape=(None,1), name='y-input')\n",
    "\n",
    "# 定义神经网络前向传播过程\n",
    "a = tf.matmul(x, w1)\n",
    "y = tf.matmul(a, w2)\n",
    "\n",
    "#定义损失函数和反向传播的算法\n",
    "cross_entropy = -tf.reduce_mean(y_ * tf.log(tf.clip_by_value(y, 1e-10, 1.0)))\n",
    "train_step = tf.train.AdamOptimizer(0.001).minimize(cross_entropy)\n",
    "\n",
    "# 通过随机数生成一个模拟数据集\n",
    "rdm = RandomState(1)\n",
    "dataset_size = 128\n",
    "X = rdm.rand(dataset_size, 2)\n",
    "\n",
    "# 定义 x1+x2 < 1 的样例为正样本\n",
    "Y = [[int(x1+x1<1)] for (x1,x2) in X]\n",
    "\n",
    "# 创建一个会话来运行Tensorflow程序\n",
    "with tf.Session() as sess:\n",
    "    init_op = tf.global_variables_initializer()\n",
    "    # 初始化变量\n",
    "    sess.run(init_op)\n",
    "    print(\"Initail w1:\\n\", sess.run(w1))\n",
    "    print(\"Initail w2:\\n\", sess.run(w2))\n",
    "    \n",
    "    # 设定训练的轮数\n",
    "    STEPS = 5000\n",
    "    for i in range(STEPS):\n",
    "        # 每次选 batch_size 个样本进行训练\n",
    "        start = (i*batch_size) % dataset_size\n",
    "        end = min(start+batch_size, dataset_size)\n",
    "        \n",
    "        # 通过选取的样本训练神经网络并更新参数\n",
    "        sess.run(train_step, feed_dict={x: X[start:end], y_: Y[start:end]})\n",
    "        if i%500 == 0:\n",
    "            # 每隔一段时间计算所有数据上的交叉熵并输出\n",
    "            total_cross_entropy = sess.run(cross_entropy, feed_dict={x: X, y_: Y})\n",
    "            print(\"After %d training steps, cross_entropy on all data is %g\" % (i, total_cross_entropy))\n",
    "        \n",
    "    print(\"After training w1:\\n \", sess.run(w1))\n",
    "    print(\"After training w2:\\n\", sess.run(w2))"
   ]
  }
 ],
 "metadata": {
  "kernelspec": {
   "display_name": "Python 3",
   "language": "python",
   "name": "python3"
  },
  "language_info": {
   "codemirror_mode": {
    "name": "ipython",
    "version": 3
   },
   "file_extension": ".py",
   "mimetype": "text/x-python",
   "name": "python",
   "nbconvert_exporter": "python",
   "pygments_lexer": "ipython3",
   "version": "3.6.1"
  }
 },
 "nbformat": 4,
 "nbformat_minor": 2
}
