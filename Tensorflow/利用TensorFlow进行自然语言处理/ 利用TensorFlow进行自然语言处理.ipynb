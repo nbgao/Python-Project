{
 "cells": [
  {
   "cell_type": "markdown",
   "metadata": {},
   "source": [
    "# 1. 定义输入数据并预处理数据"
   ]
  },
  {
   "cell_type": "code",
   "execution_count": 1,
   "metadata": {},
   "outputs": [
    {
     "name": "stderr",
     "output_type": "stream",
     "text": [
      "D:\\Program Soft\\Anaconda\\Anaconda3\\lib\\site-packages\\h5py\\__init__.py:34: FutureWarning: Conversion of the second argument of issubdtype from `float` to `np.floating` is deprecated. In future, it will be treated as `np.float64 == np.dtype(float).type`.\n",
      "  from ._conv import register_converters as _register_converters\n"
     ]
    },
    {
     "name": "stdout",
     "output_type": "stream",
     "text": [
      "curses is not supported on this machine (please install/reinstall curses for an optimal experience)\n"
     ]
    }
   ],
   "source": [
    "import os\n",
    "import tflearn\n",
    "import speech_data as data\n",
    "import tensorflow as tf"
   ]
  },
  {
   "cell_type": "code",
   "execution_count": 2,
   "metadata": {},
   "outputs": [
    {
     "name": "stdout",
     "output_type": "stream",
     "text": [
      "Tensorflow Version:1.6.0\n",
      "Looking for data spoken_numbers_spectros_64x64.tar in data/\n",
      "Extracting data/spoken_numbers_spectros_64x64.tar to data/\n",
      "Data ready!\n",
      "Looking for data spoken_numbers_pcm.tar in data/\n",
      "Extracting data/spoken_numbers_pcm.tar to data/\n",
      "Data ready!\n",
      "15  speakers:  ['Steffi', 'Victoria', 'Ralph', 'Tom', 'Alex', 'Albert', 'Daniel', 'Fred', 'Junior', 'Vicki', 'Princess', 'Bruce', 'Samantha', 'Kathy', 'Agnes']\n",
      "speakers ['Steffi', 'Victoria', 'Ralph', 'Tom', 'Alex', 'Albert', 'Daniel', 'Fred', 'Junior', 'Vicki', 'Princess', 'Bruce', 'Samantha', 'Kathy', 'Agnes']\n"
     ]
    }
   ],
   "source": [
    "print(\"Tensorflow Version:\" + tf.__version__)\n",
    "\n",
    "speakers = data.get_speakers()\n",
    "number_classes = len(speakers)\n",
    "print(\"speakers\", speakers)"
   ]
  },
  {
   "cell_type": "code",
   "execution_count": 3,
   "metadata": {},
   "outputs": [
    {
     "name": "stdout",
     "output_type": "stream",
     "text": [
      "Looking for data spoken_numbers_pcm.tar in data/\n",
      "Extracting data/spoken_numbers_pcm.tar to data/\n",
      "Data ready!\n",
      "Looking for data spoken_numbers_spectros_64x64.tar in data/\n",
      "Extracting data/spoken_numbers_spectros_64x64.tar to data/\n",
      "Data ready!\n",
      "Looking for data spoken_numbers_pcm.tar in data/\n",
      "Extracting data/spoken_numbers_pcm.tar to data/\n",
      "Data ready!\n",
      "15  speakers:  ['Steffi', 'Victoria', 'Ralph', 'Tom', 'Alex', 'Albert', 'Daniel', 'Fred', 'Junior', 'Vicki', 'Princess', 'Bruce', 'Samantha', 'Kathy', 'Agnes']\n",
      "loaded batch of 2402 files\n"
     ]
    }
   ],
   "source": [
    "batch = data.wave_batch_generator(batch_size=1000, source=data.Source.DIGIT_WAVES,target=data.Target.speaker)\n",
    "X, Y = next(batch)"
   ]
  },
  {
   "cell_type": "markdown",
   "metadata": {},
   "source": [
    "# 2. 生成模型\n",
    "## 2.1 定义网络模型"
   ]
  },
  {
   "cell_type": "code",
   "execution_count": 4,
   "metadata": {},
   "outputs": [
    {
     "data": {
      "text/plain": [
       "intra_op_parallelism_threads: 8\n",
       "inter_op_parallelism_threads: 8\n",
       "gpu_options {\n",
       "  per_process_gpu_memory_fraction: 0.5\n",
       "}\n",
       "allow_soft_placement: true"
      ]
     },
     "execution_count": 4,
     "metadata": {},
     "output_type": "execute_result"
    }
   ],
   "source": [
    "tflearn.init_graph(num_cores=8, gpu_memory_fraction=0.5)"
   ]
  },
  {
   "cell_type": "code",
   "execution_count": 5,
   "metadata": {},
   "outputs": [
    {
     "name": "stdout",
     "output_type": "stream",
     "text": [
      "WARNING:tensorflow:From D:\\Program Soft\\Anaconda\\Anaconda3\\lib\\site-packages\\tflearn\\objectives.py:66: calling reduce_sum (from tensorflow.python.ops.math_ops) with keep_dims is deprecated and will be removed in a future version.\n",
      "Instructions for updating:\n",
      "keep_dims is deprecated, use keepdims instead\n"
     ]
    }
   ],
   "source": [
    "net = tflearn.input_data(shape=[None, 8192])\n",
    "net = tflearn.fully_connected(net, 64)\n",
    "net = tflearn.dropout(net, 0.5)\n",
    "net = tflearn.fully_connected(net, number_classes, activation='softmax')\n",
    "net = tflearn.regression(net, optimizer='adam', loss='categorical_crossentropy')"
   ]
  },
  {
   "cell_type": "markdown",
   "metadata": {},
   "source": [
    "# 2.2 训练模型"
   ]
  },
  {
   "cell_type": "code",
   "execution_count": 12,
   "metadata": {},
   "outputs": [
    {
     "name": "stdout",
     "output_type": "stream",
     "text": [
      "Training Step: 2559  | total loss: \u001b[1m\u001b[32m0.12627\u001b[0m\u001b[0m | time: 0.491s\n",
      "| Adam | epoch: 160 | loss: 0.12627 - acc: 0.9910 -- iter: 0960/1000\n",
      "Training Step: 2560  | total loss: \u001b[1m\u001b[32m0.11623\u001b[0m\u001b[0m | time: 0.511s\n",
      "| Adam | epoch: 160 | loss: 0.11623 - acc: 0.9919 -- iter: 1000/1000\n",
      "--\n"
     ]
    }
   ],
   "source": [
    "model = tflearn.DNN(net)\n",
    "model.fit(X, Y, n_epoch=160, show_metric=True, snapshot_step=100)"
   ]
  },
  {
   "cell_type": "markdown",
   "metadata": {},
   "source": [
    "# 3. 预测模型"
   ]
  },
  {
   "cell_type": "code",
   "execution_count": 13,
   "metadata": {},
   "outputs": [
    {
     "name": "stdout",
     "output_type": "stream",
     "text": [
      "Predicted speaker for 5_Vicki_260.wav : result = Steffi \n"
     ]
    }
   ],
   "source": [
    "demo_file = '5_Vicki_260.wav'\n",
    "demo = data.load_wav_file(data.path + demo_file)\n",
    "\n",
    "result = model.predict([demo])\n",
    "result = data.one_hot_to_item(result, speakers)\n",
    "print('Predicted speaker for %s : result = %s '%(demo_file, result))"
   ]
  }
 ],
 "metadata": {
  "kernelspec": {
   "display_name": "Python 3",
   "language": "python",
   "name": "python3"
  },
  "language_info": {
   "codemirror_mode": {
    "name": "ipython",
    "version": 3
   },
   "file_extension": ".py",
   "mimetype": "text/x-python",
   "name": "python",
   "nbconvert_exporter": "python",
   "pygments_lexer": "ipython3",
   "version": "3.6.3"
  }
 },
 "nbformat": 4,
 "nbformat_minor": 2
}
