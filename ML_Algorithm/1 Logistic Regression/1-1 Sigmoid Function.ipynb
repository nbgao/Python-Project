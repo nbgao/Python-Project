{
 "cells": [
  {
   "cell_type": "code",
   "execution_count": 2,
   "metadata": {
    "collapsed": true
   },
   "outputs": [],
   "source": [
    "import numpy as np"
   ]
  },
  {
   "cell_type": "markdown",
   "metadata": {},
   "source": [
    "## 1-1 Sigmoid Function"
   ]
  },
  {
   "cell_type": "code",
   "execution_count": 1,
   "metadata": {
    "collapsed": true
   },
   "outputs": [],
   "source": [
    "def sig(x):\n",
    "    '''Sigmoid Function\n",
    "    input: x(mat): feature * w\n",
    "    output: sigmoid(x)(mat): Sigmoid value\n",
    "    '''\n",
    "    return 1.0 / (1+np.exp(-x))    "
   ]
  },
  {
   "cell_type": "markdown",
   "metadata": {},
   "source": [
    "## 1-2 Logistic Regression Model Training"
   ]
  },
  {
   "cell_type": "code",
   "execution_count": 2,
   "metadata": {},
   "outputs": [],
   "source": [
    "def lr_train_bgd(feature, label, maxCycle, alpha):\n",
    "    '''\n",
    "    利用梯度下降法训练LR模型\n",
    "    input: feature(mat) 特征\n",
    "           label(mat) 标签\n",
    "           maxCycle(int) 最大迭代次数\n",
    "           alpha(float) 学习率\n",
    "    output: w(mat) 权重    \n",
    "    '''\n",
    "    n = np.shape(feature)[1]\n",
    "    w = np.mat(np.ones((n,1)))\n",
    "    i = 0\n",
    "    while i <= maxCycle:\n",
    "        i += 1\n",
    "        h = sig(feature * w)\n",
    "        err = label - h\n",
    "        if i%100 == 0:\n",
    "            print(\"\\t---------iter=\" + str(i) + \" , train error rate= \" + str(error_rate(h, label)))"
   ]
  },
  {
   "cell_type": "markdown",
   "metadata": {},
   "source": [
    "## 1-3 Error_rate Funtion"
   ]
  },
  {
   "cell_type": "code",
   "execution_count": 3,
   "metadata": {
    "collapsed": true
   },
   "outputs": [],
   "source": [
    "def error_rate(h, label):\n",
    "    '''\n",
    "    input: h(mat): 预测值\n",
    "           label(mat): 实际值\n",
    "    output: err/m(float): 错误率\n",
    "    '''\n",
    "    m = np.shape(h)[0]\n",
    "    \n",
    "    sum_err = 0.0\n",
    "    for i in range(m):\n",
    "        if h[i,0] > 0 and (1-h[i,0])>0:\n",
    "            sum_err -= (label[i,0]*np.log(h[i,0]) + (1-label[i,0])*np.log(1-h[i,0]))\n",
    "        else:\n",
    "            sum_err -= 0\n",
    "    return sum_err/m"
   ]
  },
  {
   "cell_type": "code",
   "execution_count": null,
   "metadata": {
    "collapsed": true
   },
   "outputs": [],
   "source": []
  }
 ],
 "metadata": {
  "kernelspec": {
   "display_name": "Python 3",
   "language": "python",
   "name": "python3"
  },
  "language_info": {
   "codemirror_mode": {
    "name": "ipython",
    "version": 3
   },
   "file_extension": ".py",
   "mimetype": "text/x-python",
   "name": "python",
   "nbconvert_exporter": "python",
   "pygments_lexer": "ipython3",
   "version": "3.6.1"
  }
 },
 "nbformat": 4,
 "nbformat_minor": 2
}
