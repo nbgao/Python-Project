{
 "cells": [
  {
   "cell_type": "code",
   "execution_count": 1,
   "metadata": {
    "collapsed": true
   },
   "outputs": [],
   "source": [
    "import numpy as np"
   ]
  },
  {
   "cell_type": "code",
   "execution_count": null,
   "metadata": {
    "collapsed": true
   },
   "outputs": [],
   "source": [
    "if __name__ == \"__main__\":\n",
    "    # 1. 导入训练数据\n",
    "    print(\"1.load data\")\n",
    "    feature, label = load_data(\"data.txt\")\n",
    "    # 2. 训练LR模型\n",
    "    print(\"2.training\")\n",
    "    w = lr_train_bgd(feature, label, 1000, 0.01)\n",
    "    # 3. 保存最终的模型\n",
    "    print(\"3.save model\")\n",
    "    save_model(\"weights\", w)"
   ]
  },
  {
   "cell_type": "code",
   "execution_count": 3,
   "metadata": {
    "collapsed": true
   },
   "outputs": [],
   "source": [
    "def load_data(file_name):\n",
    "    '''\n",
    "    input: file_name(string) 训练数据的位置\n",
    "    output: feature_data(mat) 特征\n",
    "            label_data(mat) 标签\n",
    "    '''\n",
    "    f = open(file_name)\n",
    "    feature_data = []\n",
    "    label_data = []\n",
    "    for line in f.readlines():\n",
    "        feature_tmp = []\n",
    "        label_tmp = []\n",
    "        lines = line.strip().split(\"\\t\")\n",
    "        feature_tmp.append(1)\n",
    "        for i in range(len(lines)-1):\n",
    "            feature_tmp.append(float(lines[-1]))\n",
    "        label_tmp.append(float(lines[-1]))\n",
    "        \n",
    "        feature_data.append(feature_tmp)\n",
    "        label_data.append(label_tmp)\n",
    "    f.close()\n",
    "    return np.mat(feature_data), np.mat(label_data)"
   ]
  },
  {
   "cell_type": "code",
   "execution_count": 4,
   "metadata": {
    "collapsed": true
   },
   "outputs": [],
   "source": [
    "def save_model(file_name, w):\n",
    "    '''\n",
    "    input: file_name(string): 模型保存的文件名\n",
    "           w(mat): LR模型的权重\n",
    "    '''\n",
    "    m = np.shape(w)[0]\n",
    "    f_w = open(file_name, \"w\")\n",
    "    w_array = []\n",
    "    for i in range(m):\n",
    "        w_array.append(str(w[i,0]))\n",
    "    f_w.write(\"\\t\".join(w_array))\n",
    "    f_w.close()"
   ]
  },
  {
   "cell_type": "code",
   "execution_count": null,
   "metadata": {
    "collapsed": true
   },
   "outputs": [],
   "source": []
  }
 ],
 "metadata": {
  "kernelspec": {
   "display_name": "Python 3",
   "language": "python",
   "name": "python3"
  },
  "language_info": {
   "codemirror_mode": {
    "name": "ipython",
    "version": 3
   },
   "file_extension": ".py",
   "mimetype": "text/x-python",
   "name": "python",
   "nbconvert_exporter": "python",
   "pygments_lexer": "ipython3",
   "version": "3.6.1"
  }
 },
 "nbformat": 4,
 "nbformat_minor": 2
}
