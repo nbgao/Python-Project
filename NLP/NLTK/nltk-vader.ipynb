{
 "cells": [
  {
   "cell_type": "code",
   "execution_count": 2,
   "metadata": {
    "collapsed": true
   },
   "outputs": [],
   "source": [
    "from nltk.sentiment.vader import SentimentIntensityAnalyzer\n",
    "\n",
    "with open('ubuntu.txt', encoding='utf-8') as ubuntu:\n",
    "    ubuntuLines = [line.strip() for line in ubuntu.readlines()]\n",
    "ubuntu.close()\n",
    "\n",
    "sid = SentimentIntensityAnalyzer()\n",
    "finalScore = 0\n",
    "\n",
    "for line in ubuntuLines[0:20]:\n",
    "    print(line)\n",
    "    ss = sid.polarity_scores(ss)\n",
    "    for k in sorted(ss):\n",
    "        print(' {0}: {1}\\n'.format(k, ss[k]), end = '')\n",
    "    print()"
   ]
  }
 ],
 "metadata": {
  "kernelspec": {
   "display_name": "Python 3",
   "language": "python",
   "name": "python3"
  },
  "language_info": {
   "codemirror_mode": {
    "name": "ipython",
    "version": 3
   },
   "file_extension": ".py",
   "mimetype": "text/x-python",
   "name": "python",
   "nbconvert_exporter": "python",
   "pygments_lexer": "ipython3",
   "version": "3.6.1"
  }
 },
 "nbformat": 4,
 "nbformat_minor": 2
}
