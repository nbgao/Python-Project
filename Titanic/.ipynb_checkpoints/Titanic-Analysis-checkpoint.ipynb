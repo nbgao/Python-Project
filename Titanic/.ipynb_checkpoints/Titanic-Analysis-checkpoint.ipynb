{
 "cells": [
  {
   "cell_type": "code",
   "execution_count": 2,
   "metadata": {},
   "outputs": [],
   "source": [
    "from __future__ import print_function\n",
    "import numpy as np\n",
    "import pandas as pd\n",
    "import matplotlib.pyplot as plt"
   ]
  },
  {
   "cell_type": "code",
   "execution_count": 15,
   "metadata": {},
   "outputs": [
    {
     "name": "stdout",
     "output_type": "stream",
     "text": [
      "     PassengerId  Survived  Pclass                                                       Name     Sex   Age  SibSp  Parch            Ticket      Fare        Cabin Embarked\n",
      "0              1         0       3                                    Braund, Mr. Owen Harris    male  22.0      1      0         A/5 21171    7.2500          NaN        S\n",
      "1              2         1       1        Cumings, Mrs. John Bradley (Florence Briggs Thayer)  female  38.0      1      0          PC 17599   71.2833          C85        C\n",
      "2              3         1       3                                     Heikkinen, Miss. Laina  female  26.0      0      0  STON/O2. 3101282    7.9250          NaN        S\n",
      "3              4         1       1               Futrelle, Mrs. Jacques Heath (Lily May Peel)  female  35.0      1      0            113803   53.1000         C123        S\n",
      "4              5         0       3                                   Allen, Mr. William Henry    male  35.0      0      0            373450    8.0500          NaN        S\n",
      "5              6         0       3                                           Moran, Mr. James    male   NaN      0      0            330877    8.4583          NaN        Q\n",
      "6              7         0       1                                    McCarthy, Mr. Timothy J    male  54.0      0      0             17463   51.8625          E46        S\n",
      "7              8         0       3                             Palsson, Master. Gosta Leonard    male   2.0      3      1            349909   21.0750          NaN        S\n",
      "8              9         1       3          Johnson, Mrs. Oscar W (Elisabeth Vilhelmina Berg)  female  27.0      0      2            347742   11.1333          NaN        S\n",
      "9             10         1       2                        Nasser, Mrs. Nicholas (Adele Achem)  female  14.0      1      0            237736   30.0708          NaN        C\n",
      "10            11         1       3                            Sandstrom, Miss. Marguerite Rut  female   4.0      1      1           PP 9549   16.7000           G6        S\n",
      "11            12         1       1                                   Bonnell, Miss. Elizabeth  female  58.0      0      0            113783   26.5500         C103        S\n",
      "12            13         0       3                             Saundercock, Mr. William Henry    male  20.0      0      0         A/5. 2151    8.0500          NaN        S\n",
      "13            14         0       3                                Andersson, Mr. Anders Johan    male  39.0      1      5            347082   31.2750          NaN        S\n",
      "14            15         0       3                       Vestrom, Miss. Hulda Amanda Adolfina  female  14.0      0      0            350406    7.8542          NaN        S\n",
      "15            16         1       2                           Hewlett, Mrs. (Mary D Kingcome)   female  55.0      0      0            248706   16.0000          NaN        S\n",
      "16            17         0       3                                       Rice, Master. Eugene    male   2.0      4      1            382652   29.1250          NaN        Q\n",
      "17            18         1       2                               Williams, Mr. Charles Eugene    male   NaN      0      0            244373   13.0000          NaN        S\n",
      "18            19         0       3    Vander Planke, Mrs. Julius (Emelia Maria Vandemoortele)  female  31.0      1      0            345763   18.0000          NaN        S\n",
      "19            20         1       3                                    Masselmani, Mrs. Fatima  female   NaN      0      0              2649    7.2250          NaN        C\n",
      "20            21         0       2                                       Fynney, Mr. Joseph J    male  35.0      0      0            239865   26.0000          NaN        S\n",
      "21            22         1       2                                      Beesley, Mr. Lawrence    male  34.0      0      0            248698   13.0000          D56        S\n",
      "22            23         1       3                                McGowan, Miss. Anna \"Annie\"  female  15.0      0      0            330923    8.0292          NaN        Q\n",
      "23            24         1       1                               Sloper, Mr. William Thompson    male  28.0      0      0            113788   35.5000           A6        S\n",
      "24            25         0       3                              Palsson, Miss. Torborg Danira  female   8.0      3      1            349909   21.0750          NaN        S\n",
      "25            26         1       3  Asplund, Mrs. Carl Oscar (Selma Augusta Emilia Johansson)  female  38.0      1      5            347077   31.3875          NaN        S\n",
      "26            27         0       3                                    Emir, Mr. Farred Chehab    male   NaN      0      0              2631    7.2250          NaN        C\n",
      "27            28         0       1                             Fortune, Mr. Charles Alexander    male  19.0      3      2             19950  263.0000  C23 C25 C27        S\n",
      "28            29         1       3                              O'Dwyer, Miss. Ellen \"Nellie\"  female   NaN      0      0            330959    7.8792          NaN        Q\n",
      "29            30         0       3                                        Todoroff, Mr. Lalio    male   NaN      0      0            349216    7.8958          NaN        S\n",
      "..           ...       ...     ...                                                        ...     ...   ...    ...    ...               ...       ...          ...      ...\n",
      "861          862         0       2                                Giles, Mr. Frederick Edward    male  21.0      1      0             28134   11.5000          NaN        S\n",
      "862          863         1       1        Swift, Mrs. Frederick Joel (Margaret Welles Barron)  female  48.0      0      0             17466   25.9292          D17        S\n",
      "863          864         0       3                          Sage, Miss. Dorothy Edith \"Dolly\"  female   NaN      8      2          CA. 2343   69.5500          NaN        S\n",
      "864          865         0       2                                     Gill, Mr. John William    male  24.0      0      0            233866   13.0000          NaN        S\n",
      "865          866         1       2                                   Bystrom, Mrs. (Karolina)  female  42.0      0      0            236852   13.0000          NaN        S\n",
      "866          867         1       2                               Duran y More, Miss. Asuncion  female  27.0      1      0     SC/PARIS 2149   13.8583          NaN        C\n",
      "867          868         0       1                       Roebling, Mr. Washington Augustus II    male  31.0      0      0          PC 17590   50.4958          A24        S\n",
      "868          869         0       3                                van Melkebeke, Mr. Philemon    male   NaN      0      0            345777    9.5000          NaN        S\n",
      "869          870         1       3                            Johnson, Master. Harold Theodor    male   4.0      1      1            347742   11.1333          NaN        S\n",
      "870          871         0       3                                          Balkic, Mr. Cerin    male  26.0      0      0            349248    7.8958          NaN        S\n",
      "871          872         1       1           Beckwith, Mrs. Richard Leonard (Sallie Monypeny)  female  47.0      1      1             11751   52.5542          D35        S\n",
      "872          873         0       1                                   Carlsson, Mr. Frans Olof    male  33.0      0      0               695    5.0000  B51 B53 B55        S\n",
      "873          874         0       3                                Vander Cruyssen, Mr. Victor    male  47.0      0      0            345765    9.0000          NaN        S\n",
      "874          875         1       2                      Abelson, Mrs. Samuel (Hannah Wizosky)  female  28.0      1      0         P/PP 3381   24.0000          NaN        C\n",
      "875          876         1       3                           Najib, Miss. Adele Kiamie \"Jane\"  female  15.0      0      0              2667    7.2250          NaN        C\n",
      "876          877         0       3                              Gustafsson, Mr. Alfred Ossian    male  20.0      0      0              7534    9.8458          NaN        S\n",
      "877          878         0       3                                       Petroff, Mr. Nedelio    male  19.0      0      0            349212    7.8958          NaN        S\n",
      "878          879         0       3                                         Laleff, Mr. Kristo    male   NaN      0      0            349217    7.8958          NaN        S\n",
      "879          880         1       1              Potter, Mrs. Thomas Jr (Lily Alexenia Wilson)  female  56.0      0      1             11767   83.1583          C50        C\n",
      "880          881         1       2               Shelley, Mrs. William (Imanita Parrish Hall)  female  25.0      0      1            230433   26.0000          NaN        S\n",
      "881          882         0       3                                         Markun, Mr. Johann    male  33.0      0      0            349257    7.8958          NaN        S\n",
      "882          883         0       3                               Dahlberg, Miss. Gerda Ulrika  female  22.0      0      0              7552   10.5167          NaN        S\n",
      "883          884         0       2                              Banfield, Mr. Frederick James    male  28.0      0      0  C.A./SOTON 34068   10.5000          NaN        S\n",
      "884          885         0       3                                     Sutehall, Mr. Henry Jr    male  25.0      0      0   SOTON/OQ 392076    7.0500          NaN        S\n",
      "885          886         0       3                       Rice, Mrs. William (Margaret Norton)  female  39.0      0      5            382652   29.1250          NaN        Q\n",
      "886          887         0       2                                      Montvila, Rev. Juozas    male  27.0      0      0            211536   13.0000          NaN        S\n",
      "887          888         1       1                               Graham, Miss. Margaret Edith  female  19.0      0      0            112053   30.0000          B42        S\n",
      "888          889         0       3                   Johnston, Miss. Catherine Helen \"Carrie\"  female   NaN      1      2        W./C. 6607   23.4500          NaN        S\n",
      "889          890         1       1                                      Behr, Mr. Karl Howell    male  26.0      0      0            111369   30.0000         C148        C\n",
      "890          891         0       3                                        Dooley, Mr. Patrick    male  32.0      0      0            370376    7.7500          NaN        Q\n",
      "\n",
      "[891 rows x 12 columns]\n"
     ]
    }
   ],
   "source": [
    "pd.set_option('display.max_columns', None)\n",
    "pd.set_option('display.width',180)\n",
    "pd.set_option('max_colwidth',110)\n",
    "\n",
    "data = pd.read_csv('./Data/train.csv')\n",
    "print(data)"
   ]
  },
  {
   "cell_type": "code",
   "execution_count": 16,
   "metadata": {},
   "outputs": [
    {
     "name": "stdout",
     "output_type": "stream",
     "text": [
      "PassengerId                          1\n",
      "Survived                             0\n",
      "Pclass                               3\n",
      "Name           Braund, Mr. Owen Harris\n",
      "Sex                               male\n",
      "Age                                 22\n",
      "SibSp                                1\n",
      "Parch                                0\n",
      "Ticket                       A/5 21171\n",
      "Fare                              7.25\n",
      "Cabin                              NaN\n",
      "Embarked                             S\n",
      "Name: 0, dtype: object\n"
     ]
    }
   ],
   "source": [
    "print(data.xs(0))"
   ]
  },
  {
   "cell_type": "code",
   "execution_count": 17,
   "metadata": {},
   "outputs": [
    {
     "name": "stdout",
     "output_type": "stream",
     "text": [
      "male:  0.18890814558058924\n",
      "female:  0.7420382165605095\n"
     ]
    }
   ],
   "source": [
    "men = data[data.Sex == 'male']\n",
    "women = data[data.Sex == 'female']\n",
    "proportion_men_survived = float(sum(men.Survived)) / len(men)\n",
    "proportion_women_survived = float(sum(women.Survived)) / len(women)\n",
    "print('male: ', proportion_men_survived)\n",
    "print('female: ', proportion_women_survived)"
   ]
  },
  {
   "cell_type": "code",
   "execution_count": 18,
   "metadata": {},
   "outputs": [
    {
     "name": "stdout",
     "output_type": "stream",
     "text": [
      "Sex\n",
      "female    0.742038\n",
      "male      0.188908\n",
      "Name: Survived, dtype: float64\n"
     ]
    }
   ],
   "source": [
    "print(data.groupby('Sex').Survived.mean())"
   ]
  },
  {
   "cell_type": "code",
   "execution_count": 19,
   "metadata": {},
   "outputs": [
    {
     "name": "stdout",
     "output_type": "stream",
     "text": [
      "Sex\n",
      "female    0.438211\n",
      "male      0.391775\n",
      "Name: Survived, dtype: float64\n"
     ]
    }
   ],
   "source": [
    "print(data.groupby('Sex').Survived.std())"
   ]
  },
  {
   "cell_type": "code",
   "execution_count": 21,
   "metadata": {},
   "outputs": [
    {
     "data": {
      "image/png": "[encoded data removed]",
      "text/plain": [
       "<matplotlib.figure.Figure at 0x298e465c710>"
      ]
     },
     "metadata": {},
     "output_type": "display_data"
    }
   ],
   "source": [
    "import matplotlib.style\n",
    "matplotlib.style.use('ggplot')\n",
    "\n",
    "need_data = data.loc[:, ['Age', 'Survived']].dropna(how='any')\n",
    "need_data['Age'] = need_data['Age'].apply(round).astype('int16')\n",
    "grouped = need_data.groupby('Age').Survived\n",
    "survived = grouped.sum()\n",
    "died = grouped.size() - survived\n",
    "\n",
    "df = pd.DataFrame(dict(died=died, survived=survived))\n",
    "df.plot.bar(figsize=(20,10))\n",
    "\n",
    "plt.show()"
   ]
  },
  {
   "cell_type": "code",
   "execution_count": null,
   "metadata": {
    "collapsed": true
   },
   "outputs": [],
   "source": []
  }
 ],
 "metadata": {
  "kernelspec": {
   "display_name": "Python 3",
   "language": "python",
   "name": "python3"
  },
  "language_info": {
   "codemirror_mode": {
    "name": "ipython",
    "version": 3
   },
   "file_extension": ".py",
   "mimetype": "text/x-python",
   "name": "python",
   "nbconvert_exporter": "python",
   "pygments_lexer": "ipython3",
   "version": "3.6.1"
  }
 },
 "nbformat": 4,
 "nbformat_minor": 2
}
