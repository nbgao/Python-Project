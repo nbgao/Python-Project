{
 "cells": [
  {
   "cell_type": "code",
   "execution_count": 20,
   "metadata": {
    "scrolled": true
   },
   "outputs": [
    {
     "name": "stdout",
     "output_type": "stream",
     "text": [
      "11\n"
     ]
    },
    {
     "data": {
      "text/plain": [
       "[0, 1, 2, 3, 4, 5, 6, 7, 8, 9, 10]"
      ]
     },
     "execution_count": 20,
     "metadata": {},
     "output_type": "execute_result"
    }
   ],
   "source": [
    "# 输入状态个数\n",
    "N =int(input())\n",
    "\n",
    "S = []\n",
    "for i in range(N):\n",
    "    S.append(int(i))\n",
    "\n",
    "S"
   ]
  },
  {
   "cell_type": "code",
   "execution_count": 27,
   "metadata": {},
   "outputs": [
    {
     "name": "stdout",
     "output_type": "stream",
     "text": [
      "13\n"
     ]
    },
    {
     "data": {
      "text/plain": [
       "[['0', '~', '1'],\n",
       " ['0', '~', '7'],\n",
       " ['1', '~', '2'],\n",
       " ['1', '~', '4'],\n",
       " ['2', '0', '3'],\n",
       " ['3', '~', '6'],\n",
       " ['4', '1', '5'],\n",
       " ['5', '~', '6'],\n",
       " ['6', '~', '1'],\n",
       " ['6', '~', '7'],\n",
       " ['7', '0', '8'],\n",
       " ['8', '1', '9'],\n",
       " ['9', '1', '10']]"
      ]
     },
     "execution_count": 27,
     "metadata": {},
     "output_type": "execute_result"
    }
   ],
   "source": [
    "# 输入状态转换表 s c e\n",
    "'''\n",
    "    s: 起始状态\n",
    "    c: 转移字符\n",
    "    e: 到达状态\n",
    "'''\n",
    "M = int(input())\n",
    "Table = []\n",
    "fin = open('Table1.txt')\n",
    "line = fin.readline()\n",
    "while(line):\n",
    "    Table.append([])\n",
    "    Table[len(Table)-1] = line.rstrip().split(' ')\n",
    "    line = fin.readline()\n",
    "\n",
    "Table"
   ]
  },
  {
   "cell_type": "code",
   "execution_count": 22,
   "metadata": {},
   "outputs": [
    {
     "name": "stdout",
     "output_type": "stream",
     "text": [
      "10\n"
     ]
    }
   ],
   "source": [
    "# 接受(结束)状态表\n",
    "E = []\n",
    "t = input()\n",
    "E = t.split(' ')"
   ]
  },
  {
   "cell_type": "code",
   "execution_count": 23,
   "metadata": {},
   "outputs": [
    {
     "data": {
      "text/plain": [
       "['10']"
      ]
     },
     "execution_count": 23,
     "metadata": {},
     "output_type": "execute_result"
    }
   ],
   "source": [
    "E"
   ]
  },
  {
   "cell_type": "code",
   "execution_count": 24,
   "metadata": {
    "collapsed": true
   },
   "outputs": [],
   "source": [
    "# ε-closure闭包算法\n",
    "def Closure(a, T):\n",
    "    b = a\n",
    "    while 1:\n",
    "        s = []\n",
    "        for i in a:\n",
    "            for j in range(len(T)):\n",
    "                if(i==T[j][0] and T[j][1]=='~'):\n",
    "                    s.append(T[j][2])\n",
    "        if(len(s)==0):\n",
    "            break;\n",
    "        else:\n",
    "            for i in s:\n",
    "                b.append(i)\n",
    "                a = s\n",
    "    b = sorted(b)\n",
    "    return b    "
   ]
  },
  {
   "cell_type": "code",
   "execution_count": 25,
   "metadata": {
    "collapsed": true
   },
   "outputs": [],
   "source": [
    "def Edge(a, c, T):\n",
    "    s = []\n",
    "    for i in a:\n",
    "        for j in range(len(T)):\n",
    "            if(i==T[j][0] and T[j][1]==c):\n",
    "                s.append(T[j][2])\n",
    "    s = sorted(s)\n",
    "    return s"
   ]
  },
  {
   "cell_type": "code",
   "execution_count": 33,
   "metadata": {},
   "outputs": [
    {
     "name": "stdout",
     "output_type": "stream",
     "text": [
      "Edge 0: {8, 3}\n",
      "Closure 0: {1, 2, 3, 4, 6, 7, 8}\n",
      "Edge 1: {5}\n",
      "Closure 1: {1, 2, 4, 5, 6, 7}\n",
      "Edge 0: {8, 3}\n",
      "Closure 0: {1, 2, 3, 4, 6, 7, 8}\n",
      "Edge 1: {9, 5}\n",
      "Closure 1: {1, 2, 4, 5, 6, 7, 9}\n",
      "Edge 0: {8, 3}\n",
      "Closure 0: {1, 2, 3, 4, 6, 7, 8}\n",
      "Edge 1: {5}\n",
      "Closure 1: {1, 2, 4, 5, 6, 7}\n",
      "Edge 0: {8, 3}\n",
      "Closure 0: {1, 2, 3, 4, 6, 7, 8}\n",
      "Edge 1: {10, 5}\n",
      "Closure 1: {1, 2, 4, 5, 6, 7, 10}\n",
      "Edge 0: {8, 3}\n",
      "Closure 0: {1, 2, 3, 4, 6, 7, 8}\n",
      "Edge 1: {5}\n",
      "Closure 1: {1, 2, 4, 5, 6, 7}\n",
      "\n",
      "输出NFA构造的子集:\n",
      "0: {0, 1, 2, 4, 7}\n",
      "1: {1, 2, 3, 4, 6, 7, 8}\n",
      "2: {1, 2, 4, 5, 6, 7}\n",
      "3: {1, 2, 4, 5, 6, 7, 9}\n",
      "4: {1, 2, 4, 5, 6, 7, 10}\n",
      "\n",
      "输出DFA:\n",
      "S 0 1 E \n",
      "0 1 2 0\n",
      "1 1 3 0\n",
      "2 1 2 0\n",
      "3 1 4 0\n",
      "4 1 2 1\n"
     ]
    }
   ],
   "source": [
    "C = ['0', '1']\n",
    "\n",
    "S1 = []\n",
    "S2 = []\n",
    "S1.append(Closure(['0'], Table))\n",
    "S2.append(0)\n",
    "\n",
    "while(S2.pop(len(S2)-1)==0):\n",
    "    S2.append(0)\n",
    "    for i in range(len(S1)):\n",
    "        if(S2[i]==0):\n",
    "            S2[i] = 1\n",
    "            for c in C:\n",
    "                s = Edge(S1[i], c, Table)\n",
    "                print(\"Edge %c: %s\" % (c,set(map(int,s))))  ###\n",
    "                if(s==[]):\n",
    "                    break\n",
    "                s = Closure(s, Table)\n",
    "                print(\"Closure %c: %s\" % (c,set(map(int,s))))   ###\n",
    "                if(s==[]):\n",
    "                    break\n",
    "                    \n",
    "                flag = 0        # flag统计S1中是否有s集合\n",
    "                for m in S1:\n",
    "                    if(s==m):\n",
    "                        flag = 1\n",
    "                        break\n",
    "                        \n",
    "                if(flag==0):\n",
    "                    S1.append(s)\n",
    "                    S2.append(0)\n",
    "                    \n",
    "\n",
    "print('\\n输出NFA构造的子集:')\n",
    "for i in range(len(S1)):\n",
    "    Set = set(map(int,S1[i]))\n",
    "    print(\"%d: %s\" % (i, Set))\n",
    "print()\n",
    "\n",
    "\n",
    "print('输出DFA:')\n",
    "print('S', end = ' ')\n",
    "for x in ['0','1','E']:\n",
    "    print(x, end = ' ')\n",
    "print('')\n",
    "\n",
    "# 输出DFA\n",
    "for i in range(len(S1)):\n",
    "    print(i, end = ' ')\n",
    "    for c in C:\n",
    "        s = Edge(S1[i], c, Table)\n",
    "        if(s==[]):\n",
    "            print(s, end=' ')\n",
    "            continue\n",
    "        s = Closure(s, Table)\n",
    "        if(s==[]):\n",
    "            print(s, end=' ')\n",
    "            continue\n",
    "        for k in range(len(S1)):\n",
    "            if(S1[k]==s):\n",
    "                print(k, end=' ')\n",
    "                break\n",
    "                \n",
    "    end = False\n",
    "    for m in E:\n",
    "        if m in S1[i]:\n",
    "            end = True\n",
    "    \n",
    "    if(end==False):\n",
    "        print(0)\n",
    "    else:\n",
    "        print(1)\n",
    "    \n",
    "            "
   ]
  },
  {
   "cell_type": "code",
   "execution_count": 46,
   "metadata": {},
   "outputs": [
    {
     "data": {
      "text/plain": [
       "['3', '8']"
      ]
     },
     "execution_count": 46,
     "metadata": {},
     "output_type": "execute_result"
    }
   ],
   "source": [
    "s1 = Edge(S1[0], c[0], Table)\n",
    "s1"
   ]
  },
  {
   "cell_type": "code",
   "execution_count": 47,
   "metadata": {},
   "outputs": [
    {
     "data": {
      "text/plain": [
       "['1', '2', '3', '4', '6', '7', '8']"
      ]
     },
     "execution_count": 47,
     "metadata": {},
     "output_type": "execute_result"
    }
   ],
   "source": [
    "s2 = Closure(s1, Table)\n",
    "s2"
   ]
  },
  {
   "cell_type": "code",
   "execution_count": 21,
   "metadata": {
    "collapsed": true
   },
   "outputs": [],
   "source": [
    "s = ['9', '14', '13', '9', '5', '13', '8', '6', '7', '5']"
   ]
  },
  {
   "cell_type": "code",
   "execution_count": 30,
   "metadata": {},
   "outputs": [
    {
     "data": {
      "text/plain": [
       "[5, 5, 6, 7, 8, 9, 9, 13, 13, 14]"
      ]
     },
     "execution_count": 30,
     "metadata": {},
     "output_type": "execute_result"
    }
   ],
   "source": [
    "s1 = list(map(int, s))\n",
    "s1 = sorted(s1)\n",
    "s1"
   ]
  },
  {
   "cell_type": "code",
   "execution_count": 61,
   "metadata": {},
   "outputs": [
    {
     "data": {
      "text/plain": [
       "{5, 6, 7, 8, 9, 13, 14}"
      ]
     },
     "execution_count": 61,
     "metadata": {},
     "output_type": "execute_result"
    }
   ],
   "source": [
    "# int 列表转 set\n",
    "s2 = set(map(int, s))\n",
    "s2"
   ]
  },
  {
   "cell_type": "code",
   "execution_count": 57,
   "metadata": {},
   "outputs": [
    {
     "name": "stdout",
     "output_type": "stream",
     "text": [
      "0\n",
      "1\n"
     ]
    }
   ],
   "source": [
    "for i in range(len(['0', '1'])):\n",
    "    print(i)"
   ]
  },
  {
   "cell_type": "code",
   "execution_count": 62,
   "metadata": {},
   "outputs": [
    {
     "name": "stdout",
     "output_type": "stream",
     "text": [
      "5\n",
      "6\n",
      "7\n",
      "8\n",
      "9\n",
      "13\n",
      "14\n"
     ]
    }
   ],
   "source": [
    "for i in s2:\n",
    "    print(i)"
   ]
  },
  {
   "cell_type": "code",
   "execution_count": 26,
   "metadata": {},
   "outputs": [
    {
     "name": "stdout",
     "output_type": "stream",
     "text": [
      "0\n",
      "1\n"
     ]
    }
   ],
   "source": [
    "for c in ['0','1']:\n",
    "    print(c)"
   ]
  },
  {
   "cell_type": "code",
   "execution_count": null,
   "metadata": {
    "collapsed": true
   },
   "outputs": [],
   "source": []
  }
 ],
 "metadata": {
  "kernelspec": {
   "display_name": "Python 3",
   "language": "python",
   "name": "python3"
  },
  "language_info": {
   "codemirror_mode": {
    "name": "ipython",
    "version": 3
   },
   "file_extension": ".py",
   "mimetype": "text/x-python",
   "name": "python",
   "nbconvert_exporter": "python",
   "pygments_lexer": "ipython3",
   "version": "3.6.1"
  }
 },
 "nbformat": 4,
 "nbformat_minor": 2
}
