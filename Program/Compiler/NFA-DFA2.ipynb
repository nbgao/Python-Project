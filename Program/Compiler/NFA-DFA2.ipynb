{
 "cells": [
  {
   "cell_type": "markdown",
   "metadata": {},
   "source": [
    "# Set 操作"
   ]
  },
  {
   "cell_type": "code",
   "execution_count": 24,
   "metadata": {},
   "outputs": [
    {
     "name": "stdout",
     "output_type": "stream",
     "text": [
      "11\n"
     ]
    },
    {
     "data": {
      "text/plain": [
       "[0, 1, 2, 3, 4, 5, 6, 7, 8, 9, 10]"
      ]
     },
     "execution_count": 24,
     "metadata": {},
     "output_type": "execute_result"
    }
   ],
   "source": [
    "# 输入状态个数\n",
    "N =int(input())\n",
    "\n",
    "S = []\n",
    "for i in range(N):\n",
    "    S.append(int(i))\n",
    "\n",
    "S"
   ]
  },
  {
   "cell_type": "code",
   "execution_count": 30,
   "metadata": {},
   "outputs": [
    {
     "data": {
      "text/plain": [
       "[['0', '~', '1'],\n",
       " ['0', '~', '7'],\n",
       " ['1', '~', '2'],\n",
       " ['1', '~', '4'],\n",
       " ['2', '0', '3'],\n",
       " ['3', '~', '6'],\n",
       " ['4', '1', '5'],\n",
       " ['5', '~', '6'],\n",
       " ['6', '~', '1'],\n",
       " ['6', '~', '7'],\n",
       " ['7', '0', '8'],\n",
       " ['8', '1', '9'],\n",
       " ['9', '1', '10']]"
      ]
     },
     "execution_count": 30,
     "metadata": {},
     "output_type": "execute_result"
    }
   ],
   "source": [
    "# 输入状态转换表 s c e\n",
    "'''\n",
    "    s: 起始状态\n",
    "    c: 转移字符\n",
    "    e: 到达状态\n",
    "'''\n",
    "# M = int(input())\n",
    "Table = []\n",
    "fin = open('Table1.txt')\n",
    "lines = fin.readlines()\n",
    "for line in lines:\n",
    "    Table.append([])\n",
    "    Table[len(Table)-1] = line.rstrip().split(' ')\n",
    "\n",
    "Table"
   ]
  },
  {
   "cell_type": "code",
   "execution_count": 31,
   "metadata": {},
   "outputs": [
    {
     "name": "stdout",
     "output_type": "stream",
     "text": [
      "输入表为 NFA\n"
     ]
    }
   ],
   "source": [
    "def NFA_DFA(Table):\n",
    "    isNFA = False\n",
    "    for i in range(len(Table)):\n",
    "        for j in range(len(Table)):\n",
    "            if(i != j and Table[i][0]==Table[j][0] and Table[i][1]==Table[j][1] and Table[i][1]==Table[j][1] and Table[i][2]!=Table[j][2]):\n",
    "                isNFA = True\n",
    "                break\n",
    "        if(isNFA==True):\n",
    "            break\n",
    "\n",
    "    if(isNFA):\n",
    "        print(\"输入表为 NFA\")\n",
    "    else:\n",
    "        print(\"输入表为 DFA\")\n",
    "        \n",
    "NFA_DFA(Table)"
   ]
  },
  {
   "cell_type": "code",
   "execution_count": 32,
   "metadata": {},
   "outputs": [
    {
     "name": "stdout",
     "output_type": "stream",
     "text": [
      "10\n"
     ]
    }
   ],
   "source": [
    "# 接受(结束)状态表\n",
    "E = []\n",
    "t = input()\n",
    "E = t.split(' ')"
   ]
  },
  {
   "cell_type": "code",
   "execution_count": 33,
   "metadata": {},
   "outputs": [
    {
     "data": {
      "text/plain": [
       "['10']"
      ]
     },
     "execution_count": 33,
     "metadata": {},
     "output_type": "execute_result"
    }
   ],
   "source": [
    "E"
   ]
  },
  {
   "cell_type": "code",
   "execution_count": 35,
   "metadata": {
    "collapsed": true
   },
   "outputs": [],
   "source": [
    "# ε-closure闭包算法\n",
    "def Closure(a, T):\n",
    "    b = a\n",
    "    while 1:\n",
    "        s = []\n",
    "        for i in a:\n",
    "            for j in range(len(T)):\n",
    "                if(i==T[j][0] and T[j][1]=='~'):\n",
    "                    s.append(T[j][2])\n",
    "        if(len(s)==0):\n",
    "            break;\n",
    "        else:\n",
    "            for i in s:\n",
    "                b.append(i)\n",
    "                a = s\n",
    "    b = sorted(b)\n",
    "    return b    "
   ]
  },
  {
   "cell_type": "code",
   "execution_count": 36,
   "metadata": {
    "collapsed": true
   },
   "outputs": [],
   "source": [
    "def Edge(a, c, T):\n",
    "    s = []\n",
    "    for i in a:\n",
    "        for j in range(len(T)):\n",
    "            if(i==T[j][0] and T[j][1]==c):\n",
    "                s.append(T[j][2])\n",
    "    s = sorted(s)\n",
    "    return s"
   ]
  },
  {
   "cell_type": "code",
   "execution_count": 55,
   "metadata": {},
   "outputs": [
    {
     "name": "stdout",
     "output_type": "stream",
     "text": [
      "Edge 0: {8, 3}\n",
      "Closure 0: {1, 2, 3, 4, 6, 7, 8}\n",
      "Edge 1: {5}\n",
      "Closure 1: {1, 2, 4, 5, 6, 7}\n",
      "Edge 0: {8, 3}\n",
      "Closure 0: {1, 2, 3, 4, 6, 7, 8}\n",
      "Edge 1: {9, 5}\n",
      "Closure 1: {1, 2, 4, 5, 6, 7, 9}\n",
      "Edge 0: {8, 3}\n",
      "Closure 0: {1, 2, 3, 4, 6, 7, 8}\n",
      "Edge 1: {5}\n",
      "Closure 1: {1, 2, 4, 5, 6, 7}\n",
      "Edge 0: {8, 3}\n",
      "Closure 0: {1, 2, 3, 4, 6, 7, 8}\n",
      "Edge 1: {10, 5}\n",
      "Closure 1: {1, 2, 4, 5, 6, 7, 10}\n",
      "Edge 0: {8, 3}\n",
      "Closure 0: {1, 2, 3, 4, 6, 7, 8}\n",
      "Edge 1: {5}\n",
      "Closure 1: {1, 2, 4, 5, 6, 7}\n",
      "\n",
      "输出NFA构造的子集:\n",
      "0: {0, 1, 2, 4, 7}\n",
      "1: {1, 2, 3, 4, 6, 7, 8}\n",
      "2: {1, 2, 4, 5, 6, 7}\n",
      "3: {1, 2, 4, 5, 6, 7, 9}\n",
      "4: {1, 2, 4, 5, 6, 7, 10}\n",
      "\n",
      "输出DFA:\n",
      "S 0 1 E \n",
      "0 1 2 0\n",
      "1 1 3 0\n",
      "2 1 2 0\n",
      "3 1 4 0\n",
      "4 1 2 1\n"
     ]
    },
    {
     "data": {
      "text/plain": [
       "[[0, 1, 2, 0], [1, 1, 3, 0], [2, 1, 2, 0], [3, 1, 4, 0], [4, 1, 2, 1]]"
      ]
     },
     "execution_count": 55,
     "metadata": {},
     "output_type": "execute_result"
    }
   ],
   "source": [
    "C = ['0', '1']\n",
    "\n",
    "S1 = []\n",
    "S2 = []\n",
    "S1.append(Closure(['0'], Table))\n",
    "S2.append(0)\n",
    "\n",
    "while(S2.pop(len(S2)-1)==0):\n",
    "    S2.append(0)\n",
    "    for i in range(len(S1)):\n",
    "        if(S2[i]==0):\n",
    "            S2[i] = 1\n",
    "            for c in C:\n",
    "                s = Edge(S1[i], c, Table)\n",
    "                print(\"Edge %c: %s\" % (c,set(map(int,s))))  ###\n",
    "                if(s==[]):\n",
    "                    break\n",
    "                s = Closure(s, Table)\n",
    "                print(\"Closure %c: %s\" % (c,set(map(int,s))))   ###\n",
    "                if(s==[]):\n",
    "                    break\n",
    "                    \n",
    "                flag = 0        # flag统计S1中是否有s集合\n",
    "                for m in S1:\n",
    "                    if(s==m):\n",
    "                        flag = 1\n",
    "                        break\n",
    "                        \n",
    "                if(flag==0):\n",
    "                    S1.append(s)\n",
    "                    S2.append(0)\n",
    "                    \n",
    "\n",
    "print('\\n输出NFA构造的子集:')\n",
    "for i in range(len(S1)):\n",
    "    Set = set(map(int,S1[i]))\n",
    "    print(\"%d: %s\" % (i, Set))\n",
    "print()\n",
    "\n",
    "\n",
    "print('输出DFA:')\n",
    "print('S', end = ' ')\n",
    "for x in ['0','1','E']:\n",
    "    print(x, end = ' ')\n",
    "print('')\n",
    "\n",
    "# 输出DFA\n",
    "DFA = []\n",
    "for i in range(len(S1)):\n",
    "    DFA.append([]) ###\n",
    "    \n",
    "    DFA[i].append(i) ###\n",
    "    print(i, end = ' ')\n",
    "    for c in C:\n",
    "        s = Edge(S1[i], c, Table)\n",
    "        if(s==[]):\n",
    "            DFA[i].append(s)\n",
    "            print(s, end=' ')\n",
    "            continue\n",
    "        s = Closure(s, Table)\n",
    "        if(s==[]):\n",
    "            DFA[i].append(s)\n",
    "            print(s, end=' ')\n",
    "            continue\n",
    "        for k in range(len(S1)):\n",
    "            if(S1[k]==s):\n",
    "                DFA[i].append(k)\n",
    "                print(k, end=' ')\n",
    "                break\n",
    "                \n",
    "    end = False\n",
    "    for m in E:\n",
    "        if m in S1[i]:\n",
    "            end = True\n",
    "    \n",
    "    if(end==False):\n",
    "        print(0)\n",
    "    else:\n",
    "        print(1)\n",
    "    DFA[i].append(int(end))\n",
    "    \n",
    "DFA"
   ]
  },
  {
   "cell_type": "code",
   "execution_count": 56,
   "metadata": {},
   "outputs": [],
   "source": [
    "fout = open('./DFA1.txt', 'w')\n",
    "for i in DFA:\n",
    "    k = ' '.join([str(j) for j in i])\n",
    "    fout.write(k+\"\\n\")\n",
    "fout.close()"
   ]
  },
  {
   "cell_type": "code",
   "execution_count": 65,
   "metadata": {},
   "outputs": [
    {
     "data": {
      "text/plain": [
       "[['0', '1', '2', '0'],\n",
       " ['1', '1', '3', '0'],\n",
       " ['2', '1', '2', '0'],\n",
       " ['3', '1', '4', '0'],\n",
       " ['4', '1', '2', '1']]"
      ]
     },
     "execution_count": 65,
     "metadata": {},
     "output_type": "execute_result"
    }
   ],
   "source": [
    "T_in = []\n",
    "fin = open('DFA1.txt')\n",
    "lines = fin.readlines()\n",
    "for line in lines:\n",
    "    T_in.append([])\n",
    "    T_in[len(T_in)-1] = line.rstrip().split(' ')\n",
    "\n",
    "T_in"
   ]
  },
  {
   "cell_type": "code",
   "execution_count": 72,
   "metadata": {},
   "outputs": [
    {
     "data": {
      "text/plain": [
       "[[0, 1, 2, 3], [4]]"
      ]
     },
     "execution_count": 72,
     "metadata": {},
     "output_type": "execute_result"
    }
   ],
   "source": [
    "SET = [[],[]]\n",
    "for i in range(len(T_in)):\n",
    "    if(int(T_in[i][3]) == 0):\n",
    "        SET[0].append(int(T_in[i][0]))\n",
    "    else:\n",
    "        SET[1].append(int(T_in[i][0]))\n",
    "\n",
    "SET"
   ]
  },
  {
   "cell_type": "code",
   "execution_count": null,
   "metadata": {
    "collapsed": true
   },
   "outputs": [],
   "source": []
  }
 ],
 "metadata": {
  "kernelspec": {
   "display_name": "Python 3",
   "language": "python",
   "name": "python3"
  },
  "language_info": {
   "codemirror_mode": {
    "name": "ipython",
    "version": 3
   },
   "file_extension": ".py",
   "mimetype": "text/x-python",
   "name": "python",
   "nbconvert_exporter": "python",
   "pygments_lexer": "ipython3",
   "version": "3.6.1"
  }
 },
 "nbformat": 4,
 "nbformat_minor": 2
}
