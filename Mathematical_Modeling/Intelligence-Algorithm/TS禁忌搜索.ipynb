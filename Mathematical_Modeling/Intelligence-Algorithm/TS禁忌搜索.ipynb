{
 "cells": [
  {
   "cell_type": "code",
   "execution_count": 1,
   "metadata": {
    "collapsed": true
   },
   "outputs": [],
   "source": [
    "import random\n",
    "import copy\n",
    "\n",
    "N = 10    # 序列长度\n",
    "banLen = 500    # 禁忌表长度\n",
    "ITER = 1000    # 迭代次数\n",
    "INF = 1e10    # 无穷大\n",
    "\n",
    "def evaluate(order):\n",
    "    return 0\n",
    "\n",
    "def swap(order, i, j):\n",
    "    t = order[i]\n",
    "    order[i] = order[j]\n",
    "    order[j] = t\n",
    "\n",
    "def updateban(ban, order, t):\n",
    "    if len(ban) < banLen:\n",
    "        ban.append(order)\n",
    "    else:\n",
    "        ban[t] = order\n",
    "        \n",
    "def TS():\n",
    "    bestorder = range(N)\n",
    "    random.shuffle(bestorder)\n",
    "    bestvalue = evaluate(bestorder)\n",
    "    noworder = copy.copy(bestorder)\n",
    "    ban = []\n",
    "    \n",
    "    for num_iter in range(ITER):\n",
    "        nextorder = []\n",
    "        nextvalue = 0\n",
    "        order = noworder\n",
    "        \n",
    "        for i in range(N):\n",
    "            for j in range(i+1, N):\n",
    "                swap(order, i, j)\n",
    "                if not (order in ban):\n",
    "                    temp = evaluate(order)\n",
    "                    if temp > nextvalue:\n",
    "                        nextorder = copy.copy(order)\n",
    "                        nextvalue = temp;\n",
    "                swap(order, i, j)\n",
    "            \n",
    "        if nextvalue == 0:\n",
    "            break\n",
    "        \n",
    "        if nextvalue > bestvalue:\n",
    "            bestvalue = nextvalue\n",
    "            bestorder = nextorder\n",
    "        updateban(ban, copy.copy(nextorder), num_iter%banLen)\n",
    "        noworder = nextorder\n",
    "\n",
    "    return bestvalue, bestorder\n",
    "            \n"
   ]
  },
  {
   "cell_type": "code",
   "execution_count": null,
   "metadata": {
    "collapsed": true
   },
   "outputs": [],
   "source": []
  }
 ],
 "metadata": {
  "kernelspec": {
   "display_name": "Python 3",
   "language": "python",
   "name": "python3"
  },
  "language_info": {
   "codemirror_mode": {
    "name": "ipython",
    "version": 3
   },
   "file_extension": ".py",
   "mimetype": "text/x-python",
   "name": "python",
   "nbconvert_exporter": "python",
   "pygments_lexer": "ipython3",
   "version": "3.6.1"
  }
 },
 "nbformat": 4,
 "nbformat_minor": 2
}
