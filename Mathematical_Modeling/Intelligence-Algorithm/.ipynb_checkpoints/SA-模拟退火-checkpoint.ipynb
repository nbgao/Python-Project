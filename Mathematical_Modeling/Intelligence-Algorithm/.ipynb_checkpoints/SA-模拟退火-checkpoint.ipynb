{
 "cells": [
  {
   "cell_type": "code",
   "execution_count": 1,
   "metadata": {
    "collapsed": true
   },
   "outputs": [],
   "source": [
    "import random\n",
    "import math\n",
    "\n",
    "# 变量范围\n",
    "domain = [(0,100), (0,100)]\n",
    "\n",
    "def annealingoptimize(self, domain, T=10000.0, cool=0.98, step=1):\n",
    "    # 随即初始化值\n",
    "    vec = [random.randint(domain[i][0], domain[i][1]) for i in range(len(domain))]\n",
    "    \n",
    "    while T > 0.1:\n",
    "        # 选择一个索引值\n",
    "        i = random.randint(0, len(domain)-1)\n",
    "        # 选择一个改变索引值的方向\n",
    "        c = random.randint(-step, step)  # -1,0,1\n",
    "        # 构造新的解\n",
    "        vec_new = vec[:]\n",
    "        vec_new[i] += c\n",
    "        if (vec_new[i] < domain[i][0]):    # 判断越界情况\n",
    "            vec_new[i] = domain[i][0]\n",
    "        if (vec_new[i] > domain[i][1]):\n",
    "            vec_new[i] = domain[i][1]\n",
    "            \n",
    "        # 计算当前成本和新的成本\n",
    "        cost1 = self.schedulecost(vec)\n",
    "        cost2 = self.sechdulecost(vec_new)\n",
    "        \n",
    "        # 判断新的解是否由于原始解 或者 算法将以一定概率接受较差的解\n",
    "        if(cost2 < cost1 or random.random()<math.exp(-(cost2-cost1)/T)):\n",
    "            vec = vec_new\n",
    "     \n",
    "        T *= cool    # 温度冷却\n",
    "        print(vec_new[:], '代价:', self.schedulecost(vec_new))\n",
    "        \n",
    "    self.printschedule(vec)\n",
    "    print('模拟退火算法得到的最小代价是:', self.schedulecost(vec))\n",
    "    \n",
    "    return vec"
   ]
  },
  {
   "cell_type": "code",
   "execution_count": null,
   "metadata": {
    "collapsed": true
   },
   "outputs": [],
   "source": []
  }
 ],
 "metadata": {
  "kernelspec": {
   "display_name": "Python 3",
   "language": "python",
   "name": "python3"
  },
  "language_info": {
   "codemirror_mode": {
    "name": "ipython",
    "version": 3
   },
   "file_extension": ".py",
   "mimetype": "text/x-python",
   "name": "python",
   "nbconvert_exporter": "python",
   "pygments_lexer": "ipython3",
   "version": "3.6.1"
  }
 },
 "nbformat": 4,
 "nbformat_minor": 2
}
