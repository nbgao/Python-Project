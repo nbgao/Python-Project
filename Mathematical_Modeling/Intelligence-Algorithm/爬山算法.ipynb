{
 "cells": [
  {
   "cell_type": "code",
   "execution_count": 2,
   "metadata": {},
   "outputs": [],
   "source": [
    "import random\n",
    "\n",
    "# 变量范围\n",
    "domain = [(0,100), (0,100)]\n",
    "\n",
    "def hillclimb(self, domain):\n",
    "    # 随机产生一个航班序列作为初始种子\n",
    "    seed = [random.randint(domain[i][0], domain[i][1]) for i in range(len(domain))]\n",
    "    while 1:\n",
    "        neighbor = []\n",
    "        # 循环改变解的每一个值，产生一个临近解的列表\n",
    "        for i in range(len(domain)):\n",
    "            if seed[i] > domain[i][0]:\n",
    "                newneighbor = seed[0:i] + [seed[i]-1] + seed[i+1,:]\n",
    "                neighbor.append(newneighbor)\n",
    "            if seed[i] < domain[i][1]:\n",
    "                newneighbor = seed[0:i] + [seed[i]+1] + seed[i+1.:]\n",
    "                neighbor.append(newneighbor)\n",
    "                \n",
    "        # 对所有的临近解计算代价，排序，得到代价最小的解\n",
    "        neighbor_cost = sorted(\n",
    "        [(s, self.schedulecost(s)) for s in neighbor], key=lambda x: x[1])\n",
    "        \n",
    "        # 如果新的最小代价 > 原种子代价，则跳出循环\n",
    "        if neighbor_cost[0][1] > self.schedulecost(seed):\n",
    "            break;\n",
    "            \n",
    "        # 新的更小的临近解作为新的种子\n",
    "        seed = neighbor_cost[0][0]\n",
    "        print(\"newseed = \", seed[:], \"代价:\", self.schedulecost(seed))\n",
    "        \n",
    "    # 输出\n",
    "    self.printschedule(seed)\n",
    "    print(\"爬山法得到的解的最小代价是\", self.schedulecost(seed))\n",
    "    return seed"
   ]
  },
  {
   "cell_type": "code",
   "execution_count": null,
   "metadata": {
    "collapsed": true
   },
   "outputs": [],
   "source": []
  }
 ],
 "metadata": {
  "kernelspec": {
   "display_name": "Python 3",
   "language": "python",
   "name": "python3"
  },
  "language_info": {
   "codemirror_mode": {
    "name": "ipython",
    "version": 3
   },
   "file_extension": ".py",
   "mimetype": "text/x-python",
   "name": "python",
   "nbconvert_exporter": "python",
   "pygments_lexer": "ipython3",
   "version": "3.6.1"
  }
 },
 "nbformat": 4,
 "nbformat_minor": 2
}
