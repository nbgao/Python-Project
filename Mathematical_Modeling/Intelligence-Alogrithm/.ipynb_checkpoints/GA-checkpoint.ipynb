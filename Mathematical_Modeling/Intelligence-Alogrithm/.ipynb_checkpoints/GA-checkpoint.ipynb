{
 "cells": [
  {
   "cell_type": "code",
   "execution_count": 7,
   "metadata": {},
   "outputs": [],
   "source": [
    "import random\n",
    "\n",
    "'''\n",
    "popsize-种群数量 \n",
    "step-变异改变的大小\n",
    "mutprob-交叉和变异的比例\n",
    "elite-直接遗传的比例\n",
    "maxiter-最大迭代次数\n",
    "'''\n",
    "\n",
    "def geneticopimize(self, domain, popsize=50, step=1, mutprob=0.2, elite=0.2, maxiter=100):\n",
    "    \n",
    "    # Mutate\n",
    "    def mutate(vec):\n",
    "        i = random.randint(0,len(domain)-1)\n",
    "        if(random.random()<0.5 and vec[i]>domai[i][0]):\n",
    "            return vec[0:i] + [vec[i] - step] + vec[i+1:]\n",
    "        elif(vec[i] < domain[i][1]):\n",
    "            return vec[0:i] + [vec[i] + step] + vec[i+1:]\n",
    "        \n",
    "    # Crossover\n",
    "    def cross(r1, r2):\n",
    "        i = random.randint(0, len(domain)-1)\n",
    "        return r1[0:i] + re[1:]\n",
    "    \n",
    "    # Initpop\n",
    "    pop = []\n",
    "    for i in range(popsize):\n",
    "        vec = [random.randint(domain[i][0], domain[i][1]) for i in range(len(domain))]\n",
    "        pop.append(vec)\n",
    "    \n",
    "    # 每一代中有多少胜出者\n",
    "    toplite = int(elite * popsize)\n",
    "    \n",
    "    # Main\n",
    "    for i in range(maxiter):\n",
    "        scores = [(self.schedulecost(v), v) for v in pop]\n",
    "        scores.sort()\n",
    "        ranked = [v for (s,v) in scores]  # 按代价由小到大排序\n",
    "        \n",
    "        # 优质解遗传到下一代\n",
    "        pop = ranked[0:topelite]\n",
    "        \n",
    "        # 如果当前种群数量小于既定数量，则添加变异和交叉遗传\n",
    "        while(len(pop) < popsize):\n",
    "            # 随机数小于 mutprob 则变异，否则交叉\n",
    "            if(random.random() < mutprob):  # mutprob 控制交叉和变异比例\n",
    "                # 选择一个个体\n",
    "                c = random.randint(0, topelite)\n",
    "                # Mutate\n",
    "                pop.append(mutate(ranked[c]))\n",
    "            else:\n",
    "                # 随机选择两个个体进行交叉\n",
    "                c1 = random.randint(0, topelite)\n",
    "                c2 = random.randint(0, topelite)\n",
    "                pop.append(crossover(ranked[c1], ranked[c2]))\n",
    "        #输出当前种群中代价最小的解\n",
    "        print(scores[0][1], '代价:', scores[0][0])\n",
    "    self.printschedule(scores[0][1])\n",
    "    print('遗传算法求得最小代价:', scores[0][0])\n",
    "    \n",
    "    return scores[0][1]"
   ]
  },
  {
   "cell_type": "code",
   "execution_count": null,
   "metadata": {
    "collapsed": true
   },
   "outputs": [],
   "source": []
  }
 ],
 "metadata": {
  "kernelspec": {
   "display_name": "Python 3",
   "language": "python",
   "name": "python3"
  },
  "language_info": {
   "codemirror_mode": {
    "name": "ipython",
    "version": 3
   },
   "file_extension": ".py",
   "mimetype": "text/x-python",
   "name": "python",
   "nbconvert_exporter": "python",
   "pygments_lexer": "ipython3",
   "version": "3.6.1"
  }
 },
 "nbformat": 4,
 "nbformat_minor": 2
}
