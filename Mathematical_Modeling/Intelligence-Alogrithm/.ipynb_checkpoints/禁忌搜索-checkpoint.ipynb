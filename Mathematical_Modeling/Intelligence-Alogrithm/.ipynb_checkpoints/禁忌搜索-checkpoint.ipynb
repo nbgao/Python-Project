{
 "cells": [
  {
   "cell_type": "code",
   "execution_count": null,
   "metadata": {
    "collapsed": true
   },
   "outputs": [],
   "source": [
    "import random\n",
    "import copy\n",
    "\n",
    "N = 10    # 序列长度\n",
    "banLen = 500    # 禁忌表长度\n",
    "ITER = 1000    # 迭代次数\n",
    "INF = 1e10    # 无穷大\n",
    "\n",
    "def evaluate(order):\n",
    "    return 0\n",
    "\n",
    "def swap(order, i, j):\n",
    "    t = order[i]\n",
    "    order[i] = order[j]\n",
    "    order[j] = t\n",
    "\n"
   ]
  }
 ],
 "metadata": {
  "kernelspec": {
   "display_name": "Python 3",
   "language": "python",
   "name": "python3"
  },
  "language_info": {
   "codemirror_mode": {
    "name": "ipython",
    "version": 3
   },
   "file_extension": ".py",
   "mimetype": "text/x-python",
   "name": "python",
   "nbconvert_exporter": "python",
   "pygments_lexer": "ipython3",
   "version": "3.6.1"
  }
 },
 "nbformat": 4,
 "nbformat_minor": 2
}
